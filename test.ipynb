{
 "cells": [
  {
   "metadata": {},
   "cell_type": "markdown",
   "source": "### 2024-12-19",
   "id": "3946aab2e91336ae"
  },
  {
   "metadata": {},
   "cell_type": "markdown",
   "source": "### 파이썬 기본 문법",
   "id": "1cad459167b59a09"
  },
  {
   "metadata": {
    "ExecuteTime": {
     "end_time": "2024-12-19T02:27:06.324036Z",
     "start_time": "2024-12-19T02:27:06.321935Z"
    }
   },
   "cell_type": "code",
   "source": "print(\"Hello World\", \"Hi\", sep='!!!')",
   "id": "491b219f3bccf336",
   "outputs": [
    {
     "name": "stdout",
     "output_type": "stream",
     "text": [
      "Hello World!!!Hi\n"
     ]
    }
   ],
   "execution_count": 24
  },
  {
   "metadata": {
    "collapsed": true,
    "ExecuteTime": {
     "end_time": "2024-12-19T02:26:26.874764Z",
     "start_time": "2024-12-19T02:26:26.872453Z"
    }
   },
   "cell_type": "code",
   "outputs": [
    {
     "name": "stdout",
     "output_type": "stream",
     "text": [
      "Hello World Hi\n"
     ]
    }
   ],
   "execution_count": 21,
   "source": [
    "print(\"Hello World\", end=' ')\n",
    "print(\"Hi\")"
   ],
   "id": "initial_id"
  },
  {
   "metadata": {
    "ExecuteTime": {
     "end_time": "2024-12-19T02:26:27.849415Z",
     "start_time": "2024-12-19T02:26:27.846909Z"
    }
   },
   "cell_type": "code",
   "outputs": [
    {
     "data": {
      "text/plain": [
       "int"
      ]
     },
     "execution_count": 22,
     "metadata": {},
     "output_type": "execute_result"
    }
   ],
   "execution_count": 22,
   "source": "type(123)",
   "id": "1a9674e53bb917a"
  },
  {
   "metadata": {
    "ExecuteTime": {
     "end_time": "2024-12-19T02:24:47.988953Z",
     "start_time": "2024-12-19T02:24:47.986910Z"
    }
   },
   "cell_type": "code",
   "outputs": [
    {
     "name": "stdout",
     "output_type": "stream",
     "text": [
      "Youlim 1\n"
     ]
    }
   ],
   "execution_count": 18,
   "source": [
    "name = 'Youlim'\n",
    "age = 1\n",
    "\n",
    "print(name, age)"
   ],
   "id": "12e7e7ec1048e55b"
  },
  {
   "metadata": {
    "ExecuteTime": {
     "end_time": "2024-12-19T02:29:24.086827Z",
     "start_time": "2024-12-19T02:29:24.084827Z"
    }
   },
   "cell_type": "code",
   "source": [
    "check = 1\n",
    "uncheck = 0\n",
    "\n",
    "print(bool(check))\n",
    "print(bool(uncheck))"
   ],
   "id": "adc48f97c73f442e",
   "outputs": [
    {
     "name": "stdout",
     "output_type": "stream",
     "text": [
      "True\n",
      "False\n"
     ]
    }
   ],
   "execution_count": 28
  },
  {
   "metadata": {
    "ExecuteTime": {
     "end_time": "2024-12-19T03:03:07.855573Z",
     "start_time": "2024-12-19T03:03:07.853186Z"
    }
   },
   "cell_type": "code",
   "source": [
    "## 합, 차, 곱, 나눗셈, 몫, 나머지 출력\n",
    "value = 4\n",
    "value2 = 2\n",
    "\n",
    "print(value + value2)\n",
    "print(value - value2)\n",
    "print(value * value2)\n",
    "print(value / value2)\n",
    "print(value // value2)\n",
    "print(value % value2)"
   ],
   "id": "c9dcccaa38ca6b58",
   "outputs": [
    {
     "name": "stdout",
     "output_type": "stream",
     "text": [
      "6\n",
      "2\n",
      "8\n",
      "2.0\n",
      "2\n",
      "0\n"
     ]
    }
   ],
   "execution_count": 37
  },
  {
   "metadata": {
    "ExecuteTime": {
     "end_time": "2024-12-19T03:10:32.553268Z",
     "start_time": "2024-12-19T03:10:32.550461Z"
    }
   },
   "cell_type": "code",
   "source": [
    "num = 1234\n",
    "\n",
    "print(num // 1000)\n",
    "print((num // 100) % 10)\n",
    "print((num // 10) % 10)\n",
    "print(num % 10)\n"
   ],
   "id": "7c8fddb35b945ffd",
   "outputs": [
    {
     "name": "stdout",
     "output_type": "stream",
     "text": [
      "1000의 자리: 1\n",
      "100의 자리: 2\n",
      "10의 자리: 3\n",
      "1의 자리: 4\n"
     ]
    }
   ],
   "execution_count": 54
  },
  {
   "metadata": {
    "ExecuteTime": {
     "end_time": "2024-12-19T03:13:03.541011Z",
     "start_time": "2024-12-19T03:13:03.538979Z"
    }
   },
   "cell_type": "code",
   "source": [
    "# 업그레이드 미션 1\n",
    "pay = 12345678\n",
    "\n",
    "# 100미만 절사 처리해주세요.\n",
    "print(pay // 100)"
   ],
   "id": "6baa67d9affee264",
   "outputs": [
    {
     "name": "stdout",
     "output_type": "stream",
     "text": [
      "123456\n"
     ]
    }
   ],
   "execution_count": 57
  },
  {
   "metadata": {
    "ExecuteTime": {
     "end_time": "2024-12-19T05:26:41.645084Z",
     "start_time": "2024-12-19T05:26:41.643050Z"
    }
   },
   "cell_type": "code",
   "source": [
    "# 변수 a에 저장된 값의 b자리 값을 계산하여 변수 c에 저장하는 코드를 설계\n",
    "# a에 1234가 저장되어 있고 b가 1일 경우 첫번째 자리값인 4가 c에 저장\n",
    "# a가 1234 일때 b가 4일 경우 4번째 자리값인 1이 c에 저장되어야 함다.\n",
    "\n",
    "a =1234\n",
    "b = 4\n",
    "\n",
    "print((a % (10 ** b)) // (10 ** (b - 1)))\n"
   ],
   "id": "a7a03c92dafa01aa",
   "outputs": [
    {
     "name": "stdout",
     "output_type": "stream",
     "text": [
      "1\n"
     ]
    }
   ],
   "execution_count": 97
  },
  {
   "metadata": {
    "ExecuteTime": {
     "end_time": "2024-12-19T06:01:30.706918Z",
     "start_time": "2024-12-19T06:01:30.703539Z"
    }
   },
   "cell_type": "code",
   "source": [
    "str1 = '\\'낮말\\'은 새가 듣고 \\'밤말\\'은 쥐가 듣는다.'\n",
    "print(str1)\n",
    "len(str1)\n",
    "print(str1.index('는다'))\n",
    "var = str1[21:24]\n",
    "print(var)\n",
    "str1[:3]"
   ],
   "id": "3d6efcf1dbafc3fd",
   "outputs": [
    {
     "name": "stdout",
     "output_type": "stream",
     "text": [
      "'낮말'은 새가 듣고 '밤말'은 쥐가 듣는다.\n",
      "22\n",
      "듣는다\n"
     ]
    },
    {
     "data": {
      "text/plain": [
       "\"'낮말\""
      ]
     },
     "execution_count": 131,
     "metadata": {},
     "output_type": "execute_result"
    }
   ],
   "execution_count": 131
  },
  {
   "metadata": {
    "ExecuteTime": {
     "end_time": "2024-12-19T06:20:34.074379Z",
     "start_time": "2024-12-19T06:20:34.071989Z"
    }
   },
   "cell_type": "code",
   "source": [
    "str1 = 'Life is too short, You need Python'\n",
    "\n",
    "str1[28] + str1[6] + str1[19]"
   ],
   "id": "5d161cf55b31c2e3",
   "outputs": [
    {
     "data": {
      "text/plain": [
       "'PsY'"
      ]
     },
     "execution_count": 151,
     "metadata": {},
     "output_type": "execute_result"
    }
   ],
   "execution_count": 151
  },
  {
   "metadata": {
    "ExecuteTime": {
     "end_time": "2024-12-19T06:13:34.470494Z",
     "start_time": "2024-12-19T06:13:32.387648Z"
    }
   },
   "cell_type": "code",
   "source": "print('당신의 IQ는 ', input('몸무게를 입력하세요'), \"입니다.\")",
   "id": "a93de474bc44b3ba",
   "outputs": [
    {
     "name": "stdout",
     "output_type": "stream",
     "text": [
      "당신의 IQ는  11 입니다.\n"
     ]
    }
   ],
   "execution_count": 142
  },
  {
   "metadata": {
    "ExecuteTime": {
     "end_time": "2024-12-19T06:13:25.261291Z",
     "start_time": "2024-12-19T06:13:21.082821Z"
    }
   },
   "cell_type": "code",
   "source": "print('두 정수의 합은: ', int(input('첫번째 정수')) + int(input('두번째 정수')), '입니다.')",
   "id": "e5f9e00dde0038b9",
   "outputs": [
    {
     "name": "stdout",
     "output_type": "stream",
     "text": [
      "두 정수의 합은:  5 입니다.\n"
     ]
    }
   ],
   "execution_count": 141
  },
  {
   "metadata": {
    "ExecuteTime": {
     "end_time": "2024-12-19T06:17:50.576607Z",
     "start_time": "2024-12-19T06:17:44.167175Z"
    }
   },
   "cell_type": "code",
   "source": "print('삼각형의 넓이: ', int(input('높이를 입력하세요')) * int(input('밑변을 입력하세요'))/2, '입니다.')",
   "id": "eeb4761adfbecc16",
   "outputs": [
    {
     "name": "stdout",
     "output_type": "stream",
     "text": [
      "삼각형의 넓이:  100.0 입니다.\n"
     ]
    }
   ],
   "execution_count": 146
  },
  {
   "metadata": {
    "ExecuteTime": {
     "end_time": "2024-12-19T06:21:23.681092Z",
     "start_time": "2024-12-19T06:21:19.598380Z"
    }
   },
   "cell_type": "code",
   "source": [
    "menu1 = int(input('떡볶이 몇개'))\n",
    "menu2 = int(input('김밥 몇개'))\n",
    "menu3 = int(input('라면 몇개'))\n",
    "\n",
    "print('총 가격: ', (3500*menu1) + (2500*menu3) + (3000*menu2), '입니다.')"
   ],
   "id": "fb9fc57b10de790e",
   "outputs": [
    {
     "name": "stdout",
     "output_type": "stream",
     "text": [
      "총 가격:  9000 입니다.\n"
     ]
    }
   ],
   "execution_count": 152
  },
  {
   "metadata": {
    "ExecuteTime": {
     "end_time": "2024-12-19T06:45:59.248011Z",
     "start_time": "2024-12-19T06:45:55.364836Z"
    }
   },
   "cell_type": "code",
   "source": [
    "# 두수를 입력받아 곱 계산\n",
    "# f-string 이용\n",
    "\n",
    "a = float(input(\"첫번째 값: \"))\n",
    "b = float(input(\"두번째 값: \"))\n",
    "\n",
    "print(f'{a:.2f} * {b:.3f} = {a*b:,.2f}')"
   ],
   "id": "73a60b7d29d0394",
   "outputs": [
    {
     "name": "stdout",
     "output_type": "stream",
     "text": [
      "1.20 * 3.200 = 3.84\n"
     ]
    }
   ],
   "execution_count": 156
  },
  {
   "metadata": {
    "ExecuteTime": {
     "end_time": "2024-12-19T07:07:44.631788Z",
     "start_time": "2024-12-19T07:07:40.939055Z"
    }
   },
   "cell_type": "code",
   "source": [
    "# 반지금 실수값을 입력 받아, 원의 둘레와 넓이 계산\n",
    "# 소숫점 이하 1자리로 표시, 원의 넓이는 천단위 쉼표(,) 표시\n",
    "# f-string 이용\n",
    "\n",
    "r = float(input(\"반지름 입력(cm): \"))\n",
    "\n",
    "print(f'반지름: {r:.1f}cm')\n",
    "print(f'원의 둘레: {2*3.14*r:.1f}cm')\n",
    "print(f'원의 넓이: {3.14*r**2:.1f}cm^2')"
   ],
   "id": "1aef24cc817b5c9f",
   "outputs": [
    {
     "name": "stdout",
     "output_type": "stream",
     "text": [
      "반지름: 150.7cm\n",
      "원의 둘레: 946.4cm\n",
      "원의 넓이: 71309.0cm^2\n"
     ]
    }
   ],
   "execution_count": 159
  },
  {
   "metadata": {
    "ExecuteTime": {
     "end_time": "2024-12-19T07:23:06.558344Z",
     "start_time": "2024-12-19T07:23:00.459001Z"
    }
   },
   "cell_type": "code",
   "source": [
    "r = float(input(\"반지름 입력(cm): \"))\n",
    "p = 3.14\n",
    "\n",
    "print(f'{p:.2f}*{r:.1f}*{r:.1f} = {p*r**2:.2f}')"
   ],
   "id": "b77c8f604471a51f",
   "outputs": [
    {
     "name": "stdout",
     "output_type": "stream",
     "text": [
      "3.14*150.7*150.7 = 71309.05\n"
     ]
    }
   ],
   "execution_count": 161
  },
  {
   "metadata": {
    "ExecuteTime": {
     "end_time": "2024-12-19T07:32:35.021818Z",
     "start_time": "2024-12-19T07:32:35.019355Z"
    }
   },
   "cell_type": "code",
   "source": [
    "# money = True\n",
    "money = False\n",
    "\n",
    "if money:\n",
    "  print('나 돈있어')\n",
    "else:\n",
    "  print('돈이 없네')"
   ],
   "id": "6dfeac7ad73a004f",
   "outputs": [
    {
     "name": "stdout",
     "output_type": "stream",
     "text": [
      "돈이 없네\n"
     ]
    }
   ],
   "execution_count": 165
  },
  {
   "metadata": {
    "ExecuteTime": {
     "end_time": "2024-12-19T07:40:35.971174Z",
     "start_time": "2024-12-19T07:40:35.968224Z"
    }
   },
   "cell_type": "code",
   "source": [
    "result1 = 10 > 4\n",
    "result2 = False\n",
    "result3 = result1 and result2\n",
    "\n",
    "if result3:\n",
    "  print('this is AND')\n",
    "result3 = result1 or result2\n",
    "if result3:\n",
    "  print('this is OR')"
   ],
   "id": "dc978c870cbcf97e",
   "outputs": [
    {
     "name": "stdout",
     "output_type": "stream",
     "text": [
      "this is OR\n"
     ]
    }
   ],
   "execution_count": 166
  },
  {
   "metadata": {
    "ExecuteTime": {
     "end_time": "2024-12-19T07:50:25.090695Z",
     "start_time": "2024-12-19T07:50:25.088673Z"
    }
   },
   "cell_type": "code",
   "source": [
    "money = 10-10\n",
    "\n",
    "if money>1:\n",
    "  print('나 돈있어')\n",
    "else:\n",
    "  print('친구야 배고팡')"
   ],
   "id": "2198140dd1aaabba",
   "outputs": [
    {
     "name": "stdout",
     "output_type": "stream",
     "text": [
      "친구야 배고팡\n"
     ]
    }
   ],
   "execution_count": 177
  },
  {
   "metadata": {
    "ExecuteTime": {
     "end_time": "2024-12-19T07:45:42.949084Z",
     "start_time": "2024-12-19T07:45:41.216075Z"
    }
   },
   "cell_type": "code",
   "source": [
    "intNum = int(input('숫자 입력'))\n",
    "\n",
    "if intNum%2==0:\n",
    "  print('짝수임')\n",
    "else:\n",
    "  print('홀수임')"
   ],
   "id": "a2aa123afdd3d5b2",
   "outputs": [
    {
     "name": "stdout",
     "output_type": "stream",
     "text": [
      "짝수임\n"
     ]
    }
   ],
   "execution_count": 175
  },
  {
   "metadata": {
    "ExecuteTime": {
     "end_time": "2024-12-19T08:12:17.198360Z",
     "start_time": "2024-12-19T08:12:13.268215Z"
    }
   },
   "cell_type": "code",
   "source": [
    "# 점수가 90점 이상이면 'A' 출력, 점수가 80점 이상 ~ 90점 미만이면 'B' 출력 점수가 70점 이상 ~ 80점 미만이면 'C' 출력, 점수가 60점 이상 ~ 70점 미만이면 'D' 출력 점수가 60점 미만이면 'F' 출력\n",
    "score = int(input(\"점수를 입력하세요: \"))\n",
    "\n",
    "if score >= 90:\n",
    "    print('A')\n",
    "elif score >= 80:\n",
    "    print('B')\n",
    "elif score >= 70:\n",
    "    print('C')\n",
    "elif score >= 60:\n",
    "    print('D')\n",
    "else:\n",
    "    print('F')\n"
   ],
   "id": "dc874a92ff467db7",
   "outputs": [
    {
     "name": "stdout",
     "output_type": "stream",
     "text": [
      "A\n"
     ]
    }
   ],
   "execution_count": 179
  },
  {
   "metadata": {
    "ExecuteTime": {
     "end_time": "2024-12-19T08:19:05.279405Z",
     "start_time": "2024-12-19T08:18:55.689275Z"
    }
   },
   "cell_type": "code",
   "outputs": [
    {
     "name": "stdout",
     "output_type": "stream",
     "text": [
      "언제든지 살수있습니다.\n"
     ]
    }
   ],
   "execution_count": 181,
   "source": [
    "# 출생 연도 끝자리와 나이를 입력하여 마스크 구매 가능한 요일을 출력하세요. 단 65세 이상은 언제든지 구매 가능\n",
    "\n",
    "year_last_digit = int(input(\"출생 연도 끝자리를 입력하세요: \"))\n",
    "age = int(input(\"나이를 입력하세요: \"))\n",
    "\n",
    "if age < 65:\n",
    "  if year_last_digit in [1, 6]:\n",
    "      print(\"월요일에 마스크 구매 가능합니다.\")\n",
    "  elif year_last_digit in [2, 7]:\n",
    "      print(\"화요일에 마스크 구매 가능합니다.\")\n",
    "  elif year_last_digit in [3, 8]:\n",
    "      print(\"수요일에 마스크 구매 가능합니다.\")\n",
    "  elif year_last_digit in [4, 9]:\n",
    "      print(\"목요일에 마스크 구매 가능합니다.\")\n",
    "  elif year_last_digit in [5, 0]:\n",
    "      print(\"금요일에 마스크 구매 가능합니다.\")\n",
    "else:\n",
    "    print(\"언제든지 살수있습니다.\")"
   ],
   "id": "f6c78a057a84cda5"
  },
  {
   "metadata": {
    "ExecuteTime": {
     "end_time": "2024-12-19T08:33:07.125518Z",
     "start_time": "2024-12-19T08:33:04.260738Z"
    }
   },
   "cell_type": "code",
   "source": [
    "# 차량 2부제(홀짝제) 실시로, 차량번호가 홀수이면 홀수날, 짝수이면 짝수날 운행가능합니다. 일(Day)와 차량번호를 입력하여 운행 여부를 출력하세요. 일(day): 1 ~ 31 이외의 값이 입력되면 오류메시지 출력하고 프로그램 종료, 차량번호: 4자리가 입력되지 않으면 오류메시지 출력하고 프로그램 종료.\n",
    "day = int(input(\"오늘은 몇 일? (1 ~ 31): \"))\n",
    "car_number = input(\"차량 번호를 입력하세요 (4자리): \")\n",
    "\n",
    "if day < 1 or day > 31:\n",
    "  print(\"오류: 날짜는 1 ~ 31 사이여야 합니다.\")\n",
    "elif len(car_number) != 4 or not car_number.isdigit():\n",
    "  print(\"오류: 차량 번호는 4자리 숫자여야 합니다.\")\n",
    "else:\n",
    "  if int(car_number[-1]) % 2 == 0:\n",
    "    print('짝수 차량 운행날입니다.')\n",
    "    print('운행 가능 합니다.')\n",
    "  else:\n",
    "    print('홀수 차량 운행날입니다.')\n",
    "    print('운행 가능 합니다.')\n"
   ],
   "id": "160a356b87d0b085",
   "outputs": [
    {
     "name": "stdout",
     "output_type": "stream",
     "text": [
      "짝수 차량 운행날입니다.\n",
      "운행 가능 합니다.\n",
      "4\n"
     ]
    }
   ],
   "execution_count": 197
  },
  {
   "metadata": {
    "ExecuteTime": {
     "end_time": "2024-12-19T08:31:20.139310Z",
     "start_time": "2024-12-19T08:31:09.532776Z"
    }
   },
   "cell_type": "code",
   "source": [
    "# 키와 몸무게를 입력받아 BMI 지수를 계산하고 비만 유무를 출력하는 프로그램을 작성하세요.\n",
    "height = float(input(\"키를 입력하세요 (cm): \")) / 100\n",
    "weight = float(input(\"몸무게를 입력하세요 (kg): \"))\n",
    "bmi = weight / (height ** 2)\n",
    "\n",
    "print(f\"BMI 지수: {bmi:.2f}\")\n",
    "if bmi < 18.5:\n",
    "    print(\"저체중입니다.\")\n",
    "elif 18.5 <= bmi < 24.9:\n",
    "    print(\"정상 체중입니다.\")\n",
    "elif 25 <= bmi < 29.9:\n",
    "    print(\"과체중입니다.\")\n",
    "else:\n",
    "    print(\"비만입니다.\")"
   ],
   "id": "31ce5586ec019bbe",
   "outputs": [
    {
     "name": "stdout",
     "output_type": "stream",
     "text": [
      "BMI 지수: 18.75\n",
      "정상 체중입니다.\n"
     ]
    }
   ],
   "execution_count": 193
  }
 ],
 "metadata": {
  "kernelspec": {
   "display_name": "Python 3",
   "language": "python",
   "name": "python3"
  },
  "language_info": {
   "codemirror_mode": {
    "name": "ipython",
    "version": 2
   },
   "file_extension": ".py",
   "mimetype": "text/x-python",
   "name": "python",
   "nbconvert_exporter": "python",
   "pygments_lexer": "ipython2",
   "version": "2.7.6"
  }
 },
 "nbformat": 4,
 "nbformat_minor": 5
}
