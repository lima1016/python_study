{
 "cells": [
  {
   "metadata": {},
   "cell_type": "markdown",
   "source": "# 2024-12-20",
   "id": "3e264289f5c8cfc0"
  },
  {
   "metadata": {
    "collapsed": true,
    "ExecuteTime": {
     "end_time": "2024-12-20T00:24:49.080631Z",
     "start_time": "2024-12-20T00:24:45.513972Z"
    }
   },
   "cell_type": "code",
   "source": [
    "name = input('이름을 입력하세요: ')\n",
    "count = int(input('방문 횟수를 입력하세요: '))\n",
    "\n",
    "print(name, \"님 안녕하세요?\")\n",
    "print(\"오늘로\", count+1, \"회 방문 하셨습니다.\")"
   ],
   "id": "initial_id",
   "outputs": [
    {
     "name": "stdout",
     "output_type": "stream",
     "text": [
      "ㅓ 님 안녕하세요?\n",
      "오늘로 3 회 방문 하셨습니다.\n"
     ]
    }
   ],
   "execution_count": 3
  },
  {
   "metadata": {
    "ExecuteTime": {
     "end_time": "2024-12-20T00:41:45.015223Z",
     "start_time": "2024-12-20T00:41:45.012656Z"
    }
   },
   "cell_type": "code",
   "source": [
    "text = '991225-1234567'\n",
    "\n",
    "gender = text[7:8]\n",
    "year = text[0:2]\n",
    "month = text[2:4]\n",
    "day = text[4:6]\n",
    "birth = text[0:6]\n",
    "last = text[7::]\n",
    "\n",
    "print('gender: ', gender)\n",
    "print('year: ', year)\n",
    "print('month: ', month)\n",
    "print('day: ', day)\n",
    "print('birth: ', birth)\n",
    "print('last: ', last)"
   ],
   "id": "f6fa7b8029f76d68",
   "outputs": [
    {
     "name": "stdout",
     "output_type": "stream",
     "text": [
      "gender:  1\n",
      "year:  99\n",
      "month:  12\n",
      "day:  25\n",
      "birth:  991225\n",
      "last:  1234567\n"
     ]
    }
   ],
   "execution_count": 16
  },
  {
   "metadata": {
    "ExecuteTime": {
     "end_time": "2024-12-20T00:46:31.964858Z",
     "start_time": "2024-12-20T00:46:31.962626Z"
    }
   },
   "cell_type": "code",
   "source": [
    "string = ' 이번역은 역삼역, 역삼역입니다. 앞으로 읽어도 역삼역 거꾸로 읽어도 역삼역'\n",
    "\n",
    "reverse = string[::-1]\n",
    "print(reverse)"
   ],
   "id": "29c3e23995382c89",
   "outputs": [
    {
     "name": "stdout",
     "output_type": "stream",
     "text": [
      "역삼역 도어읽 로꾸거 역삼역 도어읽 로으앞 .다니입역삼역 ,역삼역 은역번이 \n"
     ]
    }
   ],
   "execution_count": 19
  },
  {
   "metadata": {
    "ExecuteTime": {
     "end_time": "2024-12-20T01:23:27.966483Z",
     "start_time": "2024-12-20T01:23:19.406303Z"
    }
   },
   "cell_type": "code",
   "source": [
    "\n",
    "user_id = 'admin'\n",
    "user_pw = '1234'\n",
    "\n",
    "myid = input('아이디를 입력해주세요')\n",
    "\n",
    "if myid == user_id:\n",
    "  print('반갑습니다', myid, '님')\n",
    "  pwd = input('비밀번호를 입력해주세요')\n",
    "  if pwd == user_pw:\n",
    "    print(myid, \"님 로그인에 성공하셨습니다.\")\n",
    "  else:\n",
    "    print('로그인에 실패하셨습니다.')\n",
    "else:\n",
    "  print('없는 ID 입니다.')"
   ],
   "id": "b89be230bf165a0b",
   "outputs": [
    {
     "name": "stdout",
     "output_type": "stream",
     "text": [
      "반갑습니다 admin 님\n",
      "로그인에 실패하셨습니다.\n"
     ]
    }
   ],
   "execution_count": 25
  },
  {
   "metadata": {
    "ExecuteTime": {
     "end_time": "2024-12-20T02:11:15.629654Z",
     "start_time": "2024-12-20T02:11:15.627322Z"
    }
   },
   "cell_type": "code",
   "source": [
    "i = 0\n",
    "while i < 5:\n",
    "  i = i + 1\n",
    "  print(f'{i} 번째 출력')"
   ],
   "id": "ff0c0b3bd7dab4f",
   "outputs": [
    {
     "name": "stdout",
     "output_type": "stream",
     "text": [
      "1 번째 출력\n",
      "2 번째 출력\n",
      "3 번째 출력\n",
      "4 번째 출력\n",
      "5 번째 출력\n"
     ]
    }
   ],
   "execution_count": 27
  },
  {
   "metadata": {
    "ExecuteTime": {
     "end_time": "2024-12-20T02:16:07.578438Z",
     "start_time": "2024-12-20T02:16:07.576174Z"
    }
   },
   "cell_type": "code",
   "source": [
    "i = 0\n",
    "while i < 20:\n",
    "  i += 1\n",
    "  print(f'{i} 번째 출력')"
   ],
   "id": "e4cbb11a517ca61b",
   "outputs": [
    {
     "name": "stdout",
     "output_type": "stream",
     "text": [
      "1 번째 출력\n",
      "2 번째 출력\n",
      "3 번째 출력\n",
      "4 번째 출력\n",
      "5 번째 출력\n",
      "6 번째 출력\n",
      "7 번째 출력\n",
      "8 번째 출력\n",
      "9 번째 출력\n",
      "10 번째 출력\n",
      "11 번째 출력\n",
      "12 번째 출력\n",
      "13 번째 출력\n",
      "14 번째 출력\n",
      "15 번째 출력\n",
      "16 번째 출력\n",
      "17 번째 출력\n",
      "18 번째 출력\n",
      "19 번째 출력\n",
      "20 번째 출력\n"
     ]
    }
   ],
   "execution_count": 29
  },
  {
   "metadata": {
    "ExecuteTime": {
     "end_time": "2024-12-20T02:20:16.945229Z",
     "start_time": "2024-12-20T02:20:15.637874Z"
    }
   },
   "cell_type": "code",
   "source": [
    "number = int(input('정수를 입력해주세요.'))\n",
    "i = 0\n",
    "total = 0\n",
    "\n",
    "while i < number :\n",
    "  i += 1\n",
    "  total += i\n",
    "\n",
    "print(f'합: {total}')"
   ],
   "id": "c5f5dfb155776bf6",
   "outputs": [
    {
     "name": "stdout",
     "output_type": "stream",
     "text": [
      "합: 55\n"
     ]
    }
   ],
   "execution_count": 34
  },
  {
   "metadata": {
    "ExecuteTime": {
     "end_time": "2024-12-20T02:24:19.378905Z",
     "start_time": "2024-12-20T02:24:18.230127Z"
    }
   },
   "cell_type": "code",
   "source": [
    "number2 = int(input('정수를 입력해주세요.'))\n",
    "i2 = 1\n",
    "total2 = 1\n",
    "\n",
    "while i2 <= number2 :\n",
    "  total2 *= i2\n",
    "  i2 += 1\n",
    "\n",
    "print(f'모든 수의 곱: {total2}')"
   ],
   "id": "19a848e34d206e43",
   "outputs": [
    {
     "name": "stdout",
     "output_type": "stream",
     "text": [
      "모든 수의 곱: 6\n"
     ]
    }
   ],
   "execution_count": 42
  },
  {
   "metadata": {
    "ExecuteTime": {
     "end_time": "2024-12-20T02:25:24.262502Z",
     "start_time": "2024-12-20T02:25:23.278604Z"
    }
   },
   "cell_type": "code",
   "source": [
    "number = int(input('정수를 입력해주세요.'))\n",
    "i = 0\n",
    "total = 0\n",
    "\n",
    "while i < number :\n",
    "  i += 1\n",
    "  if i % 2 == 0:\n",
    "    total += i\n",
    "\n",
    "print(f'모든 짝수의 합: {total}')"
   ],
   "id": "25ce468dc652f4b1",
   "outputs": [
    {
     "name": "stdout",
     "output_type": "stream",
     "text": [
      "모든 짝수의 합: 30\n"
     ]
    }
   ],
   "execution_count": 45
  },
  {
   "metadata": {
    "ExecuteTime": {
     "end_time": "2024-12-20T02:42:19.853458Z",
     "start_time": "2024-12-20T02:42:16.311603Z"
    }
   },
   "cell_type": "code",
   "source": [
    "prompt = '''\n",
    "1. ADD\n",
    "2. DEL\n",
    "3. QUIT\n",
    "'''\n",
    "\n",
    "input_num = input(prompt)\n",
    "\n",
    "while input_num != '3':\n",
    "  input_num = input(prompt)"
   ],
   "id": "2a96e39dd9f915a8",
   "outputs": [],
   "execution_count": 46
  },
  {
   "metadata": {
    "ExecuteTime": {
     "end_time": "2024-12-20T03:14:15.874226Z",
     "start_time": "2024-12-20T03:14:12.050948Z"
    }
   },
   "cell_type": "code",
   "source": [
    "total3 = 0\n",
    "input_sum = int(input())\n",
    "\n",
    "for test in range(1, input_sum+1):\n",
    "  total3 += test\n",
    "  print(\"Hi\", test)\n",
    "print(total3)"
   ],
   "id": "d029d4337565e669",
   "outputs": [
    {
     "name": "stdout",
     "output_type": "stream",
     "text": [
      "Hi 1\n",
      "Hi 2\n",
      "Hi 3\n",
      "Hi 4\n",
      "Hi 5\n",
      "Hi 6\n",
      "Hi 7\n",
      "Hi 8\n",
      "Hi 9\n",
      "Hi 10\n",
      "55\n"
     ]
    }
   ],
   "execution_count": 70
  },
  {
   "metadata": {
    "ExecuteTime": {
     "end_time": "2024-12-20T03:10:08.778870Z",
     "start_time": "2024-12-20T03:10:08.776475Z"
    }
   },
   "cell_type": "code",
   "source": [
    "for test in range(1, 11, 2):\n",
    "  print(\"Hi\", test)"
   ],
   "id": "e9c803fb0fcf2b43",
   "outputs": [
    {
     "name": "stdout",
     "output_type": "stream",
     "text": [
      "Hi 1\n",
      "Hi 3\n",
      "Hi 5\n",
      "Hi 7\n",
      "Hi 9\n"
     ]
    }
   ],
   "execution_count": 60
  },
  {
   "metadata": {
    "ExecuteTime": {
     "end_time": "2024-12-20T03:10:17.519703Z",
     "start_time": "2024-12-20T03:10:17.517696Z"
    }
   },
   "cell_type": "code",
   "source": [
    "for test in range(11, 1, -2):\n",
    "  print(\"Hi\", test)"
   ],
   "id": "9b98da8a7609e152",
   "outputs": [
    {
     "name": "stdout",
     "output_type": "stream",
     "text": [
      "Hi 11\n",
      "Hi 9\n",
      "Hi 7\n",
      "Hi 5\n",
      "Hi 3\n"
     ]
    }
   ],
   "execution_count": 61
  },
  {
   "metadata": {
    "ExecuteTime": {
     "end_time": "2024-12-20T03:10:25.833373Z",
     "start_time": "2024-12-20T03:10:25.830925Z"
    }
   },
   "cell_type": "code",
   "source": [
    "for test in range(11):\n",
    "  print(\"Hi\", test)"
   ],
   "id": "ee3584c507f41a9",
   "outputs": [
    {
     "name": "stdout",
     "output_type": "stream",
     "text": [
      "Hi 0\n",
      "Hi 1\n",
      "Hi 2\n",
      "Hi 3\n",
      "Hi 4\n",
      "Hi 5\n",
      "Hi 6\n",
      "Hi 7\n",
      "Hi 8\n",
      "Hi 9\n",
      "Hi 10\n"
     ]
    }
   ],
   "execution_count": 62
  },
  {
   "metadata": {
    "ExecuteTime": {
     "end_time": "2024-12-20T03:22:18.111802Z",
     "start_time": "2024-12-20T03:22:17.200800Z"
    }
   },
   "cell_type": "code",
   "source": [
    "input_num = int(input())\n",
    "\n",
    "for i in range(1, 10):\n",
    "  print(input_num, \"*\", i, \"=\", input_num*i)"
   ],
   "id": "49ce32a63b8e4792",
   "outputs": [
    {
     "name": "stdout",
     "output_type": "stream",
     "text": [
      "4 * 1 = 4\n",
      "4 * 2 = 8\n",
      "4 * 3 = 12\n",
      "4 * 4 = 16\n",
      "4 * 5 = 20\n",
      "4 * 6 = 24\n",
      "4 * 7 = 28\n",
      "4 * 8 = 32\n",
      "4 * 9 = 36\n"
     ]
    }
   ],
   "execution_count": 72
  },
  {
   "metadata": {
    "ExecuteTime": {
     "end_time": "2024-12-20T03:23:35.274717Z",
     "start_time": "2024-12-20T03:23:34.233431Z"
    }
   },
   "cell_type": "code",
   "source": [
    "input_num = int(input())\n",
    "ii = 1\n",
    "\n",
    "while ii < 10:\n",
    "  print(input_num, \"*\", ii, \"=\", input_num*ii)\n",
    "  ii += 1"
   ],
   "id": "c6351273be526106",
   "outputs": [
    {
     "name": "stdout",
     "output_type": "stream",
     "text": [
      "4 * 1 = 4\n",
      "4 * 2 = 8\n",
      "4 * 3 = 12\n",
      "4 * 4 = 16\n",
      "4 * 5 = 20\n",
      "4 * 6 = 24\n",
      "4 * 7 = 28\n",
      "4 * 8 = 32\n",
      "4 * 9 = 36\n"
     ]
    }
   ],
   "execution_count": 77
  },
  {
   "metadata": {
    "ExecuteTime": {
     "end_time": "2024-12-20T06:36:50.723704Z",
     "start_time": "2024-12-20T06:36:47.959779Z"
    }
   },
   "cell_type": "code",
   "source": [
    "input_num = int(input())\n",
    "\n",
    "for i in range(1, input_num):\n",
    "    for j in range(1, 10):\n",
    "      print(f'{i+1} * {j} = {(i+1)*j}')"
   ],
   "id": "f8ca2d045e1b6c14",
   "outputs": [
    {
     "name": "stdout",
     "output_type": "stream",
     "text": [
      "2 * 1 =   2\n",
      "2 * 2 =   4\n",
      "2 * 3 =   6\n",
      "2 * 4 =   8\n",
      "2 * 5 =  10\n",
      "2 * 6 =  12\n",
      "2 * 7 =  14\n",
      "2 * 8 =  16\n",
      "2 * 9 =  18\n",
      "3 * 1 =   3\n",
      "3 * 2 =   6\n",
      "3 * 3 =   9\n",
      "3 * 4 =  12\n",
      "3 * 5 =  15\n",
      "3 * 6 =  18\n",
      "3 * 7 =  21\n",
      "3 * 8 =  24\n",
      "3 * 9 =  27\n"
     ]
    }
   ],
   "execution_count": 137
  },
  {
   "metadata": {
    "ExecuteTime": {
     "end_time": "2024-12-20T03:45:39.931908Z",
     "start_time": "2024-12-20T03:45:39.929837Z"
    }
   },
   "cell_type": "code",
   "source": [
    "dan = 2\n",
    "for i in range(1, 10):\n",
    "  print(f'{dan} * {i} = {dan+i}')"
   ],
   "id": "86ae53596741a9c0",
   "outputs": [
    {
     "name": "stdout",
     "output_type": "stream",
     "text": [
      "2 * 1 =  3\n",
      "2 * 2 =  4\n",
      "2 * 3 =  5\n",
      "2 * 4 =  6\n",
      "2 * 5 =  7\n",
      "2 * 6 =  8\n",
      "2 * 7 =  9\n",
      "2 * 8 = 10\n",
      "2 * 9 = 11\n"
     ]
    }
   ],
   "execution_count": 109
  },
  {
   "metadata": {
    "ExecuteTime": {
     "end_time": "2024-12-20T05:12:18.038511Z",
     "start_time": "2024-12-20T05:12:15.052943Z"
    }
   },
   "cell_type": "code",
   "source": [
    "prompt = '''\n",
    "1. ADD\n",
    "2. DEL\n",
    "3. QUIT\n",
    "'''\n",
    "\n",
    "input_num = input(prompt)\n",
    "\n",
    "while True:\n",
    "  input_num = input(prompt)\n",
    "  if input_num == '3':\n",
    "    break"
   ],
   "id": "1a1fbd7b1cebfcbc",
   "outputs": [],
   "execution_count": 110
  },
  {
   "metadata": {
    "ExecuteTime": {
     "end_time": "2024-12-20T05:18:11.312837Z",
     "start_time": "2024-12-20T05:18:11.310365Z"
    }
   },
   "cell_type": "code",
   "source": [
    "hap = 0\n",
    "for i in range(1, 11):\n",
    "  if i % 2 == 0:\n",
    "    continue\n",
    "  print(i, end=' ')\n",
    "  hap += i\n",
    "print(hap)"
   ],
   "id": "503fdd5bc26dd3a4",
   "outputs": [
    {
     "name": "stdout",
     "output_type": "stream",
     "text": [
      "1 3 5 7 9 25\n"
     ]
    }
   ],
   "execution_count": 111
  },
  {
   "metadata": {
    "ExecuteTime": {
     "end_time": "2024-12-20T05:34:30.291998Z",
     "start_time": "2024-12-20T05:33:55.718601Z"
    }
   },
   "cell_type": "code",
   "source": [
    "import random\n",
    "\n",
    "random_num = random.randint(1, 100)\n",
    "count = 1\n",
    "\n",
    "while True:\n",
    "  answer = int(input('1부터 100 사이의 숫자를 맞춰주세요.'))\n",
    "  if answer == random_num:\n",
    "    print(count, '만에 맞췄습니다. 정답입니다: ', answer)\n",
    "    break;\n",
    "  elif answer > random_num:\n",
    "    print('너무 큽니다.')\n",
    "  elif answer < random_num:\n",
    "    print('너무 작습니다.')\n",
    "  count +=1\n"
   ],
   "id": "f16e892d3ae53545",
   "outputs": [
    {
     "name": "stdout",
     "output_type": "stream",
     "text": [
      "너무 큽니다.\n",
      "너무 작습니다.\n",
      "너무 작습니다.\n",
      "너무 작습니다.\n",
      "너무 작습니다.\n",
      "너무 작습니다.\n",
      "너무 작습니다.\n",
      "너무 작습니다.\n",
      "너무 작습니다.\n",
      "너무 작습니다.\n",
      "너무 작습니다.\n",
      "12 만에 맞췄습니다. 정답입니다:  45\n"
     ]
    }
   ],
   "execution_count": 114
  },
  {
   "metadata": {
    "ExecuteTime": {
     "end_time": "2024-12-20T06:07:10.426144Z",
     "start_time": "2024-12-20T06:07:10.423872Z"
    }
   },
   "cell_type": "code",
   "source": [
    "# 20 보다 작은 정수 중에서 3의 배수와 5의 배수를 제외하고 출력\n",
    "x = 0\n",
    "\n",
    "while True:\n",
    "  x += 1\n",
    "  if x > 20:\n",
    "    break\n",
    "  elif x % 3 == 0 or x % 5 == 0:\n",
    "    continue\n",
    "  else:\n",
    "    print(x)"
   ],
   "id": "9b0aae2cedeaea76",
   "outputs": [
    {
     "name": "stdout",
     "output_type": "stream",
     "text": [
      "1\n",
      "2\n",
      "4\n",
      "7\n",
      "8\n",
      "11\n",
      "13\n",
      "14\n",
      "16\n",
      "17\n",
      "19\n"
     ]
    }
   ],
   "execution_count": 118
  },
  {
   "metadata": {
    "ExecuteTime": {
     "end_time": "2024-12-20T06:35:26.285655Z",
     "start_time": "2024-12-20T06:35:26.283512Z"
    }
   },
   "cell_type": "code",
   "source": [
    "item = '*'\n",
    "\n",
    "for i in range(1, 21):\n",
    "  if i % 2 == 0:\n",
    "    continue\n",
    "  print(item*i)"
   ],
   "id": "9a9ce0bfc9516ff7",
   "outputs": [
    {
     "name": "stdout",
     "output_type": "stream",
     "text": [
      "*\n",
      "***\n",
      "*****\n",
      "*******\n",
      "*********\n",
      "***********\n",
      "*************\n",
      "***************\n",
      "*****************\n",
      "*******************\n"
     ]
    }
   ],
   "execution_count": 131
  },
  {
   "metadata": {
    "ExecuteTime": {
     "end_time": "2024-12-20T06:36:05.810357Z",
     "start_time": "2024-12-20T06:36:05.808108Z"
    }
   },
   "cell_type": "code",
   "source": [
    "item = '*'\n",
    "\n",
    "for i in range(21, 0, -1):\n",
    "  if i % 2 == 0:\n",
    "    continue\n",
    "  print(item*i)"
   ],
   "id": "a0b3dd135aa828c7",
   "outputs": [
    {
     "name": "stdout",
     "output_type": "stream",
     "text": [
      "*********************\n",
      "*******************\n",
      "*****************\n",
      "***************\n",
      "*************\n",
      "***********\n",
      "*********\n",
      "*******\n",
      "*****\n",
      "***\n",
      "*\n"
     ]
    }
   ],
   "execution_count": 136
  },
  {
   "metadata": {
    "ExecuteTime": {
     "end_time": "2024-12-20T06:38:08.760523Z",
     "start_time": "2024-12-20T06:38:08.758242Z"
    }
   },
   "cell_type": "code",
   "source": [
    "item = '*'\n",
    "\n",
    "for i in range(1, 11):\n",
    "  print(f'{item*i:}')"
   ],
   "id": "4cc1075bd66a5326",
   "outputs": [
    {
     "name": "stdout",
     "output_type": "stream",
     "text": [
      "*\n",
      "**\n",
      "***\n",
      "****\n",
      "*****\n",
      "******\n",
      "*******\n",
      "********\n",
      "*********\n",
      "**********\n"
     ]
    }
   ],
   "execution_count": 143
  },
  {
   "metadata": {
    "ExecuteTime": {
     "end_time": "2024-12-20T06:51:02.317617Z",
     "start_time": "2024-12-20T06:51:02.315546Z"
    }
   },
   "cell_type": "code",
   "source": [
    "for i in range(1, 11):\n",
    "    print(\" \" * (11 - i) + \"*\" * (1 * i))"
   ],
   "id": "931daf7236272d32",
   "outputs": [
    {
     "name": "stdout",
     "output_type": "stream",
     "text": [
      "          *\n",
      "         **\n",
      "        ***\n",
      "       ****\n",
      "      *****\n",
      "     ******\n",
      "    *******\n",
      "   ********\n",
      "  *********\n",
      " **********\n"
     ]
    }
   ],
   "execution_count": 164
  },
  {
   "metadata": {
    "ExecuteTime": {
     "end_time": "2024-12-20T06:52:48.984914Z",
     "start_time": "2024-12-20T06:52:48.982854Z"
    }
   },
   "cell_type": "code",
   "source": [
    "for i in range(1, 11):\n",
    "    print(\" \" * (11 - i) + \"*\" * (2 * i - 1))"
   ],
   "id": "c66fdf303b9fbcef",
   "outputs": [
    {
     "name": "stdout",
     "output_type": "stream",
     "text": [
      "          *\n",
      "         ***\n",
      "        *****\n",
      "       *******\n",
      "      *********\n",
      "     ***********\n",
      "    *************\n",
      "   ***************\n",
      "  *****************\n",
      " *******************\n"
     ]
    }
   ],
   "execution_count": 169
  },
  {
   "metadata": {
    "ExecuteTime": {
     "end_time": "2024-12-20T07:26:16.890243Z",
     "start_time": "2024-12-20T07:26:16.887929Z"
    }
   },
   "cell_type": "code",
   "source": [
    "b = ['List', 'is', 'too', 'short']\n",
    "\n",
    "print(b[1:3])\n",
    "print(b[:3])\n",
    "print(b[1:])\n",
    "print(b[-1])\n",
    "print(b[1])\n",
    "print(b[:])\n"
   ],
   "id": "14fa41044c6515c6",
   "outputs": [
    {
     "name": "stdout",
     "output_type": "stream",
     "text": [
      "['is', 'too']\n",
      "['List', 'is', 'too']\n",
      "['is', 'too', 'short']\n",
      "short\n",
      "is\n",
      "['List', 'is', 'too', 'short']\n"
     ]
    }
   ],
   "execution_count": 182
  },
  {
   "metadata": {
    "ExecuteTime": {
     "end_time": "2024-12-20T07:34:25.469161Z",
     "start_time": "2024-12-20T07:34:25.467091Z"
    }
   },
   "cell_type": "code",
   "source": [
    "d = [1, 2, 3, ['a', 'b', 'c'], 4, 5]\n",
    "\n",
    "print(d[3][:2])"
   ],
   "id": "56303a7ee0d07b95",
   "outputs": [
    {
     "name": "stdout",
     "output_type": "stream",
     "text": [
      "['a', 'b']\n"
     ]
    }
   ],
   "execution_count": 188
  },
  {
   "metadata": {
    "ExecuteTime": {
     "end_time": "2024-12-20T07:44:22.043584Z",
     "start_time": "2024-12-20T07:44:22.041498Z"
    }
   },
   "cell_type": "code",
   "source": [
    "d = [1, 2, 3, ['a', 'b', 'c'], 4, 5]\n",
    "d[3] = 6\n",
    "print(d)"
   ],
   "id": "efa11b575b076ae6",
   "outputs": [
    {
     "name": "stdout",
     "output_type": "stream",
     "text": [
      "[1, 2, 3, 6, 4, 5]\n"
     ]
    }
   ],
   "execution_count": 195
  },
  {
   "metadata": {
    "ExecuteTime": {
     "end_time": "2024-12-20T08:10:20.297784Z",
     "start_time": "2024-12-20T08:10:20.295633Z"
    }
   },
   "cell_type": "code",
   "source": [
    "d = ['a', 'b', 'c']\n",
    "d.append('e')\n",
    "d.insert(1, 'd')\n",
    "# d.extend(['f', 'g'])\n",
    "# d.remove('c')\n",
    "d.pop()\n",
    "# d.pop(1)\n",
    "# d.clear()\n",
    "print(d)"
   ],
   "id": "4953799e92cfccf3",
   "outputs": [
    {
     "name": "stdout",
     "output_type": "stream",
     "text": [
      "['a', 'd', 'b', 'c']\n"
     ]
    }
   ],
   "execution_count": 205
  },
  {
   "metadata": {
    "ExecuteTime": {
     "end_time": "2024-12-20T08:51:26.372068Z",
     "start_time": "2024-12-20T08:51:17.658750Z"
    }
   },
   "cell_type": "code",
   "source": [
    "print('끝말잇기 게임')\n",
    "var = '가나다'\n",
    "print('가나다')\n",
    "while True:\n",
    "  word = input('단어 입력: ')\n",
    "  if var[-1] == word[0] :\n",
    "      print(word)\n",
    "      var = word\n",
    "  else:\n",
    "    print(word)\n",
    "    print('틀렸습니다!')\n",
    "    break;"
   ],
   "id": "8267b2d1a00cb75e",
   "outputs": [
    {
     "name": "stdout",
     "output_type": "stream",
     "text": [
      "끝말잇기 게임\n",
      "가나다\n",
      "다람쥐\n",
      "쥐불놀이\n",
      "틀렸습니다!\n",
      "아이\n"
     ]
    }
   ],
   "execution_count": 209
  }
 ],
 "metadata": {
  "kernelspec": {
   "display_name": "Python 3",
   "language": "python",
   "name": "python3"
  },
  "language_info": {
   "codemirror_mode": {
    "name": "ipython",
    "version": 2
   },
   "file_extension": ".py",
   "mimetype": "text/x-python",
   "name": "python",
   "nbconvert_exporter": "python",
   "pygments_lexer": "ipython2",
   "version": "2.7.6"
  }
 },
 "nbformat": 4,
 "nbformat_minor": 5
}
