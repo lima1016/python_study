{
 "cells": [
  {
   "metadata": {},
   "cell_type": "markdown",
   "source": "# 2024-12-27",
   "id": "917c5130fda7dd90"
  },
  {
   "metadata": {
    "collapsed": true,
    "ExecuteTime": {
     "end_time": "2024-12-27T01:18:59.026455Z",
     "start_time": "2024-12-27T01:18:59.024147Z"
    }
   },
   "cell_type": "code",
   "source": [
    "from decorator import append\n",
    "\n",
    "number= [1,2,3,4,5]\n",
    "\n",
    "arra = [x**2 for x in number if x % 2 == 0]\n",
    "print(arra)"
   ],
   "id": "initial_id",
   "outputs": [
    {
     "name": "stdout",
     "output_type": "stream",
     "text": [
      "[4, 16]\n"
     ]
    }
   ],
   "execution_count": 2
  },
  {
   "metadata": {
    "ExecuteTime": {
     "end_time": "2024-12-27T02:02:05.163318Z",
     "start_time": "2024-12-27T02:02:05.160266Z"
    }
   },
   "cell_type": "code",
   "source": [
    "import numpy as np\n",
    "a_list = [1,2,'3',4,5]\n",
    "arr = np.array(a_list)\n",
    "print(arr)\n",
    "print(type(arr))\n",
    "arr1 = np.arange(1, 10, 2)\n",
    "print(arr1)\n",
    "\n",
    "arr2 = np.zeros(20, dtype=int)\n",
    "arr3 = np.zeros((2,10))\n",
    "arr4 = np.reshape(arr2, (2, 10))\n",
    "print(arr2)\n",
    "print(arr3)\n",
    "print(arr4)\n"
   ],
   "id": "bff047f57691b907",
   "outputs": [
    {
     "name": "stdout",
     "output_type": "stream",
     "text": [
      "['1' '2' '3' '4' '5']\n",
      "<class 'numpy.ndarray'>\n",
      "[1 3 5 7 9]\n",
      "[0 0 0 0 0 0 0 0 0 0 0 0 0 0 0 0 0 0 0 0]\n",
      "[[0. 0. 0. 0. 0. 0. 0. 0. 0. 0.]\n",
      " [0. 0. 0. 0. 0. 0. 0. 0. 0. 0.]]\n",
      "[[0 0 0 0 0 0 0 0 0 0]\n",
      " [0 0 0 0 0 0 0 0 0 0]]\n"
     ]
    }
   ],
   "execution_count": 29
  },
  {
   "metadata": {
    "ExecuteTime": {
     "end_time": "2024-12-27T02:13:18.280570Z",
     "start_time": "2024-12-27T02:13:18.277859Z"
    }
   },
   "cell_type": "code",
   "source": [
    "arr5 = np.array([[1,2,3],[4,5,6], [7,8,9]])\n",
    "arr6 = np.array([[1,2,3, 4,5,6,7,8]])\n",
    "print(arr5)\n",
    "print(arr5.shape)\n",
    "print(arr5.reshape(3,3))\n",
    "print(arr5.reshape(3,3).T)\n",
    "print(arr6.reshape(2,4))"
   ],
   "id": "95f1133a411b8fe1",
   "outputs": [
    {
     "name": "stdout",
     "output_type": "stream",
     "text": [
      "[[1 2 3]\n",
      " [4 5 6]\n",
      " [7 8 9]]\n",
      "(3, 3)\n",
      "[[1 2 3]\n",
      " [4 5 6]\n",
      " [7 8 9]]\n",
      "[[1 4 7]\n",
      " [2 5 8]\n",
      " [3 6 9]]\n",
      "[[1 2 3 4]\n",
      " [5 6 7 8]]\n"
     ]
    }
   ],
   "execution_count": 48
  },
  {
   "metadata": {
    "ExecuteTime": {
     "end_time": "2024-12-27T02:31:13.521701Z",
     "start_time": "2024-12-27T02:31:13.519367Z"
    }
   },
   "cell_type": "code",
   "source": [
    "data = [0, 1, 2, 3, 4, 5, 6, 7, 8, 9]\n",
    "\n",
    "answer = []\n",
    "for i in data:\n",
    "  answer.append(2 * i)\n",
    "answer\n",
    "\n",
    "c = np.array([[0, 1, 2], [3, 4, 5]])\n",
    "\n",
    "# 행의 갯수\n",
    "print(len(c))\n",
    "\n",
    "# 열의 갯수\n",
    "print(len(c[0]))"
   ],
   "id": "a64e33250bd822d2",
   "outputs": [
    {
     "name": "stdout",
     "output_type": "stream",
     "text": [
      "2\n",
      "3\n"
     ]
    }
   ],
   "execution_count": 54
  },
  {
   "metadata": {
    "ExecuteTime": {
     "end_time": "2024-12-27T03:06:01.842073Z",
     "start_time": "2024-12-27T03:06:01.839125Z"
    }
   },
   "cell_type": "code",
   "source": [
    "a = np.array([[0, 1, 2], [3, 4, 5]])\n",
    "print(a[0][0])\n",
    "print(a[0][1])\n",
    "print(a[1][2])\n",
    "print(a[0])\n",
    "print(a[:, 1])\n",
    "print(a[:2, :2])\n"
   ],
   "id": "5c3aee19bade6e6d",
   "outputs": [
    {
     "name": "stdout",
     "output_type": "stream",
     "text": [
      "0\n",
      "1\n",
      "5\n",
      "[0 1 2]\n",
      "[1 4]\n",
      "[[0 1]\n",
      " [3 4]]\n"
     ]
    }
   ],
   "execution_count": 62
  },
  {
   "metadata": {
    "ExecuteTime": {
     "end_time": "2024-12-27T03:15:31.416931Z",
     "start_time": "2024-12-27T03:15:31.414701Z"
    }
   },
   "cell_type": "code",
   "source": [
    "a = np.array([1, 2, 3])\n",
    "b = np.array([10, 20, 30])\n",
    "\n",
    "print(2 * a + b)\n",
    "print(a == 2)\n",
    "print(b > 10)\n",
    "print((a == 2) & (b > 10))"
   ],
   "id": "4e3f1cd741556f94",
   "outputs": [
    {
     "name": "stdout",
     "output_type": "stream",
     "text": [
      "[12 24 36]\n",
      "[False  True False]\n",
      "[False  True  True]\n",
      "[False  True False]\n"
     ]
    }
   ],
   "execution_count": 71
  },
  {
   "metadata": {
    "ExecuteTime": {
     "end_time": "2024-12-27T03:47:36.654110Z",
     "start_time": "2024-12-27T03:47:36.651575Z"
    }
   },
   "cell_type": "code",
   "source": [
    "a = np.array([0, 1, 2, 3, 4, 5, 6, 7, 8, 9])\n",
    "idx = np.array([True, False, True, False, True, False, True, False, True, False])\n",
    "# print(a[idx])\n",
    "answer = a % 2 == 0\n",
    "print(answer)\n",
    "a[a % 2 == 0]\n",
    "\n",
    "b = np.array([[1,2,3,4], [5,6,7,8], [9,10,11,12]])\n",
    "print(b[:, [0, 3]])\n",
    "print(b[:, [True, False, False, True]])\n"
   ],
   "id": "769b472042caf238",
   "outputs": [
    {
     "name": "stdout",
     "output_type": "stream",
     "text": [
      "[ True False  True False  True False  True False  True False]\n",
      "[[ 1  4]\n",
      " [ 5  8]\n",
      " [ 9 12]]\n",
      "[[ 1  4]\n",
      " [ 5  8]\n",
      " [ 9 12]]\n"
     ]
    }
   ],
   "execution_count": 114
  },
  {
   "metadata": {
    "ExecuteTime": {
     "end_time": "2024-12-27T03:51:22.333471Z",
     "start_time": "2024-12-27T03:51:22.331409Z"
    }
   },
   "cell_type": "code",
   "source": [
    "c = np.array([[1,2,3,4], [5,6,7,8], [9,10,11,12]])\n",
    "print(c[[2, 0, 1], :])"
   ],
   "id": "ae8f401d8806d418",
   "outputs": [
    {
     "name": "stdout",
     "output_type": "stream",
     "text": [
      "[[ 9 10 11 12]\n",
      " [ 1  2  3  4]\n",
      " [ 5  6  7  8]]\n"
     ]
    }
   ],
   "execution_count": 129
  },
  {
   "metadata": {
    "ExecuteTime": {
     "end_time": "2024-12-27T05:21:40.680999Z",
     "start_time": "2024-12-27T05:21:40.677375Z"
    }
   },
   "cell_type": "code",
   "source": [
    "# 판다스 - 데이터를 조작/분석하기 위한 라이브러리, 다양한 데이터 분석 함수 제공, 행과 열로 이루어진 데이터 객체를 만들고 다룰 수 있다.\n",
    "import pandas as pd\n",
    "\n",
    "# pd.DataFrame(a)\n",
    "\n",
    "series = pd.Series([3, -5, 7, 4])\n",
    "# print(series)\n",
    "# print(type(series))\n",
    "\n",
    "s = pd.Series([3, -5, 7, 4], index = ['a', 'b', 'c', 'd'])\n",
    "print(s)\n",
    "print(s['a'])\n",
    "print(s[['a', 'c']])\n",
    "s.index\n",
    "s.values\n",
    "\n",
    "print(s['a'])"
   ],
   "id": "20d872b851eedc82",
   "outputs": [
    {
     "name": "stdout",
     "output_type": "stream",
     "text": [
      "a    3\n",
      "b   -5\n",
      "c    7\n",
      "d    4\n",
      "dtype: int64\n",
      "3\n",
      "a    3\n",
      "c    7\n",
      "dtype: int64\n",
      "3\n"
     ]
    }
   ],
   "execution_count": 145
  },
  {
   "metadata": {
    "ExecuteTime": {
     "end_time": "2024-12-27T05:36:57.347062Z",
     "start_time": "2024-12-27T05:36:57.340926Z"
    }
   },
   "cell_type": "code",
   "source": [
    "df = pd.DataFrame({'Division':['부산광역시', '전라남도', '강원도']\n",
    "                    , 'Code': ['051', '061', '033']\n",
    "                    , 'Population': [3364358, 1840921, 1535530]})\n",
    "display(df)\n",
    "print(df)\n",
    "print(df['Division'])\n",
    "print(df[['Division', 'Population']])\n",
    "print(df.Division)\n",
    "print(df.Population)\n",
    "df.index\n",
    "df.columns\n"
   ],
   "id": "2ef989f65ca91b0a",
   "outputs": [
    {
     "data": {
      "text/plain": [
       "  Division Code  Population\n",
       "0    부산광역시  051     3364358\n",
       "1     전라남도  061     1840921\n",
       "2      강원도  033     1535530"
      ],
      "text/html": [
       "<div>\n",
       "<style scoped>\n",
       "    .dataframe tbody tr th:only-of-type {\n",
       "        vertical-align: middle;\n",
       "    }\n",
       "\n",
       "    .dataframe tbody tr th {\n",
       "        vertical-align: top;\n",
       "    }\n",
       "\n",
       "    .dataframe thead th {\n",
       "        text-align: right;\n",
       "    }\n",
       "</style>\n",
       "<table border=\"1\" class=\"dataframe\">\n",
       "  <thead>\n",
       "    <tr style=\"text-align: right;\">\n",
       "      <th></th>\n",
       "      <th>Division</th>\n",
       "      <th>Code</th>\n",
       "      <th>Population</th>\n",
       "    </tr>\n",
       "  </thead>\n",
       "  <tbody>\n",
       "    <tr>\n",
       "      <th>0</th>\n",
       "      <td>부산광역시</td>\n",
       "      <td>051</td>\n",
       "      <td>3364358</td>\n",
       "    </tr>\n",
       "    <tr>\n",
       "      <th>1</th>\n",
       "      <td>전라남도</td>\n",
       "      <td>061</td>\n",
       "      <td>1840921</td>\n",
       "    </tr>\n",
       "    <tr>\n",
       "      <th>2</th>\n",
       "      <td>강원도</td>\n",
       "      <td>033</td>\n",
       "      <td>1535530</td>\n",
       "    </tr>\n",
       "  </tbody>\n",
       "</table>\n",
       "</div>"
      ]
     },
     "metadata": {},
     "output_type": "display_data"
    },
    {
     "name": "stdout",
     "output_type": "stream",
     "text": [
      "  Division Code  Population\n",
      "0    부산광역시  051     3364358\n",
      "1     전라남도  061     1840921\n",
      "2      강원도  033     1535530\n",
      "0    부산광역시\n",
      "1     전라남도\n",
      "2      강원도\n",
      "Name: Division, dtype: object\n",
      "  Division  Population\n",
      "0    부산광역시     3364358\n",
      "1     전라남도     1840921\n",
      "2      강원도     1535530\n",
      "0    부산광역시\n",
      "1     전라남도\n",
      "2      강원도\n",
      "Name: Division, dtype: object\n",
      "0    3364358\n",
      "1    1840921\n",
      "2    1535530\n",
      "Name: Population, dtype: int64\n"
     ]
    },
    {
     "data": {
      "text/plain": [
       "Index(['Division', 'Code', 'Population'], dtype='object')"
      ]
     },
     "execution_count": 155,
     "metadata": {},
     "output_type": "execute_result"
    }
   ],
   "execution_count": 155
  },
  {
   "metadata": {
    "ExecuteTime": {
     "end_time": "2024-12-27T06:20:44.918020Z",
     "start_time": "2024-12-27T06:20:44.910534Z"
    }
   },
   "cell_type": "code",
   "source": [
    "pd.options.display.float_format = '{:.0f}'.format\n",
    "df = pd.read_csv('heroes.csv')\n",
    "df.info()\n",
    "df.describe()\n",
    "df['국적'].unique()\n",
    "df['국적'].value_counts()\n"
   ],
   "id": "8bc1599dcba05629",
   "outputs": [
    {
     "name": "stdout",
     "output_type": "stream",
     "text": [
      "<class 'pandas.core.frame.DataFrame'>\n",
      "RangeIndex: 7 entries, 0 to 6\n",
      "Data columns (total 6 columns):\n",
      " #   Column  Non-Null Count  Dtype  \n",
      "---  ------  --------------  -----  \n",
      " 0   이름      7 non-null      object \n",
      " 1   나이      7 non-null      int64  \n",
      " 2   직업      7 non-null      object \n",
      " 3   국적      7 non-null      object \n",
      " 4   키       7 non-null      int64  \n",
      " 5   재산      5 non-null      float64\n",
      "dtypes: float64(1), int64(2), object(3)\n",
      "memory usage: 468.0+ bytes\n"
     ]
    },
    {
     "data": {
      "text/plain": [
       "국적\n",
       "미국       4\n",
       "아스가르드    1\n",
       "데미스키라    1\n",
       "러시아      1\n",
       "Name: count, dtype: int64"
      ]
     },
     "execution_count": 165,
     "metadata": {},
     "output_type": "execute_result"
    }
   ],
   "execution_count": 165
  },
  {
   "metadata": {
    "ExecuteTime": {
     "end_time": "2024-12-27T07:34:05.976300Z",
     "start_time": "2024-12-27T07:34:05.968577Z"
    }
   },
   "cell_type": "code",
   "source": [
    "# df['나이'].sort_values(ascending=True)\n",
    "# df['나이'].nlargest(10)\n",
    "# df.nlargest(3, '나이')\n",
    "# df.나이.sort_values(ascending=False)\n",
    "# df[0:2]\n",
    "# df.iloc[3] # 하나의 행만 가져옴\n",
    "# df.iloc[[1, 3, 4]] # 하나의 행만 가져옴\n",
    "\n",
    "# df.iloc[:5, :3]\n",
    "df2 = df.copy()\n",
    "df2.index = ['a', 'b', 'c', 'd', 'e', 'f', 'g']\n",
    "\n",
    "# df2.loc['a': 'b']\n",
    "# df2.loc['a':'b', '이름':'직업']\n",
    "# df.isnull().sum()\n",
    "# df[df.재산.isnull()]\n",
    "# df[(df.나이 > 30) & (df.나이 < 50)]\n",
    "# df.loc[(df.나이 > 30) & (df.나이 < 50), '이름':'직업']\n",
    "# df.sort_values('키', ascending=False)\n",
    "\n",
    "\n",
    "# '기뮤림', 1, '학생', '대한민국', 170, '100000000000000', 100\n",
    "# df2.전투력 -=5\n"
   ],
   "id": "72ef9681d960ce5",
   "outputs": [
    {
     "ename": "TypeError",
     "evalue": "concat() takes 1 positional argument but 7 were given",
     "output_type": "error",
     "traceback": [
      "\u001B[1;31m---------------------------------------------------------------------------\u001B[0m",
      "\u001B[1;31mTypeError\u001B[0m                                 Traceback (most recent call last)",
      "Cell \u001B[1;32mIn[282], line 20\u001B[0m\n\u001B[0;32m     11\u001B[0m df2\u001B[38;5;241m.\u001B[39mindex \u001B[38;5;241m=\u001B[39m [\u001B[38;5;124m'\u001B[39m\u001B[38;5;124ma\u001B[39m\u001B[38;5;124m'\u001B[39m, \u001B[38;5;124m'\u001B[39m\u001B[38;5;124mb\u001B[39m\u001B[38;5;124m'\u001B[39m, \u001B[38;5;124m'\u001B[39m\u001B[38;5;124mc\u001B[39m\u001B[38;5;124m'\u001B[39m, \u001B[38;5;124m'\u001B[39m\u001B[38;5;124md\u001B[39m\u001B[38;5;124m'\u001B[39m, \u001B[38;5;124m'\u001B[39m\u001B[38;5;124me\u001B[39m\u001B[38;5;124m'\u001B[39m, \u001B[38;5;124m'\u001B[39m\u001B[38;5;124mf\u001B[39m\u001B[38;5;124m'\u001B[39m, \u001B[38;5;124m'\u001B[39m\u001B[38;5;124mg\u001B[39m\u001B[38;5;124m'\u001B[39m]\n\u001B[0;32m     13\u001B[0m \u001B[38;5;66;03m# df2.loc['a': 'b']\u001B[39;00m\n\u001B[0;32m     14\u001B[0m \u001B[38;5;66;03m# df2.loc['a':'b', '이름':'직업']\u001B[39;00m\n\u001B[0;32m     15\u001B[0m \u001B[38;5;66;03m# df.isnull().sum()\u001B[39;00m\n\u001B[1;32m   (...)\u001B[0m\n\u001B[0;32m     18\u001B[0m \u001B[38;5;66;03m# df.loc[(df.나이 > 30) & (df.나이 < 50), '이름':'직업']\u001B[39;00m\n\u001B[0;32m     19\u001B[0m \u001B[38;5;66;03m# df.sort_values('키', ascending=False)\u001B[39;00m\n\u001B[1;32m---> 20\u001B[0m \u001B[43mpd\u001B[49m\u001B[38;5;241;43m.\u001B[39;49m\u001B[43mconcat\u001B[49m\u001B[43m(\u001B[49m\u001B[38;5;124;43m'\u001B[39;49m\u001B[38;5;124;43m기뮤림\u001B[39;49m\u001B[38;5;124;43m'\u001B[39;49m\u001B[43m,\u001B[49m\u001B[43m \u001B[49m\u001B[38;5;241;43m1\u001B[39;49m\u001B[43m,\u001B[49m\u001B[43m \u001B[49m\u001B[38;5;124;43m'\u001B[39;49m\u001B[38;5;124;43m학생\u001B[39;49m\u001B[38;5;124;43m'\u001B[39;49m\u001B[43m,\u001B[49m\u001B[43m \u001B[49m\u001B[38;5;124;43m'\u001B[39;49m\u001B[38;5;124;43m대한민국\u001B[39;49m\u001B[38;5;124;43m'\u001B[39;49m\u001B[43m,\u001B[49m\u001B[43m \u001B[49m\u001B[38;5;241;43m170\u001B[39;49m\u001B[43m,\u001B[49m\u001B[43m \u001B[49m\u001B[38;5;124;43m'\u001B[39;49m\u001B[38;5;124;43m100000000000000\u001B[39;49m\u001B[38;5;124;43m'\u001B[39;49m\u001B[43m,\u001B[49m\u001B[43m \u001B[49m\u001B[38;5;241;43m100\u001B[39;49m\u001B[43m)\u001B[49m\n\u001B[0;32m     21\u001B[0m \u001B[38;5;66;03m# df2.전투력 -=5\u001B[39;00m\n",
      "\u001B[1;31mTypeError\u001B[0m: concat() takes 1 positional argument but 7 were given"
     ]
    }
   ],
   "execution_count": 282
  },
  {
   "metadata": {
    "ExecuteTime": {
     "end_time": "2024-12-27T07:49:46.818940Z",
     "start_time": "2024-12-27T07:49:46.816180Z"
    }
   },
   "cell_type": "code",
   "source": [
    "# df2.drop(index='a', inplace=True) # inplace는 대체 하겠다는 의미 그래서 진짜 삭제됨\n",
    "# df2.drop(columns='키') # inplace는 대체 하겠다는 의미 그래서 진짜 삭제됨\n",
    "# df2.drop(index='a')\n",
    "# df2.dropna(axis = 0, inplace=True)\n",
    "# df2.dropna(axis = 0)\n",
    "df2.fillna(0)\n",
    "# df2.fillna(method='bfill')\n",
    "# df2\n",
    "df2.재산.mean()"
   ],
   "id": "c4fa8ec1bb24c439",
   "outputs": [
    {
     "data": {
      "text/plain": [
       "np.float64(2578000120.0)"
      ]
     },
     "execution_count": 323,
     "metadata": {},
     "output_type": "execute_result"
    }
   ],
   "execution_count": 323
  }
 ],
 "metadata": {
  "kernelspec": {
   "display_name": "Python 3",
   "language": "python",
   "name": "python3"
  },
  "language_info": {
   "codemirror_mode": {
    "name": "ipython",
    "version": 2
   },
   "file_extension": ".py",
   "mimetype": "text/x-python",
   "name": "python",
   "nbconvert_exporter": "python",
   "pygments_lexer": "ipython2",
   "version": "2.7.6"
  }
 },
 "nbformat": 4,
 "nbformat_minor": 5
}
