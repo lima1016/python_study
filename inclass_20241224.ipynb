{
 "cells": [
  {
   "metadata": {},
   "cell_type": "markdown",
   "source": "# 2024-12-24",
   "id": "81da8dd1d6945da1"
  },
  {
   "metadata": {
    "collapsed": true,
    "ExecuteTime": {
     "end_time": "2024-12-24T01:09:41.464764Z",
     "start_time": "2024-12-24T01:09:41.462252Z"
    }
   },
   "cell_type": "code",
   "source": [
    "phone_number = '010-1234-5678'\n",
    "\n",
    "phone_number1 = phone_number.replace('-', '')\n",
    "print(phone_number1)"
   ],
   "id": "initial_id",
   "outputs": [
    {
     "name": "stdout",
     "output_type": "stream",
     "text": [
      "01012345678\n"
     ]
    }
   ],
   "execution_count": 1
  },
  {
   "metadata": {
    "ExecuteTime": {
     "end_time": "2024-12-24T01:15:51.312048Z",
     "start_time": "2024-12-24T01:15:51.309860Z"
    }
   },
   "cell_type": "code",
   "source": [
    "info = 'Youlim,170,12'\n",
    "\n",
    "a, b, c = info.split(',')\n",
    "print(f'name: {a}, height: {b}, age: {c}')"
   ],
   "id": "abab307a7be97bbe",
   "outputs": [
    {
     "name": "stdout",
     "output_type": "stream",
     "text": [
      "name: Youlim, height: 170, age: 12\n"
     ]
    }
   ],
   "execution_count": 9
  },
  {
   "metadata": {
    "ExecuteTime": {
     "end_time": "2024-12-24T01:33:59.974952Z",
     "start_time": "2024-12-24T01:33:59.973095Z"
    }
   },
   "cell_type": "code",
   "source": [
    "d = {'kim': 24000, 'lee': 25000, 'park': 26000}\n",
    "\n",
    "print(sum(d.values()))"
   ],
   "id": "ddc91d884064ed6f",
   "outputs": [
    {
     "name": "stdout",
     "output_type": "stream",
     "text": [
      "75000\n"
     ]
    }
   ],
   "execution_count": 12
  },
  {
   "metadata": {
    "ExecuteTime": {
     "end_time": "2024-12-24T01:48:35.682205Z",
     "start_time": "2024-12-24T01:48:35.679367Z"
    }
   },
   "cell_type": "code",
   "source": [
    "# 문자열을 입력 받아 각 문자들로 구성된 리스트로 반환하는 make_list 함수를 정의\n",
    "\n",
    "def make_list (string):\n",
    "    return list(string)\n",
    "\n",
    "make_list('hello')"
   ],
   "id": "fa6de924b5948b19",
   "outputs": [
    {
     "data": {
      "text/plain": [
       "['h', 'e', 'l', 'l', 'o']"
      ]
     },
     "execution_count": 13,
     "metadata": {},
     "output_type": "execute_result"
    }
   ],
   "execution_count": 13
  },
  {
   "metadata": {
    "ExecuteTime": {
     "end_time": "2024-12-24T03:22:01.765452Z",
     "start_time": "2024-12-24T03:22:01.762961Z"
    }
   },
   "cell_type": "code",
   "source": [
    "my_list = [1, 2, 3, 4, 5]\n",
    "test = [x * 3 for x in my_list]\n",
    "print(test)\n",
    "\n",
    "def add_one(n):\n",
    "    return n + 1\n",
    "\n",
    "print(list(map(add_one, my_list)))\n",
    "\n",
    "result1 = []\n",
    "for val in my_list:\n",
    "    result1.append(add_one(val))\n",
    "print(result1)\n",
    "\n"
   ],
   "id": "8cce5cb2063fcc79",
   "outputs": [
    {
     "name": "stdout",
     "output_type": "stream",
     "text": [
      "[3, 6, 9, 12, 15]\n",
      "[2, 3, 4, 5, 6]\n",
      "[2, 3, 4, 5, 6]\n"
     ]
    }
   ],
   "execution_count": 35
  },
  {
   "metadata": {
    "ExecuteTime": {
     "end_time": "2024-12-24T03:14:53.223394Z",
     "start_time": "2024-12-24T03:14:53.221527Z"
    }
   },
   "cell_type": "code",
   "source": [
    "f = (3.14, -5.625, 100.4, 25.8)\n",
    "\n",
    "print(list(map(round, f)))"
   ],
   "id": "7f23193510f1be51",
   "outputs": [
    {
     "name": "stdout",
     "output_type": "stream",
     "text": [
      "[3, -6, 100, 26]\n"
     ]
    }
   ],
   "execution_count": 28
  },
  {
   "metadata": {
    "ExecuteTime": {
     "end_time": "2024-12-24T03:26:32.450041Z",
     "start_time": "2024-12-24T03:26:32.448044Z"
    }
   },
   "cell_type": "code",
   "source": [
    "r = (52, 255, 39, 132)\n",
    "g = (102, 255, 132, 255)\n",
    "b = (255, 0, 0, 255)\n",
    "\n",
    "print(list(zip(r, g, b)))\n",
    "\n",
    "# map?\n",
    "# zip?"
   ],
   "id": "3ac5d80921f44063",
   "outputs": [
    {
     "name": "stdout",
     "output_type": "stream",
     "text": [
      "[(52, 102, 255), (255, 255, 0), (39, 132, 0), (132, 255, 255)]\n"
     ]
    }
   ],
   "execution_count": 38
  },
  {
   "metadata": {
    "ExecuteTime": {
     "end_time": "2024-12-24T03:34:58.777437Z",
     "start_time": "2024-12-24T03:34:58.775137Z"
    }
   },
   "cell_type": "code",
   "source": [
    "fruits = ('apple', 'banana', 'cherry', 'kiwi', 'mango')\n",
    "\n",
    "enumerate_fruits = enumerate(fruits)\n",
    "print(dict(enumerate_fruits))\n",
    "print(dict(zip(fruits, range(len(fruits)))))\n",
    "print(dict(enumerate(fruits, start=1)))\n",
    "print(dict(enumerate(fruits, 1)))"
   ],
   "id": "cfd84793d03f9f98",
   "outputs": [
    {
     "name": "stdout",
     "output_type": "stream",
     "text": [
      "{0: 'apple', 1: 'banana', 2: 'cherry', 3: 'kiwi', 4: 'mango'}\n",
      "{'apple': 0, 'banana': 1, 'cherry': 2, 'kiwi': 3, 'mango': 4}\n",
      "{1: 'apple', 2: 'banana', 3: 'cherry', 4: 'kiwi', 5: 'mango'}\n",
      "{1: 'apple', 2: 'banana', 3: 'cherry', 4: 'kiwi', 5: 'mango'}\n"
     ]
    }
   ],
   "execution_count": 49
  },
  {
   "metadata": {
    "ExecuteTime": {
     "end_time": "2024-12-24T03:45:23.096038Z",
     "start_time": "2024-12-24T03:45:23.093702Z"
    }
   },
   "cell_type": "code",
   "source": [
    "def f(x):\n",
    "    return 5 < x < 10\n",
    "\n",
    "a_array = [8, 3, 2, 10, 15, 7, 1, 9, 0, 11]\n",
    "\n",
    "print(list(filter(f, a_array)))\n",
    "print(list(map(f, a_array)))\n",
    "print(list(enumerate(a_array, 1)))"
   ],
   "id": "78cfbbb2cc8ecc9b",
   "outputs": [
    {
     "name": "stdout",
     "output_type": "stream",
     "text": [
      "[8, 7, 9]\n",
      "[True, False, False, False, False, True, False, True, False, False]\n",
      "[(1, 8), (2, 3), (3, 2), (4, 10), (5, 15), (6, 7), (7, 1), (8, 9), (9, 0), (10, 11)]\n"
     ]
    }
   ],
   "execution_count": 67
  },
  {
   "metadata": {
    "ExecuteTime": {
     "end_time": "2024-12-24T05:12:36.513665Z",
     "start_time": "2024-12-24T05:12:36.511466Z"
    }
   },
   "cell_type": "code",
   "source": "print(list(map(lambda x: x + 1, a_array)))",
   "id": "bf7d1113863c31e2",
   "outputs": [
    {
     "name": "stdout",
     "output_type": "stream",
     "text": [
      "[9, 4, 3, 11, 16, 8, 2, 10, 1, 12]\n"
     ]
    }
   ],
   "execution_count": 68
  },
  {
   "metadata": {
    "ExecuteTime": {
     "end_time": "2024-12-24T05:26:35.087758Z",
     "start_time": "2024-12-24T05:26:35.085229Z"
    }
   },
   "cell_type": "code",
   "source": [
    "numbers = [1, 2, 3, 4, 5]\n",
    "squares = list(map(lambda x: x ** 2, numbers))\n",
    "print(squares)"
   ],
   "id": "33d9bb34ba6a7d8e",
   "outputs": [
    {
     "name": "stdout",
     "output_type": "stream",
     "text": [
      "[1, 4, 9, 16, 25]\n"
     ]
    }
   ],
   "execution_count": 71
  },
  {
   "metadata": {
    "ExecuteTime": {
     "end_time": "2024-12-24T05:35:00.049040Z",
     "start_time": "2024-12-24T05:35:00.046848Z"
    }
   },
   "cell_type": "code",
   "source": [
    "numbers = [1, 2, 3, 4, 5]\n",
    "l = list(filter(lambda x: x % 2 == 0, numbers))\n",
    "print(l)"
   ],
   "id": "5a0cebbaede6a277",
   "outputs": [
    {
     "name": "stdout",
     "output_type": "stream",
     "text": [
      "[2, 4]\n"
     ]
    }
   ],
   "execution_count": 75
  },
  {
   "metadata": {
    "ExecuteTime": {
     "end_time": "2024-12-24T05:56:28.568337Z",
     "start_time": "2024-12-24T05:56:28.566257Z"
    }
   },
   "cell_type": "code",
   "source": [
    "points = [(1, 2), (6, 4), (5, 1), (7, 6)]\n",
    "# points = [{1, 2}, {6, 4}, {5, 3}, {7, 1}]\n",
    "\n",
    "# sorted(points, reverse=True)\n",
    "# sorted(points, key=lambda x: sorted(x)[0])\n",
    "\n",
    "print(sorted(points, key=lambda x: x[1], reverse=True))"
   ],
   "id": "118c3100a809fc73",
   "outputs": [
    {
     "name": "stdout",
     "output_type": "stream",
     "text": [
      "[(7, 6), (6, 4), (1, 2), (5, 1)]\n"
     ]
    }
   ],
   "execution_count": 109
  },
  {
   "metadata": {
    "ExecuteTime": {
     "end_time": "2024-12-24T05:58:13.477200Z",
     "start_time": "2024-12-24T05:58:13.474957Z"
    }
   },
   "cell_type": "code",
   "source": [
    "fruits = ['apple', 'banana', 'cherry', 'kiwi', 'mango']\n",
    "\n",
    "# 문자열 길이 기준\n",
    "sorted(fruits, key=len)"
   ],
   "id": "91c54bbfeb036df1",
   "outputs": [
    {
     "data": {
      "text/plain": [
       "['kiwi', 'apple', 'mango', 'banana', 'cherry']"
      ]
     },
     "execution_count": 111,
     "metadata": {},
     "output_type": "execute_result"
    }
   ],
   "execution_count": 111
  },
  {
   "metadata": {},
   "cell_type": "code",
   "outputs": [],
   "execution_count": null,
   "source": [
    "my_dict = {3: 'c', 5: 'a', 2: 'b'}\n",
    "\n",
    "print(sorted(my_dict.items()))\n",
    "print(sorted(my_dict))\n",
    "print(sorted(my_dict.keys()))\n",
    "print(sorted(my_dict.items(), key=lambda x: x[1]))"
   ],
   "id": "3ceb1f4b2d18b925"
  },
  {
   "metadata": {},
   "cell_type": "markdown",
   "source": "# 모듈",
   "id": "117b27dd4255c4d2"
  },
  {
   "metadata": {
    "ExecuteTime": {
     "end_time": "2024-12-24T06:34:31.695662Z",
     "start_time": "2024-12-24T06:34:31.693704Z"
    }
   },
   "cell_type": "code",
   "source": [
    "# import math\n",
    "# import math as m\n",
    "# m.pow(2, 3)\n",
    "\n",
    "# from math import pow\n",
    "# pow(2, 3)\n",
    "\n",
    "from math import *\n",
    "\n",
    "print(pow(2, 3))\n",
    "print(sqrt(9))"
   ],
   "id": "1220234b73619834",
   "outputs": [
    {
     "name": "stdout",
     "output_type": "stream",
     "text": [
      "8.0\n",
      "3.0\n"
     ]
    }
   ],
   "execution_count": 124
  },
  {
   "metadata": {
    "ExecuteTime": {
     "end_time": "2024-12-24T06:47:11.351230Z",
     "start_time": "2024-12-24T06:47:11.348894Z"
    }
   },
   "cell_type": "code",
   "source": [
    "import random\n",
    "\n",
    "# list(random.sample(range(50), 6))\n",
    "\n",
    "result1 = []\n",
    "while len(result1) < 6:\n",
    "    num = random.randint(1, 45)\n",
    "    if num not in result1:\n",
    "        result1.append(num)\n",
    "print(result1)"
   ],
   "id": "5da2aced7bd4b61f",
   "outputs": [
    {
     "name": "stdout",
     "output_type": "stream",
     "text": [
      "[12, 32, 42, 31, 24, 35]\n"
     ]
    }
   ],
   "execution_count": 160
  },
  {
   "metadata": {
    "ExecuteTime": {
     "end_time": "2024-12-24T07:14:37.246102Z",
     "start_time": "2024-12-24T07:14:37.243443Z"
    }
   },
   "cell_type": "code",
   "source": [
    "# 클래스\n",
    "class Dog:\n",
    "    species = 'mammal'\n",
    "\n",
    "    def __init__(self, name, age):\n",
    "        self.name = name\n",
    "        self.age = age\n",
    "\n",
    "    def bark(self):\n",
    "        return f'{self.name} is barking'\n",
    "\n",
    "dog1 = Dog('Lily', 3)\n",
    "dog2 = Dog('Tom', 5)\n",
    "\n",
    "print(dog1.bark())"
   ],
   "id": "a3bf5653e467adf",
   "outputs": [
    {
     "name": "stdout",
     "output_type": "stream",
     "text": [
      "Lily is barking\n"
     ]
    }
   ],
   "execution_count": 165
  },
  {
   "metadata": {
    "ExecuteTime": {
     "end_time": "2024-12-24T07:43:47.955932Z",
     "start_time": "2024-12-24T07:43:47.953548Z"
    }
   },
   "cell_type": "code",
   "source": [
    "class FourCal:\n",
    "    def __init__(self, num1, num2):\n",
    "        self.num1 = num1\n",
    "        self.num2 = num2\n",
    "    def add(self):\n",
    "        return self.num1 + self.num2\n",
    "    def sub(self):\n",
    "        return self.num1 - self.num2\n",
    "    def mul(self):\n",
    "        return self.num1 * self.num2\n",
    "    def div(self):\n",
    "        return self.num1 / self.num2"
   ],
   "id": "5bfadd9026bd2e6b",
   "outputs": [],
   "execution_count": 170
  },
  {
   "metadata": {
    "ExecuteTime": {
     "end_time": "2024-12-24T07:43:49.707589Z",
     "start_time": "2024-12-24T07:43:49.704776Z"
    }
   },
   "cell_type": "code",
   "source": [
    "class AdvancedFourCal(FourCal):\n",
    "    def pow(self):\n",
    "        return self.num1 ** self.num2\n",
    "\n",
    "c = AdvancedFourCal(2, 3)\n",
    "c.pow()"
   ],
   "id": "f691c3ef4fdef093",
   "outputs": [
    {
     "data": {
      "text/plain": [
       "8"
      ]
     },
     "execution_count": 171,
     "metadata": {},
     "output_type": "execute_result"
    }
   ],
   "execution_count": 171
  },
  {
   "metadata": {
    "ExecuteTime": {
     "end_time": "2024-12-24T07:43:52.629217Z",
     "start_time": "2024-12-24T07:43:52.627311Z"
    }
   },
   "cell_type": "code",
   "source": [
    "class SafeFourCal(FourCal):\n",
    "    def div(self):\n",
    "        if self.num2 == 0:\n",
    "            return 0\n",
    "        else:\n",
    "            return self.num1 / self.num2"
   ],
   "id": "6d4f9c86bf8785ce",
   "outputs": [],
   "execution_count": 172
  },
  {
   "metadata": {},
   "cell_type": "code",
   "outputs": [],
   "execution_count": null,
   "source": "",
   "id": "996c0c237ee3f79f"
  }
 ],
 "metadata": {
  "kernelspec": {
   "display_name": "Python 3",
   "language": "python",
   "name": "python3"
  },
  "language_info": {
   "codemirror_mode": {
    "name": "ipython",
    "version": 2
   },
   "file_extension": ".py",
   "mimetype": "text/x-python",
   "name": "python",
   "nbconvert_exporter": "python",
   "pygments_lexer": "ipython2",
   "version": "2.7.6"
  }
 },
 "nbformat": 4,
 "nbformat_minor": 5
}
