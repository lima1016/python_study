{
 "cells": [
  {
   "cell_type": "code",
   "metadata": {
    "gather": {
     "logged": 1718683920330
    },
    "ExecuteTime": {
     "end_time": "2024-12-30T06:15:46.862253Z",
     "start_time": "2024-12-30T06:15:46.860700Z"
    }
   },
   "source": [
    "# pandas 라이브러리를 Import하기\n",
    "import pandas as pd"
   ],
   "outputs": [],
   "execution_count": 226
  },
  {
   "cell_type": "code",
   "metadata": {
    "gather": {
     "logged": 1718683920480
    },
    "ExecuteTime": {
     "end_time": "2024-12-30T06:15:46.924383Z",
     "start_time": "2024-12-30T06:15:46.919863Z"
    }
   },
   "source": [
    "# 데이터 파일을 읽어오기\n",
    "rock_sample = pd.read_csv('rocksamples.csv')"
   ],
   "outputs": [],
   "execution_count": 227
  },
  {
   "cell_type": "code",
   "metadata": {
    "gather": {
     "logged": 1718683920653
    },
    "ExecuteTime": {
     "end_time": "2024-12-30T06:15:46.937452Z",
     "start_time": "2024-12-30T06:15:46.933076Z"
    }
   },
   "source": [
    "# 데이터프레임 처음과 마지막 5개행 확인하기\n",
    "rock_sample.head()\n",
    "# rock_sample[-5:]\n",
    "rock_sample.tail()\n"
   ],
   "outputs": [
    {
     "data": {
      "text/plain": [
       "         ID   Mission     Type   Subtype  Weight (g)  Pristine (%)\n",
       "2224  79528  Apollo17  Breccia  Regolith        2.38         100.0\n",
       "2225  79529  Apollo17  Breccia  Regolith        1.84         100.0\n",
       "2226  79535  Apollo17  Breccia  Regolith        1.69         100.0\n",
       "2227  79536  Apollo17  Breccia  Regolith        1.66         100.0\n",
       "2228  79537  Apollo17  Breccia  Regolith        1.05         100.0"
      ],
      "text/html": [
       "<div>\n",
       "<style scoped>\n",
       "    .dataframe tbody tr th:only-of-type {\n",
       "        vertical-align: middle;\n",
       "    }\n",
       "\n",
       "    .dataframe tbody tr th {\n",
       "        vertical-align: top;\n",
       "    }\n",
       "\n",
       "    .dataframe thead th {\n",
       "        text-align: right;\n",
       "    }\n",
       "</style>\n",
       "<table border=\"1\" class=\"dataframe\">\n",
       "  <thead>\n",
       "    <tr style=\"text-align: right;\">\n",
       "      <th></th>\n",
       "      <th>ID</th>\n",
       "      <th>Mission</th>\n",
       "      <th>Type</th>\n",
       "      <th>Subtype</th>\n",
       "      <th>Weight (g)</th>\n",
       "      <th>Pristine (%)</th>\n",
       "    </tr>\n",
       "  </thead>\n",
       "  <tbody>\n",
       "    <tr>\n",
       "      <th>2224</th>\n",
       "      <td>79528</td>\n",
       "      <td>Apollo17</td>\n",
       "      <td>Breccia</td>\n",
       "      <td>Regolith</td>\n",
       "      <td>2.38</td>\n",
       "      <td>100.0</td>\n",
       "    </tr>\n",
       "    <tr>\n",
       "      <th>2225</th>\n",
       "      <td>79529</td>\n",
       "      <td>Apollo17</td>\n",
       "      <td>Breccia</td>\n",
       "      <td>Regolith</td>\n",
       "      <td>1.84</td>\n",
       "      <td>100.0</td>\n",
       "    </tr>\n",
       "    <tr>\n",
       "      <th>2226</th>\n",
       "      <td>79535</td>\n",
       "      <td>Apollo17</td>\n",
       "      <td>Breccia</td>\n",
       "      <td>Regolith</td>\n",
       "      <td>1.69</td>\n",
       "      <td>100.0</td>\n",
       "    </tr>\n",
       "    <tr>\n",
       "      <th>2227</th>\n",
       "      <td>79536</td>\n",
       "      <td>Apollo17</td>\n",
       "      <td>Breccia</td>\n",
       "      <td>Regolith</td>\n",
       "      <td>1.66</td>\n",
       "      <td>100.0</td>\n",
       "    </tr>\n",
       "    <tr>\n",
       "      <th>2228</th>\n",
       "      <td>79537</td>\n",
       "      <td>Apollo17</td>\n",
       "      <td>Breccia</td>\n",
       "      <td>Regolith</td>\n",
       "      <td>1.05</td>\n",
       "      <td>100.0</td>\n",
       "    </tr>\n",
       "  </tbody>\n",
       "</table>\n",
       "</div>"
      ]
     },
     "execution_count": 228,
     "metadata": {},
     "output_type": "execute_result"
    }
   ],
   "execution_count": 228
  },
  {
   "cell_type": "code",
   "metadata": {
    "gather": {
     "logged": 1718683920791
    },
    "ExecuteTime": {
     "end_time": "2024-12-30T06:15:46.962549Z",
     "start_time": "2024-12-30T06:15:46.959151Z"
    }
   },
   "source": [
    "#rock_sample 데이터프레임 정보 확인하기\n",
    "rock_sample.info()"
   ],
   "outputs": [
    {
     "name": "stdout",
     "output_type": "stream",
     "text": [
      "<class 'pandas.core.frame.DataFrame'>\n",
      "RangeIndex: 2229 entries, 0 to 2228\n",
      "Data columns (total 6 columns):\n",
      " #   Column        Non-Null Count  Dtype  \n",
      "---  ------        --------------  -----  \n",
      " 0   ID            2229 non-null   int64  \n",
      " 1   Mission       2229 non-null   object \n",
      " 2   Type          2229 non-null   object \n",
      " 3   Subtype       2226 non-null   object \n",
      " 4   Weight (g)    2229 non-null   float64\n",
      " 5   Pristine (%)  2229 non-null   float64\n",
      "dtypes: float64(2), int64(1), object(3)\n",
      "memory usage: 104.6+ KB\n"
     ]
    }
   ],
   "execution_count": 229
  },
  {
   "cell_type": "code",
   "metadata": {
    "gather": {
     "logged": 1718683920927
    },
    "ExecuteTime": {
     "end_time": "2024-12-30T06:15:47.008024Z",
     "start_time": "2024-12-30T06:15:47.005260Z"
    }
   },
   "source": [
    "#rock_sample 데이터프레임 행수 확인\n",
    "rock_sample.shape[0]\n"
   ],
   "outputs": [
    {
     "data": {
      "text/plain": [
       "2229"
      ]
     },
     "execution_count": 230,
     "metadata": {},
     "output_type": "execute_result"
    }
   ],
   "execution_count": 230
  },
  {
   "cell_type": "code",
   "metadata": {
    "gather": {
     "logged": 1718683921069
    },
    "ExecuteTime": {
     "end_time": "2024-12-30T06:15:47.084640Z",
     "start_time": "2024-12-30T06:15:47.082349Z"
    }
   },
   "source": [
    "#rock_sample 데이터 프레임의 인덱스 확인\n",
    "rock_sample.index"
   ],
   "outputs": [
    {
     "data": {
      "text/plain": [
       "RangeIndex(start=0, stop=2229, step=1)"
      ]
     },
     "execution_count": 231,
     "metadata": {},
     "output_type": "execute_result"
    }
   ],
   "execution_count": 231
  },
  {
   "cell_type": "code",
   "metadata": {
    "gather": {
     "logged": 1718683921221
    },
    "ExecuteTime": {
     "end_time": "2024-12-30T06:15:47.119171Z",
     "start_time": "2024-12-30T06:15:47.116730Z"
    }
   },
   "source": [
    "#rock_sample 데이터프레임 열수 확인\n",
    "rock_sample.shape[1]"
   ],
   "outputs": [
    {
     "data": {
      "text/plain": [
       "6"
      ]
     },
     "execution_count": 232,
     "metadata": {},
     "output_type": "execute_result"
    }
   ],
   "execution_count": 232
  },
  {
   "cell_type": "code",
   "metadata": {
    "gather": {
     "logged": 1718683921363
    },
    "ExecuteTime": {
     "end_time": "2024-12-30T06:15:47.131022Z",
     "start_time": "2024-12-30T06:15:47.128914Z"
    }
   },
   "source": [
    "#rock_sample 데이터프레임의 모양 확인\n",
    "rock_sample.shape"
   ],
   "outputs": [
    {
     "data": {
      "text/plain": [
       "(2229, 6)"
      ]
     },
     "execution_count": 233,
     "metadata": {},
     "output_type": "execute_result"
    }
   ],
   "execution_count": 233
  },
  {
   "cell_type": "code",
   "metadata": {
    "gather": {
     "logged": 1718683921516
    },
    "ExecuteTime": {
     "end_time": "2024-12-30T06:15:47.155298Z",
     "start_time": "2024-12-30T06:15:47.152882Z"
    }
   },
   "source": [
    "#rock_sample 데이터프레임의 컬럼명 확인\n",
    "rock_sample.columns"
   ],
   "outputs": [
    {
     "data": {
      "text/plain": [
       "Index(['ID', 'Mission', 'Type', 'Subtype', 'Weight (g)', 'Pristine (%)'], dtype='object')"
      ]
     },
     "execution_count": 234,
     "metadata": {},
     "output_type": "execute_result"
    }
   ],
   "execution_count": 234
  },
  {
   "cell_type": "code",
   "metadata": {
    "gather": {
     "logged": 1718683921666
    },
    "ExecuteTime": {
     "end_time": "2024-12-30T06:15:47.187853Z",
     "start_time": "2024-12-30T06:15:47.184677Z"
    }
   },
   "source": [
    "#rock_sample 데이터프레임 컬럼들의 데이터타입 확인\n",
    "rock_sample.dtypes"
   ],
   "outputs": [
    {
     "data": {
      "text/plain": [
       "ID                int64\n",
       "Mission          object\n",
       "Type             object\n",
       "Subtype          object\n",
       "Weight (g)      float64\n",
       "Pristine (%)    float64\n",
       "dtype: object"
      ]
     },
     "execution_count": 235,
     "metadata": {},
     "output_type": "execute_result"
    }
   ],
   "execution_count": 235
  },
  {
   "cell_type": "code",
   "metadata": {
    "gather": {
     "logged": 1718683921813
    },
    "ExecuteTime": {
     "end_time": "2024-12-30T06:15:47.240004Z",
     "start_time": "2024-12-30T06:15:47.234221Z"
    }
   },
   "source": [
    "# rock_sample 데이터프레임 수치 데이터의 요약 통계 확인\n",
    "rock_sample.describe()"
   ],
   "outputs": [
    {
     "data": {
      "text/plain": [
       "                 ID    Weight (g)  Pristine (%)\n",
       "count   2229.000000   2229.000000   2229.000000\n",
       "mean   52058.432032    168.253024     84.512764\n",
       "std    26207.651471    637.286458     22.057299\n",
       "min    10001.000000      0.000000      0.000000\n",
       "25%    15437.000000      3.000000     80.010000\n",
       "50%    65527.000000     10.200000     92.300000\n",
       "75%    72142.000000     93.490000     98.140000\n",
       "max    79537.000000  11729.000000    180.000000"
      ],
      "text/html": [
       "<div>\n",
       "<style scoped>\n",
       "    .dataframe tbody tr th:only-of-type {\n",
       "        vertical-align: middle;\n",
       "    }\n",
       "\n",
       "    .dataframe tbody tr th {\n",
       "        vertical-align: top;\n",
       "    }\n",
       "\n",
       "    .dataframe thead th {\n",
       "        text-align: right;\n",
       "    }\n",
       "</style>\n",
       "<table border=\"1\" class=\"dataframe\">\n",
       "  <thead>\n",
       "    <tr style=\"text-align: right;\">\n",
       "      <th></th>\n",
       "      <th>ID</th>\n",
       "      <th>Weight (g)</th>\n",
       "      <th>Pristine (%)</th>\n",
       "    </tr>\n",
       "  </thead>\n",
       "  <tbody>\n",
       "    <tr>\n",
       "      <th>count</th>\n",
       "      <td>2229.000000</td>\n",
       "      <td>2229.000000</td>\n",
       "      <td>2229.000000</td>\n",
       "    </tr>\n",
       "    <tr>\n",
       "      <th>mean</th>\n",
       "      <td>52058.432032</td>\n",
       "      <td>168.253024</td>\n",
       "      <td>84.512764</td>\n",
       "    </tr>\n",
       "    <tr>\n",
       "      <th>std</th>\n",
       "      <td>26207.651471</td>\n",
       "      <td>637.286458</td>\n",
       "      <td>22.057299</td>\n",
       "    </tr>\n",
       "    <tr>\n",
       "      <th>min</th>\n",
       "      <td>10001.000000</td>\n",
       "      <td>0.000000</td>\n",
       "      <td>0.000000</td>\n",
       "    </tr>\n",
       "    <tr>\n",
       "      <th>25%</th>\n",
       "      <td>15437.000000</td>\n",
       "      <td>3.000000</td>\n",
       "      <td>80.010000</td>\n",
       "    </tr>\n",
       "    <tr>\n",
       "      <th>50%</th>\n",
       "      <td>65527.000000</td>\n",
       "      <td>10.200000</td>\n",
       "      <td>92.300000</td>\n",
       "    </tr>\n",
       "    <tr>\n",
       "      <th>75%</th>\n",
       "      <td>72142.000000</td>\n",
       "      <td>93.490000</td>\n",
       "      <td>98.140000</td>\n",
       "    </tr>\n",
       "    <tr>\n",
       "      <th>max</th>\n",
       "      <td>79537.000000</td>\n",
       "      <td>11729.000000</td>\n",
       "      <td>180.000000</td>\n",
       "    </tr>\n",
       "  </tbody>\n",
       "</table>\n",
       "</div>"
      ]
     },
     "execution_count": 236,
     "metadata": {},
     "output_type": "execute_result"
    }
   ],
   "execution_count": 236
  },
  {
   "metadata": {
    "ExecuteTime": {
     "end_time": "2024-12-30T06:15:47.279684Z",
     "start_time": "2024-12-30T06:15:47.274676Z"
    }
   },
   "cell_type": "code",
   "source": "rock_sample[rock_sample['Pristine (%)'] >= 100]",
   "outputs": [
    {
     "data": {
      "text/plain": [
       "         ID   Mission     Type     Subtype  Weight (g)  Pristine (%)\n",
       "50    10070  Apollo11  Breccia    Regolith       60.16        112.50\n",
       "82    12016  Apollo12   Basalt    Ilmenite     2028.00        100.08\n",
       "91    12025  Apollo12     Core    Unsieved       56.10        163.41\n",
       "123   12060  Apollo12     Soil    Unsieved       20.70        107.11\n",
       "140   14007  Apollo14  Breccia  Fragmental        3.67        100.00\n",
       "...     ...       ...      ...         ...         ...           ...\n",
       "2224  79528  Apollo17  Breccia    Regolith        2.38        100.00\n",
       "2225  79529  Apollo17  Breccia    Regolith        1.84        100.00\n",
       "2226  79535  Apollo17  Breccia    Regolith        1.69        100.00\n",
       "2227  79536  Apollo17  Breccia    Regolith        1.66        100.00\n",
       "2228  79537  Apollo17  Breccia    Regolith        1.05        100.00\n",
       "\n",
       "[361 rows x 6 columns]"
      ],
      "text/html": [
       "<div>\n",
       "<style scoped>\n",
       "    .dataframe tbody tr th:only-of-type {\n",
       "        vertical-align: middle;\n",
       "    }\n",
       "\n",
       "    .dataframe tbody tr th {\n",
       "        vertical-align: top;\n",
       "    }\n",
       "\n",
       "    .dataframe thead th {\n",
       "        text-align: right;\n",
       "    }\n",
       "</style>\n",
       "<table border=\"1\" class=\"dataframe\">\n",
       "  <thead>\n",
       "    <tr style=\"text-align: right;\">\n",
       "      <th></th>\n",
       "      <th>ID</th>\n",
       "      <th>Mission</th>\n",
       "      <th>Type</th>\n",
       "      <th>Subtype</th>\n",
       "      <th>Weight (g)</th>\n",
       "      <th>Pristine (%)</th>\n",
       "    </tr>\n",
       "  </thead>\n",
       "  <tbody>\n",
       "    <tr>\n",
       "      <th>50</th>\n",
       "      <td>10070</td>\n",
       "      <td>Apollo11</td>\n",
       "      <td>Breccia</td>\n",
       "      <td>Regolith</td>\n",
       "      <td>60.16</td>\n",
       "      <td>112.50</td>\n",
       "    </tr>\n",
       "    <tr>\n",
       "      <th>82</th>\n",
       "      <td>12016</td>\n",
       "      <td>Apollo12</td>\n",
       "      <td>Basalt</td>\n",
       "      <td>Ilmenite</td>\n",
       "      <td>2028.00</td>\n",
       "      <td>100.08</td>\n",
       "    </tr>\n",
       "    <tr>\n",
       "      <th>91</th>\n",
       "      <td>12025</td>\n",
       "      <td>Apollo12</td>\n",
       "      <td>Core</td>\n",
       "      <td>Unsieved</td>\n",
       "      <td>56.10</td>\n",
       "      <td>163.41</td>\n",
       "    </tr>\n",
       "    <tr>\n",
       "      <th>123</th>\n",
       "      <td>12060</td>\n",
       "      <td>Apollo12</td>\n",
       "      <td>Soil</td>\n",
       "      <td>Unsieved</td>\n",
       "      <td>20.70</td>\n",
       "      <td>107.11</td>\n",
       "    </tr>\n",
       "    <tr>\n",
       "      <th>140</th>\n",
       "      <td>14007</td>\n",
       "      <td>Apollo14</td>\n",
       "      <td>Breccia</td>\n",
       "      <td>Fragmental</td>\n",
       "      <td>3.67</td>\n",
       "      <td>100.00</td>\n",
       "    </tr>\n",
       "    <tr>\n",
       "      <th>...</th>\n",
       "      <td>...</td>\n",
       "      <td>...</td>\n",
       "      <td>...</td>\n",
       "      <td>...</td>\n",
       "      <td>...</td>\n",
       "      <td>...</td>\n",
       "    </tr>\n",
       "    <tr>\n",
       "      <th>2224</th>\n",
       "      <td>79528</td>\n",
       "      <td>Apollo17</td>\n",
       "      <td>Breccia</td>\n",
       "      <td>Regolith</td>\n",
       "      <td>2.38</td>\n",
       "      <td>100.00</td>\n",
       "    </tr>\n",
       "    <tr>\n",
       "      <th>2225</th>\n",
       "      <td>79529</td>\n",
       "      <td>Apollo17</td>\n",
       "      <td>Breccia</td>\n",
       "      <td>Regolith</td>\n",
       "      <td>1.84</td>\n",
       "      <td>100.00</td>\n",
       "    </tr>\n",
       "    <tr>\n",
       "      <th>2226</th>\n",
       "      <td>79535</td>\n",
       "      <td>Apollo17</td>\n",
       "      <td>Breccia</td>\n",
       "      <td>Regolith</td>\n",
       "      <td>1.69</td>\n",
       "      <td>100.00</td>\n",
       "    </tr>\n",
       "    <tr>\n",
       "      <th>2227</th>\n",
       "      <td>79536</td>\n",
       "      <td>Apollo17</td>\n",
       "      <td>Breccia</td>\n",
       "      <td>Regolith</td>\n",
       "      <td>1.66</td>\n",
       "      <td>100.00</td>\n",
       "    </tr>\n",
       "    <tr>\n",
       "      <th>2228</th>\n",
       "      <td>79537</td>\n",
       "      <td>Apollo17</td>\n",
       "      <td>Breccia</td>\n",
       "      <td>Regolith</td>\n",
       "      <td>1.05</td>\n",
       "      <td>100.00</td>\n",
       "    </tr>\n",
       "  </tbody>\n",
       "</table>\n",
       "<p>361 rows × 6 columns</p>\n",
       "</div>"
      ]
     },
     "execution_count": 237,
     "metadata": {},
     "output_type": "execute_result"
    }
   ],
   "execution_count": 237
  },
  {
   "cell_type": "markdown",
   "metadata": {},
   "source": [
    "## 각 컬럼별 누락값 검사"
   ]
  },
  {
   "cell_type": "code",
   "metadata": {
    "gather": {
     "logged": 1718683922187
    },
    "ExecuteTime": {
     "end_time": "2024-12-30T06:15:47.342885Z",
     "start_time": "2024-12-30T06:15:47.338636Z"
    }
   },
   "source": [
    "# 1단계 -> rock_sample 데이터프레임에 null값이 있는지 확인\n",
    "rock_sample.isnull()"
   ],
   "outputs": [
    {
     "data": {
      "text/plain": [
       "         ID  Mission   Type  Subtype  Weight (g)  Pristine (%)\n",
       "0     False    False  False    False       False         False\n",
       "1     False    False  False    False       False         False\n",
       "2     False    False  False    False       False         False\n",
       "3     False    False  False    False       False         False\n",
       "4     False    False  False    False       False         False\n",
       "...     ...      ...    ...      ...         ...           ...\n",
       "2224  False    False  False    False       False         False\n",
       "2225  False    False  False    False       False         False\n",
       "2226  False    False  False    False       False         False\n",
       "2227  False    False  False    False       False         False\n",
       "2228  False    False  False    False       False         False\n",
       "\n",
       "[2229 rows x 6 columns]"
      ],
      "text/html": [
       "<div>\n",
       "<style scoped>\n",
       "    .dataframe tbody tr th:only-of-type {\n",
       "        vertical-align: middle;\n",
       "    }\n",
       "\n",
       "    .dataframe tbody tr th {\n",
       "        vertical-align: top;\n",
       "    }\n",
       "\n",
       "    .dataframe thead th {\n",
       "        text-align: right;\n",
       "    }\n",
       "</style>\n",
       "<table border=\"1\" class=\"dataframe\">\n",
       "  <thead>\n",
       "    <tr style=\"text-align: right;\">\n",
       "      <th></th>\n",
       "      <th>ID</th>\n",
       "      <th>Mission</th>\n",
       "      <th>Type</th>\n",
       "      <th>Subtype</th>\n",
       "      <th>Weight (g)</th>\n",
       "      <th>Pristine (%)</th>\n",
       "    </tr>\n",
       "  </thead>\n",
       "  <tbody>\n",
       "    <tr>\n",
       "      <th>0</th>\n",
       "      <td>False</td>\n",
       "      <td>False</td>\n",
       "      <td>False</td>\n",
       "      <td>False</td>\n",
       "      <td>False</td>\n",
       "      <td>False</td>\n",
       "    </tr>\n",
       "    <tr>\n",
       "      <th>1</th>\n",
       "      <td>False</td>\n",
       "      <td>False</td>\n",
       "      <td>False</td>\n",
       "      <td>False</td>\n",
       "      <td>False</td>\n",
       "      <td>False</td>\n",
       "    </tr>\n",
       "    <tr>\n",
       "      <th>2</th>\n",
       "      <td>False</td>\n",
       "      <td>False</td>\n",
       "      <td>False</td>\n",
       "      <td>False</td>\n",
       "      <td>False</td>\n",
       "      <td>False</td>\n",
       "    </tr>\n",
       "    <tr>\n",
       "      <th>3</th>\n",
       "      <td>False</td>\n",
       "      <td>False</td>\n",
       "      <td>False</td>\n",
       "      <td>False</td>\n",
       "      <td>False</td>\n",
       "      <td>False</td>\n",
       "    </tr>\n",
       "    <tr>\n",
       "      <th>4</th>\n",
       "      <td>False</td>\n",
       "      <td>False</td>\n",
       "      <td>False</td>\n",
       "      <td>False</td>\n",
       "      <td>False</td>\n",
       "      <td>False</td>\n",
       "    </tr>\n",
       "    <tr>\n",
       "      <th>...</th>\n",
       "      <td>...</td>\n",
       "      <td>...</td>\n",
       "      <td>...</td>\n",
       "      <td>...</td>\n",
       "      <td>...</td>\n",
       "      <td>...</td>\n",
       "    </tr>\n",
       "    <tr>\n",
       "      <th>2224</th>\n",
       "      <td>False</td>\n",
       "      <td>False</td>\n",
       "      <td>False</td>\n",
       "      <td>False</td>\n",
       "      <td>False</td>\n",
       "      <td>False</td>\n",
       "    </tr>\n",
       "    <tr>\n",
       "      <th>2225</th>\n",
       "      <td>False</td>\n",
       "      <td>False</td>\n",
       "      <td>False</td>\n",
       "      <td>False</td>\n",
       "      <td>False</td>\n",
       "      <td>False</td>\n",
       "    </tr>\n",
       "    <tr>\n",
       "      <th>2226</th>\n",
       "      <td>False</td>\n",
       "      <td>False</td>\n",
       "      <td>False</td>\n",
       "      <td>False</td>\n",
       "      <td>False</td>\n",
       "      <td>False</td>\n",
       "    </tr>\n",
       "    <tr>\n",
       "      <th>2227</th>\n",
       "      <td>False</td>\n",
       "      <td>False</td>\n",
       "      <td>False</td>\n",
       "      <td>False</td>\n",
       "      <td>False</td>\n",
       "      <td>False</td>\n",
       "    </tr>\n",
       "    <tr>\n",
       "      <th>2228</th>\n",
       "      <td>False</td>\n",
       "      <td>False</td>\n",
       "      <td>False</td>\n",
       "      <td>False</td>\n",
       "      <td>False</td>\n",
       "      <td>False</td>\n",
       "    </tr>\n",
       "  </tbody>\n",
       "</table>\n",
       "<p>2229 rows × 6 columns</p>\n",
       "</div>"
      ]
     },
     "execution_count": 238,
     "metadata": {},
     "output_type": "execute_result"
    }
   ],
   "execution_count": 238
  },
  {
   "cell_type": "code",
   "metadata": {
    "gather": {
     "logged": 1718683922531
    },
    "ExecuteTime": {
     "end_time": "2024-12-30T06:15:47.453934Z",
     "start_time": "2024-12-30T06:15:47.451154Z"
    }
   },
   "source": [
    "#결측치 갯수 확인인. false:0, True:1\n",
    "rock_sample.isnull().sum()\n"
   ],
   "outputs": [
    {
     "data": {
      "text/plain": [
       "ID              0\n",
       "Mission         0\n",
       "Type            0\n",
       "Subtype         3\n",
       "Weight (g)      0\n",
       "Pristine (%)    0\n",
       "dtype: int64"
      ]
     },
     "execution_count": 239,
     "metadata": {},
     "output_type": "execute_result"
    }
   ],
   "execution_count": 239
  },
  {
   "cell_type": "markdown",
   "metadata": {},
   "source": [
    "## 컬럼값 변환 : weight(g) -> weight(kg)\n",
    "    "
   ]
  },
  {
   "cell_type": "code",
   "metadata": {
    "gather": {
     "logged": 1718683922744
    },
    "ExecuteTime": {
     "end_time": "2024-12-30T06:15:47.549393Z",
     "start_time": "2024-12-30T06:15:47.545458Z"
    }
   },
   "source": "rock_sample.head(2)",
   "outputs": [
    {
     "data": {
      "text/plain": [
       "      ID   Mission  Type   Subtype  Weight (g)  Pristine (%)\n",
       "0  10001  Apollo11  Soil  Unsieved       125.8         88.36\n",
       "1  10002  Apollo11  Soil  Unsieved      5629.0         93.73"
      ],
      "text/html": [
       "<div>\n",
       "<style scoped>\n",
       "    .dataframe tbody tr th:only-of-type {\n",
       "        vertical-align: middle;\n",
       "    }\n",
       "\n",
       "    .dataframe tbody tr th {\n",
       "        vertical-align: top;\n",
       "    }\n",
       "\n",
       "    .dataframe thead th {\n",
       "        text-align: right;\n",
       "    }\n",
       "</style>\n",
       "<table border=\"1\" class=\"dataframe\">\n",
       "  <thead>\n",
       "    <tr style=\"text-align: right;\">\n",
       "      <th></th>\n",
       "      <th>ID</th>\n",
       "      <th>Mission</th>\n",
       "      <th>Type</th>\n",
       "      <th>Subtype</th>\n",
       "      <th>Weight (g)</th>\n",
       "      <th>Pristine (%)</th>\n",
       "    </tr>\n",
       "  </thead>\n",
       "  <tbody>\n",
       "    <tr>\n",
       "      <th>0</th>\n",
       "      <td>10001</td>\n",
       "      <td>Apollo11</td>\n",
       "      <td>Soil</td>\n",
       "      <td>Unsieved</td>\n",
       "      <td>125.8</td>\n",
       "      <td>88.36</td>\n",
       "    </tr>\n",
       "    <tr>\n",
       "      <th>1</th>\n",
       "      <td>10002</td>\n",
       "      <td>Apollo11</td>\n",
       "      <td>Soil</td>\n",
       "      <td>Unsieved</td>\n",
       "      <td>5629.0</td>\n",
       "      <td>93.73</td>\n",
       "    </tr>\n",
       "  </tbody>\n",
       "</table>\n",
       "</div>"
      ]
     },
     "execution_count": 240,
     "metadata": {},
     "output_type": "execute_result"
    }
   ],
   "execution_count": 240
  },
  {
   "cell_type": "code",
   "metadata": {
    "gather": {
     "logged": 1718683922899
    },
    "ExecuteTime": {
     "end_time": "2024-12-30T06:15:47.640806Z",
     "start_time": "2024-12-30T06:15:47.637418Z"
    }
   },
   "source": "rock_sample['Weight (g)']",
   "outputs": [
    {
     "data": {
      "text/plain": [
       "0        125.80\n",
       "1       5629.00\n",
       "2        213.00\n",
       "3         44.80\n",
       "4         53.40\n",
       "         ...   \n",
       "2224       2.38\n",
       "2225       1.84\n",
       "2226       1.69\n",
       "2227       1.66\n",
       "2228       1.05\n",
       "Name: Weight (g), Length: 2229, dtype: float64"
      ]
     },
     "execution_count": 241,
     "metadata": {},
     "output_type": "execute_result"
    }
   ],
   "execution_count": 241
  },
  {
   "cell_type": "code",
   "metadata": {
    "gather": {
     "logged": 1718683923109
    },
    "ExecuteTime": {
     "end_time": "2024-12-30T06:15:47.742259Z",
     "start_time": "2024-12-30T06:15:47.739971Z"
    }
   },
   "source": [
    "# 1단계 -> 컬럼값변환 : rock_sample['Weight (g)'] -> rock_sample['Weight (kg)]\n",
    "rock_sample['Weight (g)'] = rock_sample['Weight (g)'].apply(lambda x: x *0.001)"
   ],
   "outputs": [],
   "execution_count": 242
  },
  {
   "cell_type": "code",
   "metadata": {
    "gather": {
     "logged": 1718683923395
    },
    "ExecuteTime": {
     "end_time": "2024-12-30T06:15:47.833856Z",
     "start_time": "2024-12-30T06:15:47.829935Z"
    }
   },
   "source": "rock_sample.head()\n",
   "outputs": [
    {
     "data": {
      "text/plain": [
       "      ID   Mission    Type   Subtype  Weight (g)  Pristine (%)\n",
       "0  10001  Apollo11    Soil  Unsieved      0.1258         88.36\n",
       "1  10002  Apollo11    Soil  Unsieved      5.6290         93.73\n",
       "2  10003  Apollo11  Basalt  Ilmenite      0.2130         65.56\n",
       "3  10004  Apollo11    Core  Unsieved      0.0448         71.76\n",
       "4  10005  Apollo11    Core  Unsieved      0.0534         40.31"
      ],
      "text/html": [
       "<div>\n",
       "<style scoped>\n",
       "    .dataframe tbody tr th:only-of-type {\n",
       "        vertical-align: middle;\n",
       "    }\n",
       "\n",
       "    .dataframe tbody tr th {\n",
       "        vertical-align: top;\n",
       "    }\n",
       "\n",
       "    .dataframe thead th {\n",
       "        text-align: right;\n",
       "    }\n",
       "</style>\n",
       "<table border=\"1\" class=\"dataframe\">\n",
       "  <thead>\n",
       "    <tr style=\"text-align: right;\">\n",
       "      <th></th>\n",
       "      <th>ID</th>\n",
       "      <th>Mission</th>\n",
       "      <th>Type</th>\n",
       "      <th>Subtype</th>\n",
       "      <th>Weight (g)</th>\n",
       "      <th>Pristine (%)</th>\n",
       "    </tr>\n",
       "  </thead>\n",
       "  <tbody>\n",
       "    <tr>\n",
       "      <th>0</th>\n",
       "      <td>10001</td>\n",
       "      <td>Apollo11</td>\n",
       "      <td>Soil</td>\n",
       "      <td>Unsieved</td>\n",
       "      <td>0.1258</td>\n",
       "      <td>88.36</td>\n",
       "    </tr>\n",
       "    <tr>\n",
       "      <th>1</th>\n",
       "      <td>10002</td>\n",
       "      <td>Apollo11</td>\n",
       "      <td>Soil</td>\n",
       "      <td>Unsieved</td>\n",
       "      <td>5.6290</td>\n",
       "      <td>93.73</td>\n",
       "    </tr>\n",
       "    <tr>\n",
       "      <th>2</th>\n",
       "      <td>10003</td>\n",
       "      <td>Apollo11</td>\n",
       "      <td>Basalt</td>\n",
       "      <td>Ilmenite</td>\n",
       "      <td>0.2130</td>\n",
       "      <td>65.56</td>\n",
       "    </tr>\n",
       "    <tr>\n",
       "      <th>3</th>\n",
       "      <td>10004</td>\n",
       "      <td>Apollo11</td>\n",
       "      <td>Core</td>\n",
       "      <td>Unsieved</td>\n",
       "      <td>0.0448</td>\n",
       "      <td>71.76</td>\n",
       "    </tr>\n",
       "    <tr>\n",
       "      <th>4</th>\n",
       "      <td>10005</td>\n",
       "      <td>Apollo11</td>\n",
       "      <td>Core</td>\n",
       "      <td>Unsieved</td>\n",
       "      <td>0.0534</td>\n",
       "      <td>40.31</td>\n",
       "    </tr>\n",
       "  </tbody>\n",
       "</table>\n",
       "</div>"
      ]
     },
     "execution_count": 243,
     "metadata": {},
     "output_type": "execute_result"
    }
   ],
   "execution_count": 243
  },
  {
   "cell_type": "code",
   "metadata": {
    "gather": {
     "logged": 1718683923601
    },
    "ExecuteTime": {
     "end_time": "2024-12-30T06:15:47.888115Z",
     "start_time": "2024-12-30T06:15:47.885886Z"
    }
   },
   "source": [
    "#2단계 -> 컬럼명 변환 : 'Weight(g)' -> 'Weight(kg)\n",
    "rock_sample.rename(columns={'Weight (g)' : 'Weight (kg)'}, inplace=True)"
   ],
   "outputs": [],
   "execution_count": 244
  },
  {
   "metadata": {
    "ExecuteTime": {
     "end_time": "2024-12-30T06:15:47.949224Z",
     "start_time": "2024-12-30T06:15:47.945075Z"
    }
   },
   "cell_type": "code",
   "source": "rock_sample.head()",
   "outputs": [
    {
     "data": {
      "text/plain": [
       "      ID   Mission    Type   Subtype  Weight (kg)  Pristine (%)\n",
       "0  10001  Apollo11    Soil  Unsieved       0.1258         88.36\n",
       "1  10002  Apollo11    Soil  Unsieved       5.6290         93.73\n",
       "2  10003  Apollo11  Basalt  Ilmenite       0.2130         65.56\n",
       "3  10004  Apollo11    Core  Unsieved       0.0448         71.76\n",
       "4  10005  Apollo11    Core  Unsieved       0.0534         40.31"
      ],
      "text/html": [
       "<div>\n",
       "<style scoped>\n",
       "    .dataframe tbody tr th:only-of-type {\n",
       "        vertical-align: middle;\n",
       "    }\n",
       "\n",
       "    .dataframe tbody tr th {\n",
       "        vertical-align: top;\n",
       "    }\n",
       "\n",
       "    .dataframe thead th {\n",
       "        text-align: right;\n",
       "    }\n",
       "</style>\n",
       "<table border=\"1\" class=\"dataframe\">\n",
       "  <thead>\n",
       "    <tr style=\"text-align: right;\">\n",
       "      <th></th>\n",
       "      <th>ID</th>\n",
       "      <th>Mission</th>\n",
       "      <th>Type</th>\n",
       "      <th>Subtype</th>\n",
       "      <th>Weight (kg)</th>\n",
       "      <th>Pristine (%)</th>\n",
       "    </tr>\n",
       "  </thead>\n",
       "  <tbody>\n",
       "    <tr>\n",
       "      <th>0</th>\n",
       "      <td>10001</td>\n",
       "      <td>Apollo11</td>\n",
       "      <td>Soil</td>\n",
       "      <td>Unsieved</td>\n",
       "      <td>0.1258</td>\n",
       "      <td>88.36</td>\n",
       "    </tr>\n",
       "    <tr>\n",
       "      <th>1</th>\n",
       "      <td>10002</td>\n",
       "      <td>Apollo11</td>\n",
       "      <td>Soil</td>\n",
       "      <td>Unsieved</td>\n",
       "      <td>5.6290</td>\n",
       "      <td>93.73</td>\n",
       "    </tr>\n",
       "    <tr>\n",
       "      <th>2</th>\n",
       "      <td>10003</td>\n",
       "      <td>Apollo11</td>\n",
       "      <td>Basalt</td>\n",
       "      <td>Ilmenite</td>\n",
       "      <td>0.2130</td>\n",
       "      <td>65.56</td>\n",
       "    </tr>\n",
       "    <tr>\n",
       "      <th>3</th>\n",
       "      <td>10004</td>\n",
       "      <td>Apollo11</td>\n",
       "      <td>Core</td>\n",
       "      <td>Unsieved</td>\n",
       "      <td>0.0448</td>\n",
       "      <td>71.76</td>\n",
       "    </tr>\n",
       "    <tr>\n",
       "      <th>4</th>\n",
       "      <td>10005</td>\n",
       "      <td>Apollo11</td>\n",
       "      <td>Core</td>\n",
       "      <td>Unsieved</td>\n",
       "      <td>0.0534</td>\n",
       "      <td>40.31</td>\n",
       "    </tr>\n",
       "  </tbody>\n",
       "</table>\n",
       "</div>"
      ]
     },
     "execution_count": 245,
     "metadata": {},
     "output_type": "execute_result"
    }
   ],
   "execution_count": 245
  },
  {
   "cell_type": "markdown",
   "metadata": {},
   "source": [
    "## 아폴로 임무별 데이터 프레임 만들기 : missions"
   ]
  },
  {
   "metadata": {
    "ExecuteTime": {
     "end_time": "2024-12-30T06:15:48.026398Z",
     "start_time": "2024-12-30T06:15:48.023603Z"
    }
   },
   "cell_type": "code",
   "source": "rock_sample['Mission'].value_counts()",
   "outputs": [
    {
     "data": {
      "text/plain": [
       "Mission\n",
       "Apollo16    767\n",
       "Apollo17    756\n",
       "Apollo15    364\n",
       "Apollo14    207\n",
       "Apollo12     68\n",
       "Apollo11     67\n",
       "Name: count, dtype: int64"
      ]
     },
     "execution_count": 246,
     "metadata": {},
     "output_type": "execute_result"
    }
   ],
   "execution_count": 246
  },
  {
   "metadata": {
    "gather": {
     "logged": 1718683923800
    },
    "ExecuteTime": {
     "end_time": "2024-12-30T06:15:48.085959Z",
     "start_time": "2024-12-30T06:15:48.084251Z"
    }
   },
   "cell_type": "code",
   "source": [
    "# 빈 데이터 프레임을 만들고 변수 missions에 할당한다.\n",
    "# missions = pd.DataFrame(rock_sample['Mission'].unique(), columns=['Mission'])\n",
    "missions = pd.DataFrame()"
   ],
   "outputs": [],
   "execution_count": 247
  },
  {
   "cell_type": "code",
   "metadata": {
    "gather": {
     "logged": 1718683924006
    },
    "ExecuteTime": {
     "end_time": "2024-12-30T06:15:48.175191Z",
     "start_time": "2024-12-30T06:15:48.172977Z"
    }
   },
   "source": [
    "type(missions)"
   ],
   "outputs": [
    {
     "data": {
      "text/plain": [
       "pandas.core.frame.DataFrame"
      ]
     },
     "execution_count": 248,
     "metadata": {},
     "output_type": "execute_result"
    }
   ],
   "execution_count": 248
  },
  {
   "cell_type": "code",
   "metadata": {
    "gather": {
     "logged": 1718683924154
    },
    "ExecuteTime": {
     "end_time": "2024-12-30T06:15:48.257350Z",
     "start_time": "2024-12-30T06:15:48.254825Z"
    }
   },
   "source": [
    "#rock_sample['Mission']의 중복되지 않은 고유값들을 알아본다.\n",
    "rock_sample['Mission'].unique()"
   ],
   "outputs": [
    {
     "data": {
      "text/plain": [
       "array(['Apollo11', 'Apollo12', 'Apollo14', 'Apollo15', 'Apollo16',\n",
       "       'Apollo17'], dtype=object)"
      ]
     },
     "execution_count": 249,
     "metadata": {},
     "output_type": "execute_result"
    }
   ],
   "execution_count": 249
  },
  {
   "cell_type": "code",
   "metadata": {
    "gather": {
     "logged": 1718683924367
    },
    "ExecuteTime": {
     "end_time": "2024-12-30T06:15:48.306267Z",
     "start_time": "2024-12-30T06:15:48.302864Z"
    }
   },
   "source": [
    "#위의 값들을 mission 데이터프레임의 새로운 컬럼인 mission['Mission']에 할당한다.\n",
    "missions['Mission'] = rock_sample['Mission'].unique()\n",
    "missions"
   ],
   "outputs": [
    {
     "data": {
      "text/plain": [
       "    Mission\n",
       "0  Apollo11\n",
       "1  Apollo12\n",
       "2  Apollo14\n",
       "3  Apollo15\n",
       "4  Apollo16\n",
       "5  Apollo17"
      ],
      "text/html": [
       "<div>\n",
       "<style scoped>\n",
       "    .dataframe tbody tr th:only-of-type {\n",
       "        vertical-align: middle;\n",
       "    }\n",
       "\n",
       "    .dataframe tbody tr th {\n",
       "        vertical-align: top;\n",
       "    }\n",
       "\n",
       "    .dataframe thead th {\n",
       "        text-align: right;\n",
       "    }\n",
       "</style>\n",
       "<table border=\"1\" class=\"dataframe\">\n",
       "  <thead>\n",
       "    <tr style=\"text-align: right;\">\n",
       "      <th></th>\n",
       "      <th>Mission</th>\n",
       "    </tr>\n",
       "  </thead>\n",
       "  <tbody>\n",
       "    <tr>\n",
       "      <th>0</th>\n",
       "      <td>Apollo11</td>\n",
       "    </tr>\n",
       "    <tr>\n",
       "      <th>1</th>\n",
       "      <td>Apollo12</td>\n",
       "    </tr>\n",
       "    <tr>\n",
       "      <th>2</th>\n",
       "      <td>Apollo14</td>\n",
       "    </tr>\n",
       "    <tr>\n",
       "      <th>3</th>\n",
       "      <td>Apollo15</td>\n",
       "    </tr>\n",
       "    <tr>\n",
       "      <th>4</th>\n",
       "      <td>Apollo16</td>\n",
       "    </tr>\n",
       "    <tr>\n",
       "      <th>5</th>\n",
       "      <td>Apollo17</td>\n",
       "    </tr>\n",
       "  </tbody>\n",
       "</table>\n",
       "</div>"
      ]
     },
     "execution_count": 250,
     "metadata": {},
     "output_type": "execute_result"
    }
   ],
   "execution_count": 250
  },
  {
   "cell_type": "markdown",
   "metadata": {},
   "source": [
    "#### 아폴로 임무별 샘플 중량 총합"
   ]
  },
  {
   "cell_type": "code",
   "metadata": {
    "gather": {
     "logged": 1718683924585
    },
    "ExecuteTime": {
     "end_time": "2024-12-30T06:15:48.347018Z",
     "start_time": "2024-12-30T06:15:48.343943Z"
    }
   },
   "source": [
    "# rock_sample 데이터프레임의 'Mission' 컬럼을 기준으로 그룹으로 나눈다 -> groupby()\n",
    "# 나누어진 그룹에서 'weight (kg)' 컬럼의 총합을 구한다 -> groupby('Mission')['weight (kg)].sum()\n",
    "# 결국 아폴로 달탐사 임무별로 수집해온 암석 샘플 총중량을 구해서 새로운 변수에 할당한다. -> 이 변수는 시리즈이다.\n",
    "sample_total_weight = rock_sample.groupby('Mission')['Weight (kg)'].sum()\n",
    "sample_total_weight\n",
    "# rock_sample.groupby('Mission')['Weight (kg)'].min()\n",
    "# rock_sample.groupby('Mission')['Weight (kg)'].max()"
   ],
   "outputs": [
    {
     "data": {
      "text/plain": [
       "Mission\n",
       "Apollo11     21.55424\n",
       "Apollo12     34.34238\n",
       "Apollo14     41.83363\n",
       "Apollo15     75.39910\n",
       "Apollo16     92.46262\n",
       "Apollo17    109.44402\n",
       "Name: Weight (kg), dtype: float64"
      ]
     },
     "execution_count": 251,
     "metadata": {},
     "output_type": "execute_result"
    }
   ],
   "execution_count": 251
  },
  {
   "metadata": {
    "ExecuteTime": {
     "end_time": "2024-12-30T06:15:48.388518Z",
     "start_time": "2024-12-30T06:15:48.385653Z"
    }
   },
   "cell_type": "code",
   "source": "sample_total_weight.values",
   "outputs": [
    {
     "data": {
      "text/plain": [
       "array([ 21.55424,  34.34238,  41.83363,  75.3991 ,  92.46262, 109.44402])"
      ]
     },
     "execution_count": 252,
     "metadata": {},
     "output_type": "execute_result"
    }
   ],
   "execution_count": 252
  },
  {
   "metadata": {
    "gather": {
     "logged": 1718683924918
    },
    "ExecuteTime": {
     "end_time": "2024-12-30T06:15:48.444966Z",
     "start_time": "2024-12-30T06:15:48.441843Z"
    }
   },
   "cell_type": "code",
   "source": [
    "# missions 데이터프레임과 sample_total_weight 시리즈를 병합한다.\n",
    "# 같은 방법이다.\n",
    "# missions['Weight (kg)'] = sample_total_weight.values\n",
    "# missions = pd.merge(missions, sample_total_weight, on='Mission')\n",
    "# missions.drop(columns='Weight (kg)_y', inplace=True)\n",
    "missions"
   ],
   "outputs": [
    {
     "data": {
      "text/plain": [
       "    Mission\n",
       "0  Apollo11\n",
       "1  Apollo12\n",
       "2  Apollo14\n",
       "3  Apollo15\n",
       "4  Apollo16\n",
       "5  Apollo17"
      ],
      "text/html": [
       "<div>\n",
       "<style scoped>\n",
       "    .dataframe tbody tr th:only-of-type {\n",
       "        vertical-align: middle;\n",
       "    }\n",
       "\n",
       "    .dataframe tbody tr th {\n",
       "        vertical-align: top;\n",
       "    }\n",
       "\n",
       "    .dataframe thead th {\n",
       "        text-align: right;\n",
       "    }\n",
       "</style>\n",
       "<table border=\"1\" class=\"dataframe\">\n",
       "  <thead>\n",
       "    <tr style=\"text-align: right;\">\n",
       "      <th></th>\n",
       "      <th>Mission</th>\n",
       "    </tr>\n",
       "  </thead>\n",
       "  <tbody>\n",
       "    <tr>\n",
       "      <th>0</th>\n",
       "      <td>Apollo11</td>\n",
       "    </tr>\n",
       "    <tr>\n",
       "      <th>1</th>\n",
       "      <td>Apollo12</td>\n",
       "    </tr>\n",
       "    <tr>\n",
       "      <th>2</th>\n",
       "      <td>Apollo14</td>\n",
       "    </tr>\n",
       "    <tr>\n",
       "      <th>3</th>\n",
       "      <td>Apollo15</td>\n",
       "    </tr>\n",
       "    <tr>\n",
       "      <th>4</th>\n",
       "      <td>Apollo16</td>\n",
       "    </tr>\n",
       "    <tr>\n",
       "      <th>5</th>\n",
       "      <td>Apollo17</td>\n",
       "    </tr>\n",
       "  </tbody>\n",
       "</table>\n",
       "</div>"
      ]
     },
     "execution_count": 253,
     "metadata": {},
     "output_type": "execute_result"
    }
   ],
   "execution_count": 253
  },
  {
   "cell_type": "code",
   "metadata": {
    "gather": {
     "logged": 1718683925125
    },
    "ExecuteTime": {
     "end_time": "2024-12-30T06:15:48.478150Z",
     "start_time": "2024-12-30T06:15:48.474897Z"
    }
   },
   "source": [
    "# 컬럼명을 'Weight (kg)' 을 'Sample weight (kg)'으로 변경한다.\n",
    "missions.rename(columns={'Weight (kg)':'Sample weight (kg)'}, inplace=True)\n",
    "missions"
   ],
   "outputs": [
    {
     "data": {
      "text/plain": [
       "    Mission\n",
       "0  Apollo11\n",
       "1  Apollo12\n",
       "2  Apollo14\n",
       "3  Apollo15\n",
       "4  Apollo16\n",
       "5  Apollo17"
      ],
      "text/html": [
       "<div>\n",
       "<style scoped>\n",
       "    .dataframe tbody tr th:only-of-type {\n",
       "        vertical-align: middle;\n",
       "    }\n",
       "\n",
       "    .dataframe tbody tr th {\n",
       "        vertical-align: top;\n",
       "    }\n",
       "\n",
       "    .dataframe thead th {\n",
       "        text-align: right;\n",
       "    }\n",
       "</style>\n",
       "<table border=\"1\" class=\"dataframe\">\n",
       "  <thead>\n",
       "    <tr style=\"text-align: right;\">\n",
       "      <th></th>\n",
       "      <th>Mission</th>\n",
       "    </tr>\n",
       "  </thead>\n",
       "  <tbody>\n",
       "    <tr>\n",
       "      <th>0</th>\n",
       "      <td>Apollo11</td>\n",
       "    </tr>\n",
       "    <tr>\n",
       "      <th>1</th>\n",
       "      <td>Apollo12</td>\n",
       "    </tr>\n",
       "    <tr>\n",
       "      <th>2</th>\n",
       "      <td>Apollo14</td>\n",
       "    </tr>\n",
       "    <tr>\n",
       "      <th>3</th>\n",
       "      <td>Apollo15</td>\n",
       "    </tr>\n",
       "    <tr>\n",
       "      <th>4</th>\n",
       "      <td>Apollo16</td>\n",
       "    </tr>\n",
       "    <tr>\n",
       "      <th>5</th>\n",
       "      <td>Apollo17</td>\n",
       "    </tr>\n",
       "  </tbody>\n",
       "</table>\n",
       "</div>"
      ]
     },
     "execution_count": 254,
     "metadata": {},
     "output_type": "execute_result"
    }
   ],
   "execution_count": 254
  },
  {
   "cell_type": "code",
   "metadata": {
    "ExecuteTime": {
     "end_time": "2024-12-30T06:15:48.556700Z",
     "start_time": "2024-12-30T06:15:48.537378Z"
    }
   },
   "source": [
    "# 임무간 중량 차이 구하기\n",
    "missions['Sample weight (kg)'].diff()"
   ],
   "outputs": [
    {
     "ename": "KeyError",
     "evalue": "'Sample weight (kg)'",
     "output_type": "error",
     "traceback": [
      "\u001B[1;31m---------------------------------------------------------------------------\u001B[0m",
      "\u001B[1;31mKeyError\u001B[0m                                  Traceback (most recent call last)",
      "File \u001B[1;32mC:\\git\\python_study\\.venv\\Lib\\site-packages\\pandas\\core\\indexes\\base.py:3805\u001B[0m, in \u001B[0;36mIndex.get_loc\u001B[1;34m(self, key)\u001B[0m\n\u001B[0;32m   3804\u001B[0m \u001B[38;5;28;01mtry\u001B[39;00m:\n\u001B[1;32m-> 3805\u001B[0m     \u001B[38;5;28;01mreturn\u001B[39;00m \u001B[38;5;28;43mself\u001B[39;49m\u001B[38;5;241;43m.\u001B[39;49m\u001B[43m_engine\u001B[49m\u001B[38;5;241;43m.\u001B[39;49m\u001B[43mget_loc\u001B[49m\u001B[43m(\u001B[49m\u001B[43mcasted_key\u001B[49m\u001B[43m)\u001B[49m\n\u001B[0;32m   3806\u001B[0m \u001B[38;5;28;01mexcept\u001B[39;00m \u001B[38;5;167;01mKeyError\u001B[39;00m \u001B[38;5;28;01mas\u001B[39;00m err:\n",
      "File \u001B[1;32mindex.pyx:167\u001B[0m, in \u001B[0;36mpandas._libs.index.IndexEngine.get_loc\u001B[1;34m()\u001B[0m\n",
      "File \u001B[1;32mindex.pyx:196\u001B[0m, in \u001B[0;36mpandas._libs.index.IndexEngine.get_loc\u001B[1;34m()\u001B[0m\n",
      "File \u001B[1;32mpandas\\\\_libs\\\\hashtable_class_helper.pxi:7081\u001B[0m, in \u001B[0;36mpandas._libs.hashtable.PyObjectHashTable.get_item\u001B[1;34m()\u001B[0m\n",
      "File \u001B[1;32mpandas\\\\_libs\\\\hashtable_class_helper.pxi:7089\u001B[0m, in \u001B[0;36mpandas._libs.hashtable.PyObjectHashTable.get_item\u001B[1;34m()\u001B[0m\n",
      "\u001B[1;31mKeyError\u001B[0m: 'Sample weight (kg)'",
      "\nThe above exception was the direct cause of the following exception:\n",
      "\u001B[1;31mKeyError\u001B[0m                                  Traceback (most recent call last)",
      "Cell \u001B[1;32mIn[255], line 2\u001B[0m\n\u001B[0;32m      1\u001B[0m \u001B[38;5;66;03m# 임무간 중량 차이 구하기\u001B[39;00m\n\u001B[1;32m----> 2\u001B[0m \u001B[43mmissions\u001B[49m\u001B[43m[\u001B[49m\u001B[38;5;124;43m'\u001B[39;49m\u001B[38;5;124;43mSample weight (kg)\u001B[39;49m\u001B[38;5;124;43m'\u001B[39;49m\u001B[43m]\u001B[49m\u001B[38;5;241m.\u001B[39mdiff()\n",
      "File \u001B[1;32mC:\\git\\python_study\\.venv\\Lib\\site-packages\\pandas\\core\\frame.py:4102\u001B[0m, in \u001B[0;36mDataFrame.__getitem__\u001B[1;34m(self, key)\u001B[0m\n\u001B[0;32m   4100\u001B[0m \u001B[38;5;28;01mif\u001B[39;00m \u001B[38;5;28mself\u001B[39m\u001B[38;5;241m.\u001B[39mcolumns\u001B[38;5;241m.\u001B[39mnlevels \u001B[38;5;241m>\u001B[39m \u001B[38;5;241m1\u001B[39m:\n\u001B[0;32m   4101\u001B[0m     \u001B[38;5;28;01mreturn\u001B[39;00m \u001B[38;5;28mself\u001B[39m\u001B[38;5;241m.\u001B[39m_getitem_multilevel(key)\n\u001B[1;32m-> 4102\u001B[0m indexer \u001B[38;5;241m=\u001B[39m \u001B[38;5;28;43mself\u001B[39;49m\u001B[38;5;241;43m.\u001B[39;49m\u001B[43mcolumns\u001B[49m\u001B[38;5;241;43m.\u001B[39;49m\u001B[43mget_loc\u001B[49m\u001B[43m(\u001B[49m\u001B[43mkey\u001B[49m\u001B[43m)\u001B[49m\n\u001B[0;32m   4103\u001B[0m \u001B[38;5;28;01mif\u001B[39;00m is_integer(indexer):\n\u001B[0;32m   4104\u001B[0m     indexer \u001B[38;5;241m=\u001B[39m [indexer]\n",
      "File \u001B[1;32mC:\\git\\python_study\\.venv\\Lib\\site-packages\\pandas\\core\\indexes\\base.py:3812\u001B[0m, in \u001B[0;36mIndex.get_loc\u001B[1;34m(self, key)\u001B[0m\n\u001B[0;32m   3807\u001B[0m     \u001B[38;5;28;01mif\u001B[39;00m \u001B[38;5;28misinstance\u001B[39m(casted_key, \u001B[38;5;28mslice\u001B[39m) \u001B[38;5;129;01mor\u001B[39;00m (\n\u001B[0;32m   3808\u001B[0m         \u001B[38;5;28misinstance\u001B[39m(casted_key, abc\u001B[38;5;241m.\u001B[39mIterable)\n\u001B[0;32m   3809\u001B[0m         \u001B[38;5;129;01mand\u001B[39;00m \u001B[38;5;28many\u001B[39m(\u001B[38;5;28misinstance\u001B[39m(x, \u001B[38;5;28mslice\u001B[39m) \u001B[38;5;28;01mfor\u001B[39;00m x \u001B[38;5;129;01min\u001B[39;00m casted_key)\n\u001B[0;32m   3810\u001B[0m     ):\n\u001B[0;32m   3811\u001B[0m         \u001B[38;5;28;01mraise\u001B[39;00m InvalidIndexError(key)\n\u001B[1;32m-> 3812\u001B[0m     \u001B[38;5;28;01mraise\u001B[39;00m \u001B[38;5;167;01mKeyError\u001B[39;00m(key) \u001B[38;5;28;01mfrom\u001B[39;00m \u001B[38;5;21;01merr\u001B[39;00m\n\u001B[0;32m   3813\u001B[0m \u001B[38;5;28;01mexcept\u001B[39;00m \u001B[38;5;167;01mTypeError\u001B[39;00m:\n\u001B[0;32m   3814\u001B[0m     \u001B[38;5;66;03m# If we have a listlike key, _check_indexing_error will raise\u001B[39;00m\n\u001B[0;32m   3815\u001B[0m     \u001B[38;5;66;03m#  InvalidIndexError. Otherwise we fall through and re-raise\u001B[39;00m\n\u001B[0;32m   3816\u001B[0m     \u001B[38;5;66;03m#  the TypeError.\u001B[39;00m\n\u001B[0;32m   3817\u001B[0m     \u001B[38;5;28mself\u001B[39m\u001B[38;5;241m.\u001B[39m_check_indexing_error(key)\n",
      "\u001B[1;31mKeyError\u001B[0m: 'Sample weight (kg)'"
     ]
    }
   ],
   "execution_count": 255
  },
  {
   "cell_type": "code",
   "metadata": {
    "gather": {
     "logged": 1718683925270
    },
    "ExecuteTime": {
     "end_time": "2024-12-30T06:16:15.017909Z",
     "start_time": "2024-12-30T06:16:14.998475Z"
    }
   },
   "source": [
    "# 아폴로 임무간의 수집해온 암석 샘플 총중량 차이를 나타내는 컬럼 'Weight diff'를 missions 데이터프레임에 추가\n",
    "missions['Weight diff'] = missions['Sample weight (kg)'].diff()\n",
    "missions"
   ],
   "outputs": [
    {
     "ename": "KeyError",
     "evalue": "'Sample weight (kg)'",
     "output_type": "error",
     "traceback": [
      "\u001B[1;31m---------------------------------------------------------------------------\u001B[0m",
      "\u001B[1;31mKeyError\u001B[0m                                  Traceback (most recent call last)",
      "File \u001B[1;32mC:\\git\\python_study\\.venv\\Lib\\site-packages\\pandas\\core\\indexes\\base.py:3805\u001B[0m, in \u001B[0;36mIndex.get_loc\u001B[1;34m(self, key)\u001B[0m\n\u001B[0;32m   3804\u001B[0m \u001B[38;5;28;01mtry\u001B[39;00m:\n\u001B[1;32m-> 3805\u001B[0m     \u001B[38;5;28;01mreturn\u001B[39;00m \u001B[38;5;28;43mself\u001B[39;49m\u001B[38;5;241;43m.\u001B[39;49m\u001B[43m_engine\u001B[49m\u001B[38;5;241;43m.\u001B[39;49m\u001B[43mget_loc\u001B[49m\u001B[43m(\u001B[49m\u001B[43mcasted_key\u001B[49m\u001B[43m)\u001B[49m\n\u001B[0;32m   3806\u001B[0m \u001B[38;5;28;01mexcept\u001B[39;00m \u001B[38;5;167;01mKeyError\u001B[39;00m \u001B[38;5;28;01mas\u001B[39;00m err:\n",
      "File \u001B[1;32mindex.pyx:167\u001B[0m, in \u001B[0;36mpandas._libs.index.IndexEngine.get_loc\u001B[1;34m()\u001B[0m\n",
      "File \u001B[1;32mindex.pyx:196\u001B[0m, in \u001B[0;36mpandas._libs.index.IndexEngine.get_loc\u001B[1;34m()\u001B[0m\n",
      "File \u001B[1;32mpandas\\\\_libs\\\\hashtable_class_helper.pxi:7081\u001B[0m, in \u001B[0;36mpandas._libs.hashtable.PyObjectHashTable.get_item\u001B[1;34m()\u001B[0m\n",
      "File \u001B[1;32mpandas\\\\_libs\\\\hashtable_class_helper.pxi:7089\u001B[0m, in \u001B[0;36mpandas._libs.hashtable.PyObjectHashTable.get_item\u001B[1;34m()\u001B[0m\n",
      "\u001B[1;31mKeyError\u001B[0m: 'Sample weight (kg)'",
      "\nThe above exception was the direct cause of the following exception:\n",
      "\u001B[1;31mKeyError\u001B[0m                                  Traceback (most recent call last)",
      "Cell \u001B[1;32mIn[256], line 2\u001B[0m\n\u001B[0;32m      1\u001B[0m \u001B[38;5;66;03m# 아폴로 임무간의 수집해온 암석 샘플 총중량 차이를 나타내는 컬럼 'Weight diff'를 missions 데이터프레임에 추가\u001B[39;00m\n\u001B[1;32m----> 2\u001B[0m missions[\u001B[38;5;124m'\u001B[39m\u001B[38;5;124mWeight diff\u001B[39m\u001B[38;5;124m'\u001B[39m] \u001B[38;5;241m=\u001B[39m \u001B[43mmissions\u001B[49m\u001B[43m[\u001B[49m\u001B[38;5;124;43m'\u001B[39;49m\u001B[38;5;124;43mSample weight (kg)\u001B[39;49m\u001B[38;5;124;43m'\u001B[39;49m\u001B[43m]\u001B[49m\u001B[38;5;241m.\u001B[39mdiff()\n\u001B[0;32m      3\u001B[0m missions\n",
      "File \u001B[1;32mC:\\git\\python_study\\.venv\\Lib\\site-packages\\pandas\\core\\frame.py:4102\u001B[0m, in \u001B[0;36mDataFrame.__getitem__\u001B[1;34m(self, key)\u001B[0m\n\u001B[0;32m   4100\u001B[0m \u001B[38;5;28;01mif\u001B[39;00m \u001B[38;5;28mself\u001B[39m\u001B[38;5;241m.\u001B[39mcolumns\u001B[38;5;241m.\u001B[39mnlevels \u001B[38;5;241m>\u001B[39m \u001B[38;5;241m1\u001B[39m:\n\u001B[0;32m   4101\u001B[0m     \u001B[38;5;28;01mreturn\u001B[39;00m \u001B[38;5;28mself\u001B[39m\u001B[38;5;241m.\u001B[39m_getitem_multilevel(key)\n\u001B[1;32m-> 4102\u001B[0m indexer \u001B[38;5;241m=\u001B[39m \u001B[38;5;28;43mself\u001B[39;49m\u001B[38;5;241;43m.\u001B[39;49m\u001B[43mcolumns\u001B[49m\u001B[38;5;241;43m.\u001B[39;49m\u001B[43mget_loc\u001B[49m\u001B[43m(\u001B[49m\u001B[43mkey\u001B[49m\u001B[43m)\u001B[49m\n\u001B[0;32m   4103\u001B[0m \u001B[38;5;28;01mif\u001B[39;00m is_integer(indexer):\n\u001B[0;32m   4104\u001B[0m     indexer \u001B[38;5;241m=\u001B[39m [indexer]\n",
      "File \u001B[1;32mC:\\git\\python_study\\.venv\\Lib\\site-packages\\pandas\\core\\indexes\\base.py:3812\u001B[0m, in \u001B[0;36mIndex.get_loc\u001B[1;34m(self, key)\u001B[0m\n\u001B[0;32m   3807\u001B[0m     \u001B[38;5;28;01mif\u001B[39;00m \u001B[38;5;28misinstance\u001B[39m(casted_key, \u001B[38;5;28mslice\u001B[39m) \u001B[38;5;129;01mor\u001B[39;00m (\n\u001B[0;32m   3808\u001B[0m         \u001B[38;5;28misinstance\u001B[39m(casted_key, abc\u001B[38;5;241m.\u001B[39mIterable)\n\u001B[0;32m   3809\u001B[0m         \u001B[38;5;129;01mand\u001B[39;00m \u001B[38;5;28many\u001B[39m(\u001B[38;5;28misinstance\u001B[39m(x, \u001B[38;5;28mslice\u001B[39m) \u001B[38;5;28;01mfor\u001B[39;00m x \u001B[38;5;129;01min\u001B[39;00m casted_key)\n\u001B[0;32m   3810\u001B[0m     ):\n\u001B[0;32m   3811\u001B[0m         \u001B[38;5;28;01mraise\u001B[39;00m InvalidIndexError(key)\n\u001B[1;32m-> 3812\u001B[0m     \u001B[38;5;28;01mraise\u001B[39;00m \u001B[38;5;167;01mKeyError\u001B[39;00m(key) \u001B[38;5;28;01mfrom\u001B[39;00m \u001B[38;5;21;01merr\u001B[39;00m\n\u001B[0;32m   3813\u001B[0m \u001B[38;5;28;01mexcept\u001B[39;00m \u001B[38;5;167;01mTypeError\u001B[39;00m:\n\u001B[0;32m   3814\u001B[0m     \u001B[38;5;66;03m# If we have a listlike key, _check_indexing_error will raise\u001B[39;00m\n\u001B[0;32m   3815\u001B[0m     \u001B[38;5;66;03m#  InvalidIndexError. Otherwise we fall through and re-raise\u001B[39;00m\n\u001B[0;32m   3816\u001B[0m     \u001B[38;5;66;03m#  the TypeError.\u001B[39;00m\n\u001B[0;32m   3817\u001B[0m     \u001B[38;5;28mself\u001B[39m\u001B[38;5;241m.\u001B[39m_check_indexing_error(key)\n",
      "\u001B[1;31mKeyError\u001B[0m: 'Sample weight (kg)'"
     ]
    }
   ],
   "execution_count": 256
  },
  {
   "cell_type": "code",
   "metadata": {
    "gather": {
     "logged": 1718683925470
    },
    "ExecuteTime": {
     "end_time": "2024-12-30T06:16:18.615009Z",
     "start_time": "2024-12-30T06:16:18.611824Z"
    }
   },
   "source": [
    "# 아폴로 11은 그 전 달탐사가 없어 NaN 값을 가지므로 결측치 0으로 채우기\n",
    "missions.fillna(value=0, inplace=True)\n",
    "# missions = missions.fillna(0)\n",
    "missions\n"
   ],
   "outputs": [
    {
     "data": {
      "text/plain": [
       "    Mission\n",
       "0  Apollo11\n",
       "1  Apollo12\n",
       "2  Apollo14\n",
       "3  Apollo15\n",
       "4  Apollo16\n",
       "5  Apollo17"
      ],
      "text/html": [
       "<div>\n",
       "<style scoped>\n",
       "    .dataframe tbody tr th:only-of-type {\n",
       "        vertical-align: middle;\n",
       "    }\n",
       "\n",
       "    .dataframe tbody tr th {\n",
       "        vertical-align: top;\n",
       "    }\n",
       "\n",
       "    .dataframe thead th {\n",
       "        text-align: right;\n",
       "    }\n",
       "</style>\n",
       "<table border=\"1\" class=\"dataframe\">\n",
       "  <thead>\n",
       "    <tr style=\"text-align: right;\">\n",
       "      <th></th>\n",
       "      <th>Mission</th>\n",
       "    </tr>\n",
       "  </thead>\n",
       "  <tbody>\n",
       "    <tr>\n",
       "      <th>0</th>\n",
       "      <td>Apollo11</td>\n",
       "    </tr>\n",
       "    <tr>\n",
       "      <th>1</th>\n",
       "      <td>Apollo12</td>\n",
       "    </tr>\n",
       "    <tr>\n",
       "      <th>2</th>\n",
       "      <td>Apollo14</td>\n",
       "    </tr>\n",
       "    <tr>\n",
       "      <th>3</th>\n",
       "      <td>Apollo15</td>\n",
       "    </tr>\n",
       "    <tr>\n",
       "      <th>4</th>\n",
       "      <td>Apollo16</td>\n",
       "    </tr>\n",
       "    <tr>\n",
       "      <th>5</th>\n",
       "      <td>Apollo17</td>\n",
       "    </tr>\n",
       "  </tbody>\n",
       "</table>\n",
       "</div>"
      ]
     },
     "execution_count": 257,
     "metadata": {},
     "output_type": "execute_result"
    }
   ],
   "execution_count": 257
  },
  {
   "cell_type": "code",
   "metadata": {
    "gather": {
     "logged": 1718683925665
    },
    "ExecuteTime": {
     "end_time": "2024-12-30T06:16:23.546672Z",
     "start_time": "2024-12-30T06:16:23.542707Z"
    }
   },
   "source": [
    "# 달탐사선 = 달모듈 + 명령모듈 --> 이 둘을 합쳐서 승무원 모듈\n",
    "# 달 모듈의 이름, 중량 컬럼을 missions 데이터프레임에 추가\n",
    "missions['Lunar module (LM)'] = ['Eagle (LM-5)', 'Intrepid (LM-6)', 'Antares (LM-8)', 'Falcon (LM-10)', 'Orion (LM-11)', 'Challenger (LM-12)']\n",
    "missions['LM mass (kg)'] = [15103, 15235, 15264, 16430, 16445, 16456]\n",
    "missions\n"
   ],
   "outputs": [
    {
     "data": {
      "text/plain": [
       "    Mission   Lunar module (LM)  LM mass (kg)\n",
       "0  Apollo11        Eagle (LM-5)         15103\n",
       "1  Apollo12     Intrepid (LM-6)         15235\n",
       "2  Apollo14      Antares (LM-8)         15264\n",
       "3  Apollo15      Falcon (LM-10)         16430\n",
       "4  Apollo16       Orion (LM-11)         16445\n",
       "5  Apollo17  Challenger (LM-12)         16456"
      ],
      "text/html": [
       "<div>\n",
       "<style scoped>\n",
       "    .dataframe tbody tr th:only-of-type {\n",
       "        vertical-align: middle;\n",
       "    }\n",
       "\n",
       "    .dataframe tbody tr th {\n",
       "        vertical-align: top;\n",
       "    }\n",
       "\n",
       "    .dataframe thead th {\n",
       "        text-align: right;\n",
       "    }\n",
       "</style>\n",
       "<table border=\"1\" class=\"dataframe\">\n",
       "  <thead>\n",
       "    <tr style=\"text-align: right;\">\n",
       "      <th></th>\n",
       "      <th>Mission</th>\n",
       "      <th>Lunar module (LM)</th>\n",
       "      <th>LM mass (kg)</th>\n",
       "    </tr>\n",
       "  </thead>\n",
       "  <tbody>\n",
       "    <tr>\n",
       "      <th>0</th>\n",
       "      <td>Apollo11</td>\n",
       "      <td>Eagle (LM-5)</td>\n",
       "      <td>15103</td>\n",
       "    </tr>\n",
       "    <tr>\n",
       "      <th>1</th>\n",
       "      <td>Apollo12</td>\n",
       "      <td>Intrepid (LM-6)</td>\n",
       "      <td>15235</td>\n",
       "    </tr>\n",
       "    <tr>\n",
       "      <th>2</th>\n",
       "      <td>Apollo14</td>\n",
       "      <td>Antares (LM-8)</td>\n",
       "      <td>15264</td>\n",
       "    </tr>\n",
       "    <tr>\n",
       "      <th>3</th>\n",
       "      <td>Apollo15</td>\n",
       "      <td>Falcon (LM-10)</td>\n",
       "      <td>16430</td>\n",
       "    </tr>\n",
       "    <tr>\n",
       "      <th>4</th>\n",
       "      <td>Apollo16</td>\n",
       "      <td>Orion (LM-11)</td>\n",
       "      <td>16445</td>\n",
       "    </tr>\n",
       "    <tr>\n",
       "      <th>5</th>\n",
       "      <td>Apollo17</td>\n",
       "      <td>Challenger (LM-12)</td>\n",
       "      <td>16456</td>\n",
       "    </tr>\n",
       "  </tbody>\n",
       "</table>\n",
       "</div>"
      ]
     },
     "execution_count": 259,
     "metadata": {},
     "output_type": "execute_result"
    }
   ],
   "execution_count": 259
  },
  {
   "cell_type": "code",
   "metadata": {
    "gather": {
     "logged": 1718683925862
    },
    "ExecuteTime": {
     "end_time": "2024-12-30T06:16:26.640425Z",
     "start_time": "2024-12-30T06:16:26.636190Z"
    }
   },
   "source": [
    "# 아폴로 임무별로 달모듈 중량 차이를 구해서 새로운 컬럼 'LM mass diff'를 만들어서  missions 데이터프레임에 추가\n",
    "missions['LM mass diff'] = missions['LM mass (kg)'].diff()\n",
    "missions\n"
   ],
   "outputs": [
    {
     "data": {
      "text/plain": [
       "    Mission   Lunar module (LM)  LM mass (kg)  LM mass diff\n",
       "0  Apollo11        Eagle (LM-5)         15103           NaN\n",
       "1  Apollo12     Intrepid (LM-6)         15235         132.0\n",
       "2  Apollo14      Antares (LM-8)         15264          29.0\n",
       "3  Apollo15      Falcon (LM-10)         16430        1166.0\n",
       "4  Apollo16       Orion (LM-11)         16445          15.0\n",
       "5  Apollo17  Challenger (LM-12)         16456          11.0"
      ],
      "text/html": [
       "<div>\n",
       "<style scoped>\n",
       "    .dataframe tbody tr th:only-of-type {\n",
       "        vertical-align: middle;\n",
       "    }\n",
       "\n",
       "    .dataframe tbody tr th {\n",
       "        vertical-align: top;\n",
       "    }\n",
       "\n",
       "    .dataframe thead th {\n",
       "        text-align: right;\n",
       "    }\n",
       "</style>\n",
       "<table border=\"1\" class=\"dataframe\">\n",
       "  <thead>\n",
       "    <tr style=\"text-align: right;\">\n",
       "      <th></th>\n",
       "      <th>Mission</th>\n",
       "      <th>Lunar module (LM)</th>\n",
       "      <th>LM mass (kg)</th>\n",
       "      <th>LM mass diff</th>\n",
       "    </tr>\n",
       "  </thead>\n",
       "  <tbody>\n",
       "    <tr>\n",
       "      <th>0</th>\n",
       "      <td>Apollo11</td>\n",
       "      <td>Eagle (LM-5)</td>\n",
       "      <td>15103</td>\n",
       "      <td>NaN</td>\n",
       "    </tr>\n",
       "    <tr>\n",
       "      <th>1</th>\n",
       "      <td>Apollo12</td>\n",
       "      <td>Intrepid (LM-6)</td>\n",
       "      <td>15235</td>\n",
       "      <td>132.0</td>\n",
       "    </tr>\n",
       "    <tr>\n",
       "      <th>2</th>\n",
       "      <td>Apollo14</td>\n",
       "      <td>Antares (LM-8)</td>\n",
       "      <td>15264</td>\n",
       "      <td>29.0</td>\n",
       "    </tr>\n",
       "    <tr>\n",
       "      <th>3</th>\n",
       "      <td>Apollo15</td>\n",
       "      <td>Falcon (LM-10)</td>\n",
       "      <td>16430</td>\n",
       "      <td>1166.0</td>\n",
       "    </tr>\n",
       "    <tr>\n",
       "      <th>4</th>\n",
       "      <td>Apollo16</td>\n",
       "      <td>Orion (LM-11)</td>\n",
       "      <td>16445</td>\n",
       "      <td>15.0</td>\n",
       "    </tr>\n",
       "    <tr>\n",
       "      <th>5</th>\n",
       "      <td>Apollo17</td>\n",
       "      <td>Challenger (LM-12)</td>\n",
       "      <td>16456</td>\n",
       "      <td>11.0</td>\n",
       "    </tr>\n",
       "  </tbody>\n",
       "</table>\n",
       "</div>"
      ]
     },
     "execution_count": 260,
     "metadata": {},
     "output_type": "execute_result"
    }
   ],
   "execution_count": 260
  },
  {
   "cell_type": "code",
   "metadata": {
    "gather": {
     "logged": 1718683926130
    },
    "ExecuteTime": {
     "end_time": "2024-12-30T06:16:29.152660Z",
     "start_time": "2024-12-30T06:16:29.148341Z"
    }
   },
   "source": [
    "# 결측치가 있다면 0으로 채우기\n",
    "missions.fillna(value=0, inplace=True)\n",
    "missions\n"
   ],
   "outputs": [
    {
     "data": {
      "text/plain": [
       "    Mission   Lunar module (LM)  LM mass (kg)  LM mass diff\n",
       "0  Apollo11        Eagle (LM-5)         15103           0.0\n",
       "1  Apollo12     Intrepid (LM-6)         15235         132.0\n",
       "2  Apollo14      Antares (LM-8)         15264          29.0\n",
       "3  Apollo15      Falcon (LM-10)         16430        1166.0\n",
       "4  Apollo16       Orion (LM-11)         16445          15.0\n",
       "5  Apollo17  Challenger (LM-12)         16456          11.0"
      ],
      "text/html": [
       "<div>\n",
       "<style scoped>\n",
       "    .dataframe tbody tr th:only-of-type {\n",
       "        vertical-align: middle;\n",
       "    }\n",
       "\n",
       "    .dataframe tbody tr th {\n",
       "        vertical-align: top;\n",
       "    }\n",
       "\n",
       "    .dataframe thead th {\n",
       "        text-align: right;\n",
       "    }\n",
       "</style>\n",
       "<table border=\"1\" class=\"dataframe\">\n",
       "  <thead>\n",
       "    <tr style=\"text-align: right;\">\n",
       "      <th></th>\n",
       "      <th>Mission</th>\n",
       "      <th>Lunar module (LM)</th>\n",
       "      <th>LM mass (kg)</th>\n",
       "      <th>LM mass diff</th>\n",
       "    </tr>\n",
       "  </thead>\n",
       "  <tbody>\n",
       "    <tr>\n",
       "      <th>0</th>\n",
       "      <td>Apollo11</td>\n",
       "      <td>Eagle (LM-5)</td>\n",
       "      <td>15103</td>\n",
       "      <td>0.0</td>\n",
       "    </tr>\n",
       "    <tr>\n",
       "      <th>1</th>\n",
       "      <td>Apollo12</td>\n",
       "      <td>Intrepid (LM-6)</td>\n",
       "      <td>15235</td>\n",
       "      <td>132.0</td>\n",
       "    </tr>\n",
       "    <tr>\n",
       "      <th>2</th>\n",
       "      <td>Apollo14</td>\n",
       "      <td>Antares (LM-8)</td>\n",
       "      <td>15264</td>\n",
       "      <td>29.0</td>\n",
       "    </tr>\n",
       "    <tr>\n",
       "      <th>3</th>\n",
       "      <td>Apollo15</td>\n",
       "      <td>Falcon (LM-10)</td>\n",
       "      <td>16430</td>\n",
       "      <td>1166.0</td>\n",
       "    </tr>\n",
       "    <tr>\n",
       "      <th>4</th>\n",
       "      <td>Apollo16</td>\n",
       "      <td>Orion (LM-11)</td>\n",
       "      <td>16445</td>\n",
       "      <td>15.0</td>\n",
       "    </tr>\n",
       "    <tr>\n",
       "      <th>5</th>\n",
       "      <td>Apollo17</td>\n",
       "      <td>Challenger (LM-12)</td>\n",
       "      <td>16456</td>\n",
       "      <td>11.0</td>\n",
       "    </tr>\n",
       "  </tbody>\n",
       "</table>\n",
       "</div>"
      ]
     },
     "execution_count": 261,
     "metadata": {},
     "output_type": "execute_result"
    }
   ],
   "execution_count": 261
  },
  {
   "cell_type": "code",
   "metadata": {
    "gather": {
     "logged": 1718683926455
    },
    "ExecuteTime": {
     "end_time": "2024-12-30T06:16:30.563301Z",
     "start_time": "2024-12-30T06:16:30.558738Z"
    }
   },
   "source": [
    "#명령모듈의 이름, 중량 컬럼을 missionms 데이터프레임에 추가\n",
    "명령모듈이름 = ['Columbia (CSM-107]', 'Yankee Clipper (CM-100])', 'Kitty Hawk (CM-110)', 'Endeavor (CM-112)', 'Casper (CM-113)', 'America (CM-114)']\n",
    "명령모듈중량 = [5560, 5609, 5758, 5875, 5840, 5960]\n",
    "\n",
    "missions['Command Module (CM)'] = 명령모듈이름\n",
    "missions['CM Mass (kg)'] = 명령모듈중량\n",
    "\n",
    "missions"
   ],
   "outputs": [
    {
     "data": {
      "text/plain": [
       "    Mission   Lunar module (LM)  LM mass (kg)  LM mass diff  \\\n",
       "0  Apollo11        Eagle (LM-5)         15103           0.0   \n",
       "1  Apollo12     Intrepid (LM-6)         15235         132.0   \n",
       "2  Apollo14      Antares (LM-8)         15264          29.0   \n",
       "3  Apollo15      Falcon (LM-10)         16430        1166.0   \n",
       "4  Apollo16       Orion (LM-11)         16445          15.0   \n",
       "5  Apollo17  Challenger (LM-12)         16456          11.0   \n",
       "\n",
       "        Command Module (CM)  CM Mass (kg)  \n",
       "0        Columbia (CSM-107]          5560  \n",
       "1  Yankee Clipper (CM-100])          5609  \n",
       "2       Kitty Hawk (CM-110)          5758  \n",
       "3         Endeavor (CM-112)          5875  \n",
       "4           Casper (CM-113)          5840  \n",
       "5          America (CM-114)          5960  "
      ],
      "text/html": [
       "<div>\n",
       "<style scoped>\n",
       "    .dataframe tbody tr th:only-of-type {\n",
       "        vertical-align: middle;\n",
       "    }\n",
       "\n",
       "    .dataframe tbody tr th {\n",
       "        vertical-align: top;\n",
       "    }\n",
       "\n",
       "    .dataframe thead th {\n",
       "        text-align: right;\n",
       "    }\n",
       "</style>\n",
       "<table border=\"1\" class=\"dataframe\">\n",
       "  <thead>\n",
       "    <tr style=\"text-align: right;\">\n",
       "      <th></th>\n",
       "      <th>Mission</th>\n",
       "      <th>Lunar module (LM)</th>\n",
       "      <th>LM mass (kg)</th>\n",
       "      <th>LM mass diff</th>\n",
       "      <th>Command Module (CM)</th>\n",
       "      <th>CM Mass (kg)</th>\n",
       "    </tr>\n",
       "  </thead>\n",
       "  <tbody>\n",
       "    <tr>\n",
       "      <th>0</th>\n",
       "      <td>Apollo11</td>\n",
       "      <td>Eagle (LM-5)</td>\n",
       "      <td>15103</td>\n",
       "      <td>0.0</td>\n",
       "      <td>Columbia (CSM-107]</td>\n",
       "      <td>5560</td>\n",
       "    </tr>\n",
       "    <tr>\n",
       "      <th>1</th>\n",
       "      <td>Apollo12</td>\n",
       "      <td>Intrepid (LM-6)</td>\n",
       "      <td>15235</td>\n",
       "      <td>132.0</td>\n",
       "      <td>Yankee Clipper (CM-100])</td>\n",
       "      <td>5609</td>\n",
       "    </tr>\n",
       "    <tr>\n",
       "      <th>2</th>\n",
       "      <td>Apollo14</td>\n",
       "      <td>Antares (LM-8)</td>\n",
       "      <td>15264</td>\n",
       "      <td>29.0</td>\n",
       "      <td>Kitty Hawk (CM-110)</td>\n",
       "      <td>5758</td>\n",
       "    </tr>\n",
       "    <tr>\n",
       "      <th>3</th>\n",
       "      <td>Apollo15</td>\n",
       "      <td>Falcon (LM-10)</td>\n",
       "      <td>16430</td>\n",
       "      <td>1166.0</td>\n",
       "      <td>Endeavor (CM-112)</td>\n",
       "      <td>5875</td>\n",
       "    </tr>\n",
       "    <tr>\n",
       "      <th>4</th>\n",
       "      <td>Apollo16</td>\n",
       "      <td>Orion (LM-11)</td>\n",
       "      <td>16445</td>\n",
       "      <td>15.0</td>\n",
       "      <td>Casper (CM-113)</td>\n",
       "      <td>5840</td>\n",
       "    </tr>\n",
       "    <tr>\n",
       "      <th>5</th>\n",
       "      <td>Apollo17</td>\n",
       "      <td>Challenger (LM-12)</td>\n",
       "      <td>16456</td>\n",
       "      <td>11.0</td>\n",
       "      <td>America (CM-114)</td>\n",
       "      <td>5960</td>\n",
       "    </tr>\n",
       "  </tbody>\n",
       "</table>\n",
       "</div>"
      ]
     },
     "execution_count": 262,
     "metadata": {},
     "output_type": "execute_result"
    }
   ],
   "execution_count": 262
  },
  {
   "cell_type": "code",
   "metadata": {
    "gather": {
     "logged": 1718683926662
    },
    "ExecuteTime": {
     "end_time": "2024-12-30T06:16:31.638564Z",
     "start_time": "2024-12-30T06:16:31.633443Z"
    }
   },
   "source": [
    "#임무간 명령 모듈 중량 차이 구하기기\n",
    "#아폴로 임무별로 명령모듈 중량 차이를 구해서 새로운 컬럼 'CM Mass diff'를 만들어 missions 데이터프레임에 추가\n",
    "missions['CM Mass diff'] = missions['CM Mass (kg)'].diff()\n",
    "missions.fillna(value=0, inplace=True)\n",
    "missions"
   ],
   "outputs": [
    {
     "data": {
      "text/plain": [
       "    Mission   Lunar module (LM)  LM mass (kg)  LM mass diff  \\\n",
       "0  Apollo11        Eagle (LM-5)         15103           0.0   \n",
       "1  Apollo12     Intrepid (LM-6)         15235         132.0   \n",
       "2  Apollo14      Antares (LM-8)         15264          29.0   \n",
       "3  Apollo15      Falcon (LM-10)         16430        1166.0   \n",
       "4  Apollo16       Orion (LM-11)         16445          15.0   \n",
       "5  Apollo17  Challenger (LM-12)         16456          11.0   \n",
       "\n",
       "        Command Module (CM)  CM Mass (kg)  CM Mass diff  \n",
       "0        Columbia (CSM-107]          5560           0.0  \n",
       "1  Yankee Clipper (CM-100])          5609          49.0  \n",
       "2       Kitty Hawk (CM-110)          5758         149.0  \n",
       "3         Endeavor (CM-112)          5875         117.0  \n",
       "4           Casper (CM-113)          5840         -35.0  \n",
       "5          America (CM-114)          5960         120.0  "
      ],
      "text/html": [
       "<div>\n",
       "<style scoped>\n",
       "    .dataframe tbody tr th:only-of-type {\n",
       "        vertical-align: middle;\n",
       "    }\n",
       "\n",
       "    .dataframe tbody tr th {\n",
       "        vertical-align: top;\n",
       "    }\n",
       "\n",
       "    .dataframe thead th {\n",
       "        text-align: right;\n",
       "    }\n",
       "</style>\n",
       "<table border=\"1\" class=\"dataframe\">\n",
       "  <thead>\n",
       "    <tr style=\"text-align: right;\">\n",
       "      <th></th>\n",
       "      <th>Mission</th>\n",
       "      <th>Lunar module (LM)</th>\n",
       "      <th>LM mass (kg)</th>\n",
       "      <th>LM mass diff</th>\n",
       "      <th>Command Module (CM)</th>\n",
       "      <th>CM Mass (kg)</th>\n",
       "      <th>CM Mass diff</th>\n",
       "    </tr>\n",
       "  </thead>\n",
       "  <tbody>\n",
       "    <tr>\n",
       "      <th>0</th>\n",
       "      <td>Apollo11</td>\n",
       "      <td>Eagle (LM-5)</td>\n",
       "      <td>15103</td>\n",
       "      <td>0.0</td>\n",
       "      <td>Columbia (CSM-107]</td>\n",
       "      <td>5560</td>\n",
       "      <td>0.0</td>\n",
       "    </tr>\n",
       "    <tr>\n",
       "      <th>1</th>\n",
       "      <td>Apollo12</td>\n",
       "      <td>Intrepid (LM-6)</td>\n",
       "      <td>15235</td>\n",
       "      <td>132.0</td>\n",
       "      <td>Yankee Clipper (CM-100])</td>\n",
       "      <td>5609</td>\n",
       "      <td>49.0</td>\n",
       "    </tr>\n",
       "    <tr>\n",
       "      <th>2</th>\n",
       "      <td>Apollo14</td>\n",
       "      <td>Antares (LM-8)</td>\n",
       "      <td>15264</td>\n",
       "      <td>29.0</td>\n",
       "      <td>Kitty Hawk (CM-110)</td>\n",
       "      <td>5758</td>\n",
       "      <td>149.0</td>\n",
       "    </tr>\n",
       "    <tr>\n",
       "      <th>3</th>\n",
       "      <td>Apollo15</td>\n",
       "      <td>Falcon (LM-10)</td>\n",
       "      <td>16430</td>\n",
       "      <td>1166.0</td>\n",
       "      <td>Endeavor (CM-112)</td>\n",
       "      <td>5875</td>\n",
       "      <td>117.0</td>\n",
       "    </tr>\n",
       "    <tr>\n",
       "      <th>4</th>\n",
       "      <td>Apollo16</td>\n",
       "      <td>Orion (LM-11)</td>\n",
       "      <td>16445</td>\n",
       "      <td>15.0</td>\n",
       "      <td>Casper (CM-113)</td>\n",
       "      <td>5840</td>\n",
       "      <td>-35.0</td>\n",
       "    </tr>\n",
       "    <tr>\n",
       "      <th>5</th>\n",
       "      <td>Apollo17</td>\n",
       "      <td>Challenger (LM-12)</td>\n",
       "      <td>16456</td>\n",
       "      <td>11.0</td>\n",
       "      <td>America (CM-114)</td>\n",
       "      <td>5960</td>\n",
       "      <td>120.0</td>\n",
       "    </tr>\n",
       "  </tbody>\n",
       "</table>\n",
       "</div>"
      ]
     },
     "execution_count": 263,
     "metadata": {},
     "output_type": "execute_result"
    }
   ],
   "execution_count": 263
  },
  {
   "cell_type": "code",
   "metadata": {
    "gather": {
     "logged": 1718683926809
    },
    "ExecuteTime": {
     "end_time": "2024-12-30T06:16:33.009829Z",
     "start_time": "2024-12-30T06:16:33.004935Z"
    }
   },
   "source": [
    "# 승무원영역 = 달모듈 + 명령모듈\n",
    "# 달 모듈과 명령모듈 중량을 합한 값을 'Total weight (kg)'라는 새로운 컬럼을 만들어 missions 데이터프레임에 추가\n",
    "missions['Total weight (kg)'] = missions['LM mass (kg)'] + missions['CM Mass (kg)']\n",
    "missions"
   ],
   "outputs": [
    {
     "data": {
      "text/plain": [
       "    Mission   Lunar module (LM)  LM mass (kg)  LM mass diff  \\\n",
       "0  Apollo11        Eagle (LM-5)         15103           0.0   \n",
       "1  Apollo12     Intrepid (LM-6)         15235         132.0   \n",
       "2  Apollo14      Antares (LM-8)         15264          29.0   \n",
       "3  Apollo15      Falcon (LM-10)         16430        1166.0   \n",
       "4  Apollo16       Orion (LM-11)         16445          15.0   \n",
       "5  Apollo17  Challenger (LM-12)         16456          11.0   \n",
       "\n",
       "        Command Module (CM)  CM Mass (kg)  CM Mass diff  Total weight (kg)  \n",
       "0        Columbia (CSM-107]          5560           0.0              20663  \n",
       "1  Yankee Clipper (CM-100])          5609          49.0              20844  \n",
       "2       Kitty Hawk (CM-110)          5758         149.0              21022  \n",
       "3         Endeavor (CM-112)          5875         117.0              22305  \n",
       "4           Casper (CM-113)          5840         -35.0              22285  \n",
       "5          America (CM-114)          5960         120.0              22416  "
      ],
      "text/html": [
       "<div>\n",
       "<style scoped>\n",
       "    .dataframe tbody tr th:only-of-type {\n",
       "        vertical-align: middle;\n",
       "    }\n",
       "\n",
       "    .dataframe tbody tr th {\n",
       "        vertical-align: top;\n",
       "    }\n",
       "\n",
       "    .dataframe thead th {\n",
       "        text-align: right;\n",
       "    }\n",
       "</style>\n",
       "<table border=\"1\" class=\"dataframe\">\n",
       "  <thead>\n",
       "    <tr style=\"text-align: right;\">\n",
       "      <th></th>\n",
       "      <th>Mission</th>\n",
       "      <th>Lunar module (LM)</th>\n",
       "      <th>LM mass (kg)</th>\n",
       "      <th>LM mass diff</th>\n",
       "      <th>Command Module (CM)</th>\n",
       "      <th>CM Mass (kg)</th>\n",
       "      <th>CM Mass diff</th>\n",
       "      <th>Total weight (kg)</th>\n",
       "    </tr>\n",
       "  </thead>\n",
       "  <tbody>\n",
       "    <tr>\n",
       "      <th>0</th>\n",
       "      <td>Apollo11</td>\n",
       "      <td>Eagle (LM-5)</td>\n",
       "      <td>15103</td>\n",
       "      <td>0.0</td>\n",
       "      <td>Columbia (CSM-107]</td>\n",
       "      <td>5560</td>\n",
       "      <td>0.0</td>\n",
       "      <td>20663</td>\n",
       "    </tr>\n",
       "    <tr>\n",
       "      <th>1</th>\n",
       "      <td>Apollo12</td>\n",
       "      <td>Intrepid (LM-6)</td>\n",
       "      <td>15235</td>\n",
       "      <td>132.0</td>\n",
       "      <td>Yankee Clipper (CM-100])</td>\n",
       "      <td>5609</td>\n",
       "      <td>49.0</td>\n",
       "      <td>20844</td>\n",
       "    </tr>\n",
       "    <tr>\n",
       "      <th>2</th>\n",
       "      <td>Apollo14</td>\n",
       "      <td>Antares (LM-8)</td>\n",
       "      <td>15264</td>\n",
       "      <td>29.0</td>\n",
       "      <td>Kitty Hawk (CM-110)</td>\n",
       "      <td>5758</td>\n",
       "      <td>149.0</td>\n",
       "      <td>21022</td>\n",
       "    </tr>\n",
       "    <tr>\n",
       "      <th>3</th>\n",
       "      <td>Apollo15</td>\n",
       "      <td>Falcon (LM-10)</td>\n",
       "      <td>16430</td>\n",
       "      <td>1166.0</td>\n",
       "      <td>Endeavor (CM-112)</td>\n",
       "      <td>5875</td>\n",
       "      <td>117.0</td>\n",
       "      <td>22305</td>\n",
       "    </tr>\n",
       "    <tr>\n",
       "      <th>4</th>\n",
       "      <td>Apollo16</td>\n",
       "      <td>Orion (LM-11)</td>\n",
       "      <td>16445</td>\n",
       "      <td>15.0</td>\n",
       "      <td>Casper (CM-113)</td>\n",
       "      <td>5840</td>\n",
       "      <td>-35.0</td>\n",
       "      <td>22285</td>\n",
       "    </tr>\n",
       "    <tr>\n",
       "      <th>5</th>\n",
       "      <td>Apollo17</td>\n",
       "      <td>Challenger (LM-12)</td>\n",
       "      <td>16456</td>\n",
       "      <td>11.0</td>\n",
       "      <td>America (CM-114)</td>\n",
       "      <td>5960</td>\n",
       "      <td>120.0</td>\n",
       "      <td>22416</td>\n",
       "    </tr>\n",
       "  </tbody>\n",
       "</table>\n",
       "</div>"
      ]
     },
     "execution_count": 264,
     "metadata": {},
     "output_type": "execute_result"
    }
   ],
   "execution_count": 264
  },
  {
   "cell_type": "code",
   "metadata": {
    "gather": {
     "logged": 1718683926958
    },
    "ExecuteTime": {
     "end_time": "2024-12-30T06:16:34.189063Z",
     "start_time": "2024-12-30T06:16:34.183633Z"
    }
   },
   "source": [
    "# 승무원 영역을 나타내는 'Total weight (kg)'의 아폴로 임무별 중량 차이를 구하는 새로운 컬럼 'Total weight diff'를 missions 데이터프레임에 추가\n",
    "missions['Total weight diff'] = missions['Total weight (kg)'].diff()\n",
    "missions.fillna(value=0, inplace=True)\n",
    "missions"
   ],
   "outputs": [
    {
     "data": {
      "text/plain": [
       "    Mission   Lunar module (LM)  LM mass (kg)  LM mass diff  \\\n",
       "0  Apollo11        Eagle (LM-5)         15103           0.0   \n",
       "1  Apollo12     Intrepid (LM-6)         15235         132.0   \n",
       "2  Apollo14      Antares (LM-8)         15264          29.0   \n",
       "3  Apollo15      Falcon (LM-10)         16430        1166.0   \n",
       "4  Apollo16       Orion (LM-11)         16445          15.0   \n",
       "5  Apollo17  Challenger (LM-12)         16456          11.0   \n",
       "\n",
       "        Command Module (CM)  CM Mass (kg)  CM Mass diff  Total weight (kg)  \\\n",
       "0        Columbia (CSM-107]          5560           0.0              20663   \n",
       "1  Yankee Clipper (CM-100])          5609          49.0              20844   \n",
       "2       Kitty Hawk (CM-110)          5758         149.0              21022   \n",
       "3         Endeavor (CM-112)          5875         117.0              22305   \n",
       "4           Casper (CM-113)          5840         -35.0              22285   \n",
       "5          America (CM-114)          5960         120.0              22416   \n",
       "\n",
       "   Total weight diff  \n",
       "0                0.0  \n",
       "1              181.0  \n",
       "2              178.0  \n",
       "3             1283.0  \n",
       "4              -20.0  \n",
       "5              131.0  "
      ],
      "text/html": [
       "<div>\n",
       "<style scoped>\n",
       "    .dataframe tbody tr th:only-of-type {\n",
       "        vertical-align: middle;\n",
       "    }\n",
       "\n",
       "    .dataframe tbody tr th {\n",
       "        vertical-align: top;\n",
       "    }\n",
       "\n",
       "    .dataframe thead th {\n",
       "        text-align: right;\n",
       "    }\n",
       "</style>\n",
       "<table border=\"1\" class=\"dataframe\">\n",
       "  <thead>\n",
       "    <tr style=\"text-align: right;\">\n",
       "      <th></th>\n",
       "      <th>Mission</th>\n",
       "      <th>Lunar module (LM)</th>\n",
       "      <th>LM mass (kg)</th>\n",
       "      <th>LM mass diff</th>\n",
       "      <th>Command Module (CM)</th>\n",
       "      <th>CM Mass (kg)</th>\n",
       "      <th>CM Mass diff</th>\n",
       "      <th>Total weight (kg)</th>\n",
       "      <th>Total weight diff</th>\n",
       "    </tr>\n",
       "  </thead>\n",
       "  <tbody>\n",
       "    <tr>\n",
       "      <th>0</th>\n",
       "      <td>Apollo11</td>\n",
       "      <td>Eagle (LM-5)</td>\n",
       "      <td>15103</td>\n",
       "      <td>0.0</td>\n",
       "      <td>Columbia (CSM-107]</td>\n",
       "      <td>5560</td>\n",
       "      <td>0.0</td>\n",
       "      <td>20663</td>\n",
       "      <td>0.0</td>\n",
       "    </tr>\n",
       "    <tr>\n",
       "      <th>1</th>\n",
       "      <td>Apollo12</td>\n",
       "      <td>Intrepid (LM-6)</td>\n",
       "      <td>15235</td>\n",
       "      <td>132.0</td>\n",
       "      <td>Yankee Clipper (CM-100])</td>\n",
       "      <td>5609</td>\n",
       "      <td>49.0</td>\n",
       "      <td>20844</td>\n",
       "      <td>181.0</td>\n",
       "    </tr>\n",
       "    <tr>\n",
       "      <th>2</th>\n",
       "      <td>Apollo14</td>\n",
       "      <td>Antares (LM-8)</td>\n",
       "      <td>15264</td>\n",
       "      <td>29.0</td>\n",
       "      <td>Kitty Hawk (CM-110)</td>\n",
       "      <td>5758</td>\n",
       "      <td>149.0</td>\n",
       "      <td>21022</td>\n",
       "      <td>178.0</td>\n",
       "    </tr>\n",
       "    <tr>\n",
       "      <th>3</th>\n",
       "      <td>Apollo15</td>\n",
       "      <td>Falcon (LM-10)</td>\n",
       "      <td>16430</td>\n",
       "      <td>1166.0</td>\n",
       "      <td>Endeavor (CM-112)</td>\n",
       "      <td>5875</td>\n",
       "      <td>117.0</td>\n",
       "      <td>22305</td>\n",
       "      <td>1283.0</td>\n",
       "    </tr>\n",
       "    <tr>\n",
       "      <th>4</th>\n",
       "      <td>Apollo16</td>\n",
       "      <td>Orion (LM-11)</td>\n",
       "      <td>16445</td>\n",
       "      <td>15.0</td>\n",
       "      <td>Casper (CM-113)</td>\n",
       "      <td>5840</td>\n",
       "      <td>-35.0</td>\n",
       "      <td>22285</td>\n",
       "      <td>-20.0</td>\n",
       "    </tr>\n",
       "    <tr>\n",
       "      <th>5</th>\n",
       "      <td>Apollo17</td>\n",
       "      <td>Challenger (LM-12)</td>\n",
       "      <td>16456</td>\n",
       "      <td>11.0</td>\n",
       "      <td>America (CM-114)</td>\n",
       "      <td>5960</td>\n",
       "      <td>120.0</td>\n",
       "      <td>22416</td>\n",
       "      <td>131.0</td>\n",
       "    </tr>\n",
       "  </tbody>\n",
       "</table>\n",
       "</div>"
      ]
     },
     "execution_count": 265,
     "metadata": {},
     "output_type": "execute_result"
    }
   ],
   "execution_count": 265
  },
  {
   "cell_type": "code",
   "metadata": {
    "gather": {
     "logged": 1718683927168
    },
    "ExecuteTime": {
     "end_time": "2024-12-30T06:16:35.262529Z",
     "start_time": "2024-12-30T06:16:35.257464Z"
    }
   },
   "source": [
    "# 페이로드에서 승무원 영역이 차지하는 비율 구하기 -> 'Crewed area : Payload'\n",
    "saturnVPayload = 43500\n",
    "missions['Crewed area : Payload'] = missions['Total weight (kg)'] / saturnVPayload\n",
    "missions\n"
   ],
   "outputs": [
    {
     "data": {
      "text/plain": [
       "    Mission   Lunar module (LM)  LM mass (kg)  LM mass diff  \\\n",
       "0  Apollo11        Eagle (LM-5)         15103           0.0   \n",
       "1  Apollo12     Intrepid (LM-6)         15235         132.0   \n",
       "2  Apollo14      Antares (LM-8)         15264          29.0   \n",
       "3  Apollo15      Falcon (LM-10)         16430        1166.0   \n",
       "4  Apollo16       Orion (LM-11)         16445          15.0   \n",
       "5  Apollo17  Challenger (LM-12)         16456          11.0   \n",
       "\n",
       "        Command Module (CM)  CM Mass (kg)  CM Mass diff  Total weight (kg)  \\\n",
       "0        Columbia (CSM-107]          5560           0.0              20663   \n",
       "1  Yankee Clipper (CM-100])          5609          49.0              20844   \n",
       "2       Kitty Hawk (CM-110)          5758         149.0              21022   \n",
       "3         Endeavor (CM-112)          5875         117.0              22305   \n",
       "4           Casper (CM-113)          5840         -35.0              22285   \n",
       "5          America (CM-114)          5960         120.0              22416   \n",
       "\n",
       "   Total weight diff  Crewed area : Payload  \n",
       "0                0.0               0.475011  \n",
       "1              181.0               0.479172  \n",
       "2              178.0               0.483264  \n",
       "3             1283.0               0.512759  \n",
       "4              -20.0               0.512299  \n",
       "5              131.0               0.515310  "
      ],
      "text/html": [
       "<div>\n",
       "<style scoped>\n",
       "    .dataframe tbody tr th:only-of-type {\n",
       "        vertical-align: middle;\n",
       "    }\n",
       "\n",
       "    .dataframe tbody tr th {\n",
       "        vertical-align: top;\n",
       "    }\n",
       "\n",
       "    .dataframe thead th {\n",
       "        text-align: right;\n",
       "    }\n",
       "</style>\n",
       "<table border=\"1\" class=\"dataframe\">\n",
       "  <thead>\n",
       "    <tr style=\"text-align: right;\">\n",
       "      <th></th>\n",
       "      <th>Mission</th>\n",
       "      <th>Lunar module (LM)</th>\n",
       "      <th>LM mass (kg)</th>\n",
       "      <th>LM mass diff</th>\n",
       "      <th>Command Module (CM)</th>\n",
       "      <th>CM Mass (kg)</th>\n",
       "      <th>CM Mass diff</th>\n",
       "      <th>Total weight (kg)</th>\n",
       "      <th>Total weight diff</th>\n",
       "      <th>Crewed area : Payload</th>\n",
       "    </tr>\n",
       "  </thead>\n",
       "  <tbody>\n",
       "    <tr>\n",
       "      <th>0</th>\n",
       "      <td>Apollo11</td>\n",
       "      <td>Eagle (LM-5)</td>\n",
       "      <td>15103</td>\n",
       "      <td>0.0</td>\n",
       "      <td>Columbia (CSM-107]</td>\n",
       "      <td>5560</td>\n",
       "      <td>0.0</td>\n",
       "      <td>20663</td>\n",
       "      <td>0.0</td>\n",
       "      <td>0.475011</td>\n",
       "    </tr>\n",
       "    <tr>\n",
       "      <th>1</th>\n",
       "      <td>Apollo12</td>\n",
       "      <td>Intrepid (LM-6)</td>\n",
       "      <td>15235</td>\n",
       "      <td>132.0</td>\n",
       "      <td>Yankee Clipper (CM-100])</td>\n",
       "      <td>5609</td>\n",
       "      <td>49.0</td>\n",
       "      <td>20844</td>\n",
       "      <td>181.0</td>\n",
       "      <td>0.479172</td>\n",
       "    </tr>\n",
       "    <tr>\n",
       "      <th>2</th>\n",
       "      <td>Apollo14</td>\n",
       "      <td>Antares (LM-8)</td>\n",
       "      <td>15264</td>\n",
       "      <td>29.0</td>\n",
       "      <td>Kitty Hawk (CM-110)</td>\n",
       "      <td>5758</td>\n",
       "      <td>149.0</td>\n",
       "      <td>21022</td>\n",
       "      <td>178.0</td>\n",
       "      <td>0.483264</td>\n",
       "    </tr>\n",
       "    <tr>\n",
       "      <th>3</th>\n",
       "      <td>Apollo15</td>\n",
       "      <td>Falcon (LM-10)</td>\n",
       "      <td>16430</td>\n",
       "      <td>1166.0</td>\n",
       "      <td>Endeavor (CM-112)</td>\n",
       "      <td>5875</td>\n",
       "      <td>117.0</td>\n",
       "      <td>22305</td>\n",
       "      <td>1283.0</td>\n",
       "      <td>0.512759</td>\n",
       "    </tr>\n",
       "    <tr>\n",
       "      <th>4</th>\n",
       "      <td>Apollo16</td>\n",
       "      <td>Orion (LM-11)</td>\n",
       "      <td>16445</td>\n",
       "      <td>15.0</td>\n",
       "      <td>Casper (CM-113)</td>\n",
       "      <td>5840</td>\n",
       "      <td>-35.0</td>\n",
       "      <td>22285</td>\n",
       "      <td>-20.0</td>\n",
       "      <td>0.512299</td>\n",
       "    </tr>\n",
       "    <tr>\n",
       "      <th>5</th>\n",
       "      <td>Apollo17</td>\n",
       "      <td>Challenger (LM-12)</td>\n",
       "      <td>16456</td>\n",
       "      <td>11.0</td>\n",
       "      <td>America (CM-114)</td>\n",
       "      <td>5960</td>\n",
       "      <td>120.0</td>\n",
       "      <td>22416</td>\n",
       "      <td>131.0</td>\n",
       "      <td>0.515310</td>\n",
       "    </tr>\n",
       "  </tbody>\n",
       "</table>\n",
       "</div>"
      ]
     },
     "execution_count": 266,
     "metadata": {},
     "output_type": "execute_result"
    }
   ],
   "execution_count": 266
  },
  {
   "cell_type": "code",
   "metadata": {
    "gather": {
     "logged": 1718683927317
    },
    "ExecuteTime": {
     "end_time": "2024-12-30T06:16:36.234245Z",
     "start_time": "2024-12-30T06:16:36.214588Z"
    }
   },
   "source": [
    "# 승무원 영역에서 암석 샘플이 차지하는 비율 구하기 -> 'Sample : Crewed area'\n",
    "missions['Sample : Crewed area'] = missions['Sample weight (kg)'] / missions['Total weight (kg)']\n",
    "missions\n"
   ],
   "outputs": [
    {
     "ename": "KeyError",
     "evalue": "'Sample weight (kg)'",
     "output_type": "error",
     "traceback": [
      "\u001B[1;31m---------------------------------------------------------------------------\u001B[0m",
      "\u001B[1;31mKeyError\u001B[0m                                  Traceback (most recent call last)",
      "File \u001B[1;32mC:\\git\\python_study\\.venv\\Lib\\site-packages\\pandas\\core\\indexes\\base.py:3805\u001B[0m, in \u001B[0;36mIndex.get_loc\u001B[1;34m(self, key)\u001B[0m\n\u001B[0;32m   3804\u001B[0m \u001B[38;5;28;01mtry\u001B[39;00m:\n\u001B[1;32m-> 3805\u001B[0m     \u001B[38;5;28;01mreturn\u001B[39;00m \u001B[38;5;28;43mself\u001B[39;49m\u001B[38;5;241;43m.\u001B[39;49m\u001B[43m_engine\u001B[49m\u001B[38;5;241;43m.\u001B[39;49m\u001B[43mget_loc\u001B[49m\u001B[43m(\u001B[49m\u001B[43mcasted_key\u001B[49m\u001B[43m)\u001B[49m\n\u001B[0;32m   3806\u001B[0m \u001B[38;5;28;01mexcept\u001B[39;00m \u001B[38;5;167;01mKeyError\u001B[39;00m \u001B[38;5;28;01mas\u001B[39;00m err:\n",
      "File \u001B[1;32mindex.pyx:167\u001B[0m, in \u001B[0;36mpandas._libs.index.IndexEngine.get_loc\u001B[1;34m()\u001B[0m\n",
      "File \u001B[1;32mindex.pyx:196\u001B[0m, in \u001B[0;36mpandas._libs.index.IndexEngine.get_loc\u001B[1;34m()\u001B[0m\n",
      "File \u001B[1;32mpandas\\\\_libs\\\\hashtable_class_helper.pxi:7081\u001B[0m, in \u001B[0;36mpandas._libs.hashtable.PyObjectHashTable.get_item\u001B[1;34m()\u001B[0m\n",
      "File \u001B[1;32mpandas\\\\_libs\\\\hashtable_class_helper.pxi:7089\u001B[0m, in \u001B[0;36mpandas._libs.hashtable.PyObjectHashTable.get_item\u001B[1;34m()\u001B[0m\n",
      "\u001B[1;31mKeyError\u001B[0m: 'Sample weight (kg)'",
      "\nThe above exception was the direct cause of the following exception:\n",
      "\u001B[1;31mKeyError\u001B[0m                                  Traceback (most recent call last)",
      "Cell \u001B[1;32mIn[267], line 2\u001B[0m\n\u001B[0;32m      1\u001B[0m \u001B[38;5;66;03m# 승무원 영역에서 암석 샘플이 차지하는 비율 구하기 -> 'Sample : Crewed area'\u001B[39;00m\n\u001B[1;32m----> 2\u001B[0m missions[\u001B[38;5;124m'\u001B[39m\u001B[38;5;124mSample : Crewed area\u001B[39m\u001B[38;5;124m'\u001B[39m] \u001B[38;5;241m=\u001B[39m \u001B[43mmissions\u001B[49m\u001B[43m[\u001B[49m\u001B[38;5;124;43m'\u001B[39;49m\u001B[38;5;124;43mSample weight (kg)\u001B[39;49m\u001B[38;5;124;43m'\u001B[39;49m\u001B[43m]\u001B[49m \u001B[38;5;241m/\u001B[39m missions[\u001B[38;5;124m'\u001B[39m\u001B[38;5;124mTotal weight (kg)\u001B[39m\u001B[38;5;124m'\u001B[39m]\n\u001B[0;32m      3\u001B[0m missions\n",
      "File \u001B[1;32mC:\\git\\python_study\\.venv\\Lib\\site-packages\\pandas\\core\\frame.py:4102\u001B[0m, in \u001B[0;36mDataFrame.__getitem__\u001B[1;34m(self, key)\u001B[0m\n\u001B[0;32m   4100\u001B[0m \u001B[38;5;28;01mif\u001B[39;00m \u001B[38;5;28mself\u001B[39m\u001B[38;5;241m.\u001B[39mcolumns\u001B[38;5;241m.\u001B[39mnlevels \u001B[38;5;241m>\u001B[39m \u001B[38;5;241m1\u001B[39m:\n\u001B[0;32m   4101\u001B[0m     \u001B[38;5;28;01mreturn\u001B[39;00m \u001B[38;5;28mself\u001B[39m\u001B[38;5;241m.\u001B[39m_getitem_multilevel(key)\n\u001B[1;32m-> 4102\u001B[0m indexer \u001B[38;5;241m=\u001B[39m \u001B[38;5;28;43mself\u001B[39;49m\u001B[38;5;241;43m.\u001B[39;49m\u001B[43mcolumns\u001B[49m\u001B[38;5;241;43m.\u001B[39;49m\u001B[43mget_loc\u001B[49m\u001B[43m(\u001B[49m\u001B[43mkey\u001B[49m\u001B[43m)\u001B[49m\n\u001B[0;32m   4103\u001B[0m \u001B[38;5;28;01mif\u001B[39;00m is_integer(indexer):\n\u001B[0;32m   4104\u001B[0m     indexer \u001B[38;5;241m=\u001B[39m [indexer]\n",
      "File \u001B[1;32mC:\\git\\python_study\\.venv\\Lib\\site-packages\\pandas\\core\\indexes\\base.py:3812\u001B[0m, in \u001B[0;36mIndex.get_loc\u001B[1;34m(self, key)\u001B[0m\n\u001B[0;32m   3807\u001B[0m     \u001B[38;5;28;01mif\u001B[39;00m \u001B[38;5;28misinstance\u001B[39m(casted_key, \u001B[38;5;28mslice\u001B[39m) \u001B[38;5;129;01mor\u001B[39;00m (\n\u001B[0;32m   3808\u001B[0m         \u001B[38;5;28misinstance\u001B[39m(casted_key, abc\u001B[38;5;241m.\u001B[39mIterable)\n\u001B[0;32m   3809\u001B[0m         \u001B[38;5;129;01mand\u001B[39;00m \u001B[38;5;28many\u001B[39m(\u001B[38;5;28misinstance\u001B[39m(x, \u001B[38;5;28mslice\u001B[39m) \u001B[38;5;28;01mfor\u001B[39;00m x \u001B[38;5;129;01min\u001B[39;00m casted_key)\n\u001B[0;32m   3810\u001B[0m     ):\n\u001B[0;32m   3811\u001B[0m         \u001B[38;5;28;01mraise\u001B[39;00m InvalidIndexError(key)\n\u001B[1;32m-> 3812\u001B[0m     \u001B[38;5;28;01mraise\u001B[39;00m \u001B[38;5;167;01mKeyError\u001B[39;00m(key) \u001B[38;5;28;01mfrom\u001B[39;00m \u001B[38;5;21;01merr\u001B[39;00m\n\u001B[0;32m   3813\u001B[0m \u001B[38;5;28;01mexcept\u001B[39;00m \u001B[38;5;167;01mTypeError\u001B[39;00m:\n\u001B[0;32m   3814\u001B[0m     \u001B[38;5;66;03m# If we have a listlike key, _check_indexing_error will raise\u001B[39;00m\n\u001B[0;32m   3815\u001B[0m     \u001B[38;5;66;03m#  InvalidIndexError. Otherwise we fall through and re-raise\u001B[39;00m\n\u001B[0;32m   3816\u001B[0m     \u001B[38;5;66;03m#  the TypeError.\u001B[39;00m\n\u001B[0;32m   3817\u001B[0m     \u001B[38;5;28mself\u001B[39m\u001B[38;5;241m.\u001B[39m_check_indexing_error(key)\n",
      "\u001B[1;31mKeyError\u001B[0m: 'Sample weight (kg)'"
     ]
    }
   ],
   "execution_count": 267
  },
  {
   "cell_type": "code",
   "metadata": {
    "gather": {
     "logged": 1718683927516
    },
    "ExecuteTime": {
     "end_time": "2024-12-30T06:16:37.322668Z",
     "start_time": "2024-12-30T06:16:37.303624Z"
    }
   },
   "source": [
    "# 페이로드에서 샘플이 차지하는 비율 구하기 -> 'Sample : Payload'\n",
    "missions['Sample : Payload'] = missions['Sample weight (kg)'] / saturnVPayload\n",
    "missions"
   ],
   "outputs": [
    {
     "ename": "KeyError",
     "evalue": "'Sample weight (kg)'",
     "output_type": "error",
     "traceback": [
      "\u001B[1;31m---------------------------------------------------------------------------\u001B[0m",
      "\u001B[1;31mKeyError\u001B[0m                                  Traceback (most recent call last)",
      "File \u001B[1;32mC:\\git\\python_study\\.venv\\Lib\\site-packages\\pandas\\core\\indexes\\base.py:3805\u001B[0m, in \u001B[0;36mIndex.get_loc\u001B[1;34m(self, key)\u001B[0m\n\u001B[0;32m   3804\u001B[0m \u001B[38;5;28;01mtry\u001B[39;00m:\n\u001B[1;32m-> 3805\u001B[0m     \u001B[38;5;28;01mreturn\u001B[39;00m \u001B[38;5;28;43mself\u001B[39;49m\u001B[38;5;241;43m.\u001B[39;49m\u001B[43m_engine\u001B[49m\u001B[38;5;241;43m.\u001B[39;49m\u001B[43mget_loc\u001B[49m\u001B[43m(\u001B[49m\u001B[43mcasted_key\u001B[49m\u001B[43m)\u001B[49m\n\u001B[0;32m   3806\u001B[0m \u001B[38;5;28;01mexcept\u001B[39;00m \u001B[38;5;167;01mKeyError\u001B[39;00m \u001B[38;5;28;01mas\u001B[39;00m err:\n",
      "File \u001B[1;32mindex.pyx:167\u001B[0m, in \u001B[0;36mpandas._libs.index.IndexEngine.get_loc\u001B[1;34m()\u001B[0m\n",
      "File \u001B[1;32mindex.pyx:196\u001B[0m, in \u001B[0;36mpandas._libs.index.IndexEngine.get_loc\u001B[1;34m()\u001B[0m\n",
      "File \u001B[1;32mpandas\\\\_libs\\\\hashtable_class_helper.pxi:7081\u001B[0m, in \u001B[0;36mpandas._libs.hashtable.PyObjectHashTable.get_item\u001B[1;34m()\u001B[0m\n",
      "File \u001B[1;32mpandas\\\\_libs\\\\hashtable_class_helper.pxi:7089\u001B[0m, in \u001B[0;36mpandas._libs.hashtable.PyObjectHashTable.get_item\u001B[1;34m()\u001B[0m\n",
      "\u001B[1;31mKeyError\u001B[0m: 'Sample weight (kg)'",
      "\nThe above exception was the direct cause of the following exception:\n",
      "\u001B[1;31mKeyError\u001B[0m                                  Traceback (most recent call last)",
      "Cell \u001B[1;32mIn[268], line 2\u001B[0m\n\u001B[0;32m      1\u001B[0m \u001B[38;5;66;03m# 페이로드에서 샘플이 차지하는 비율 구하기 -> 'Sample : Payload'\u001B[39;00m\n\u001B[1;32m----> 2\u001B[0m missions[\u001B[38;5;124m'\u001B[39m\u001B[38;5;124mSample : Payload\u001B[39m\u001B[38;5;124m'\u001B[39m] \u001B[38;5;241m=\u001B[39m \u001B[43mmissions\u001B[49m\u001B[43m[\u001B[49m\u001B[38;5;124;43m'\u001B[39;49m\u001B[38;5;124;43mSample weight (kg)\u001B[39;49m\u001B[38;5;124;43m'\u001B[39;49m\u001B[43m]\u001B[49m \u001B[38;5;241m/\u001B[39m saturnVPayload\n\u001B[0;32m      3\u001B[0m missions\n",
      "File \u001B[1;32mC:\\git\\python_study\\.venv\\Lib\\site-packages\\pandas\\core\\frame.py:4102\u001B[0m, in \u001B[0;36mDataFrame.__getitem__\u001B[1;34m(self, key)\u001B[0m\n\u001B[0;32m   4100\u001B[0m \u001B[38;5;28;01mif\u001B[39;00m \u001B[38;5;28mself\u001B[39m\u001B[38;5;241m.\u001B[39mcolumns\u001B[38;5;241m.\u001B[39mnlevels \u001B[38;5;241m>\u001B[39m \u001B[38;5;241m1\u001B[39m:\n\u001B[0;32m   4101\u001B[0m     \u001B[38;5;28;01mreturn\u001B[39;00m \u001B[38;5;28mself\u001B[39m\u001B[38;5;241m.\u001B[39m_getitem_multilevel(key)\n\u001B[1;32m-> 4102\u001B[0m indexer \u001B[38;5;241m=\u001B[39m \u001B[38;5;28;43mself\u001B[39;49m\u001B[38;5;241;43m.\u001B[39;49m\u001B[43mcolumns\u001B[49m\u001B[38;5;241;43m.\u001B[39;49m\u001B[43mget_loc\u001B[49m\u001B[43m(\u001B[49m\u001B[43mkey\u001B[49m\u001B[43m)\u001B[49m\n\u001B[0;32m   4103\u001B[0m \u001B[38;5;28;01mif\u001B[39;00m is_integer(indexer):\n\u001B[0;32m   4104\u001B[0m     indexer \u001B[38;5;241m=\u001B[39m [indexer]\n",
      "File \u001B[1;32mC:\\git\\python_study\\.venv\\Lib\\site-packages\\pandas\\core\\indexes\\base.py:3812\u001B[0m, in \u001B[0;36mIndex.get_loc\u001B[1;34m(self, key)\u001B[0m\n\u001B[0;32m   3807\u001B[0m     \u001B[38;5;28;01mif\u001B[39;00m \u001B[38;5;28misinstance\u001B[39m(casted_key, \u001B[38;5;28mslice\u001B[39m) \u001B[38;5;129;01mor\u001B[39;00m (\n\u001B[0;32m   3808\u001B[0m         \u001B[38;5;28misinstance\u001B[39m(casted_key, abc\u001B[38;5;241m.\u001B[39mIterable)\n\u001B[0;32m   3809\u001B[0m         \u001B[38;5;129;01mand\u001B[39;00m \u001B[38;5;28many\u001B[39m(\u001B[38;5;28misinstance\u001B[39m(x, \u001B[38;5;28mslice\u001B[39m) \u001B[38;5;28;01mfor\u001B[39;00m x \u001B[38;5;129;01min\u001B[39;00m casted_key)\n\u001B[0;32m   3810\u001B[0m     ):\n\u001B[0;32m   3811\u001B[0m         \u001B[38;5;28;01mraise\u001B[39;00m InvalidIndexError(key)\n\u001B[1;32m-> 3812\u001B[0m     \u001B[38;5;28;01mraise\u001B[39;00m \u001B[38;5;167;01mKeyError\u001B[39;00m(key) \u001B[38;5;28;01mfrom\u001B[39;00m \u001B[38;5;21;01merr\u001B[39;00m\n\u001B[0;32m   3813\u001B[0m \u001B[38;5;28;01mexcept\u001B[39;00m \u001B[38;5;167;01mTypeError\u001B[39;00m:\n\u001B[0;32m   3814\u001B[0m     \u001B[38;5;66;03m# If we have a listlike key, _check_indexing_error will raise\u001B[39;00m\n\u001B[0;32m   3815\u001B[0m     \u001B[38;5;66;03m#  InvalidIndexError. Otherwise we fall through and re-raise\u001B[39;00m\n\u001B[0;32m   3816\u001B[0m     \u001B[38;5;66;03m#  the TypeError.\u001B[39;00m\n\u001B[0;32m   3817\u001B[0m     \u001B[38;5;28mself\u001B[39m\u001B[38;5;241m.\u001B[39m_check_indexing_error(key)\n",
      "\u001B[1;31mKeyError\u001B[0m: 'Sample weight (kg)'"
     ]
    }
   ],
   "execution_count": 268
  },
  {
   "metadata": {
    "ExecuteTime": {
     "end_time": "2024-12-30T06:16:38.337430Z",
     "start_time": "2024-12-30T06:16:38.335315Z"
    }
   },
   "cell_type": "code",
   "source": [
    "# 페이로드(saturnVPayload) = 승무원 영역, 장비 등 로켓 안에 실리는 물건 하중 합\n",
    "# 승무원 영역 = 달 모듈 + 명령 모듈 (전체에 암석 샘플 무게도 포함됨)\n",
    "# 승무원 영역 하중 - Total weight (kg)\n",
    "# 암석 샘플 하중 - Sample weight (kg)\n",
    "\n",
    "# 페이로드에서 승무원이 차지하는 비율(Crewed area: Payload) = 승무원 영역 하중 / 페이로드(전체 하중)\n",
    "# 승무원 영역에서 암석 샘플이 차지하는 비율(Sample : Crewed area) = 암석 샘플 하중 / 승무원 영역 하중\n",
    "# 페이로드에서 샘플이 차지하는 비율 (Sample : Payload) = 암석 샘플 하중 / 페이로드(전체 하중)"
   ],
   "outputs": [],
   "execution_count": 269
  },
  {
   "metadata": {},
   "cell_type": "markdown",
   "source": "## artemis_mission 데이터프레임 만들기"
  },
  {
   "cell_type": "code",
   "metadata": {
    "gather": {
     "logged": 1718683927721
    },
    "ExecuteTime": {
     "end_time": "2024-12-30T06:16:42.140942Z",
     "start_time": "2024-12-30T06:16:42.137365Z"
    }
   },
   "source": [
    "artemis_crewedArea = 26520\n",
    "\n",
    "artemis_dict = {'Mission' : ['artemis1', 'artemis1b', 'artemis2'],\n",
    "                'Total weight (kg)' : [artemis_crewedArea, artemis_crewedArea, artemis_crewedArea],\n",
    "                'Payload (kg)' : [26988, 37965, 42955]\n",
    "               }\n",
    "\n",
    "#딕셔너리를 데이터 프레임으로 저장하기\n",
    "artemis_mission  = pd.DataFrame(artemis_dict)\n",
    "artemis_mission"
   ],
   "outputs": [
    {
     "data": {
      "text/plain": [
       "     Mission  Total weight (kg)  Payload (kg)\n",
       "0   artemis1              26520         26988\n",
       "1  artemis1b              26520         37965\n",
       "2   artemis2              26520         42955"
      ],
      "text/html": [
       "<div>\n",
       "<style scoped>\n",
       "    .dataframe tbody tr th:only-of-type {\n",
       "        vertical-align: middle;\n",
       "    }\n",
       "\n",
       "    .dataframe tbody tr th {\n",
       "        vertical-align: top;\n",
       "    }\n",
       "\n",
       "    .dataframe thead th {\n",
       "        text-align: right;\n",
       "    }\n",
       "</style>\n",
       "<table border=\"1\" class=\"dataframe\">\n",
       "  <thead>\n",
       "    <tr style=\"text-align: right;\">\n",
       "      <th></th>\n",
       "      <th>Mission</th>\n",
       "      <th>Total weight (kg)</th>\n",
       "      <th>Payload (kg)</th>\n",
       "    </tr>\n",
       "  </thead>\n",
       "  <tbody>\n",
       "    <tr>\n",
       "      <th>0</th>\n",
       "      <td>artemis1</td>\n",
       "      <td>26520</td>\n",
       "      <td>26988</td>\n",
       "    </tr>\n",
       "    <tr>\n",
       "      <th>1</th>\n",
       "      <td>artemis1b</td>\n",
       "      <td>26520</td>\n",
       "      <td>37965</td>\n",
       "    </tr>\n",
       "    <tr>\n",
       "      <th>2</th>\n",
       "      <td>artemis2</td>\n",
       "      <td>26520</td>\n",
       "      <td>42955</td>\n",
       "    </tr>\n",
       "  </tbody>\n",
       "</table>\n",
       "</div>"
      ]
     },
     "execution_count": 270,
     "metadata": {},
     "output_type": "execute_result"
    }
   ],
   "execution_count": 270
  },
  {
   "metadata": {
    "gather": {
     "logged": 1718683928021
    },
    "ExecuteTime": {
     "end_time": "2024-12-30T06:16:44.156580Z",
     "start_time": "2024-12-30T06:16:44.136969Z"
    }
   },
   "cell_type": "code",
   "source": [
    "# missions 데이터프레임에서 'Crewed area : Payload', 'Sample : Crewed area', 'Sample : Payload' 의 평균값을 구한다.\n",
    "CrewedArea_Payload_ratio = missions['Crewed area : Payload'].sample_weight_kg__mean()\n",
    "Sample_Crewed_ratio = missions['Sample : Crewed area'].sample_weight_kg__mean()\n",
    "Sample_Payload_ratio = missions['Sample : Payload'].sample_weight_kg__mean()\n",
    "\n",
    "print(CrewedArea_Payload_ratio)\n",
    "print(Sample_Crewed_ratio)\n",
    "print(Sample_Payload_ratio)\n"
   ],
   "outputs": [
    {
     "ename": "KeyError",
     "evalue": "'Sample : Crewed area'",
     "output_type": "error",
     "traceback": [
      "\u001B[1;31m---------------------------------------------------------------------------\u001B[0m",
      "\u001B[1;31mKeyError\u001B[0m                                  Traceback (most recent call last)",
      "File \u001B[1;32mC:\\git\\python_study\\.venv\\Lib\\site-packages\\pandas\\core\\indexes\\base.py:3805\u001B[0m, in \u001B[0;36mIndex.get_loc\u001B[1;34m(self, key)\u001B[0m\n\u001B[0;32m   3804\u001B[0m \u001B[38;5;28;01mtry\u001B[39;00m:\n\u001B[1;32m-> 3805\u001B[0m     \u001B[38;5;28;01mreturn\u001B[39;00m \u001B[38;5;28;43mself\u001B[39;49m\u001B[38;5;241;43m.\u001B[39;49m\u001B[43m_engine\u001B[49m\u001B[38;5;241;43m.\u001B[39;49m\u001B[43mget_loc\u001B[49m\u001B[43m(\u001B[49m\u001B[43mcasted_key\u001B[49m\u001B[43m)\u001B[49m\n\u001B[0;32m   3806\u001B[0m \u001B[38;5;28;01mexcept\u001B[39;00m \u001B[38;5;167;01mKeyError\u001B[39;00m \u001B[38;5;28;01mas\u001B[39;00m err:\n",
      "File \u001B[1;32mindex.pyx:167\u001B[0m, in \u001B[0;36mpandas._libs.index.IndexEngine.get_loc\u001B[1;34m()\u001B[0m\n",
      "File \u001B[1;32mindex.pyx:196\u001B[0m, in \u001B[0;36mpandas._libs.index.IndexEngine.get_loc\u001B[1;34m()\u001B[0m\n",
      "File \u001B[1;32mpandas\\\\_libs\\\\hashtable_class_helper.pxi:7081\u001B[0m, in \u001B[0;36mpandas._libs.hashtable.PyObjectHashTable.get_item\u001B[1;34m()\u001B[0m\n",
      "File \u001B[1;32mpandas\\\\_libs\\\\hashtable_class_helper.pxi:7089\u001B[0m, in \u001B[0;36mpandas._libs.hashtable.PyObjectHashTable.get_item\u001B[1;34m()\u001B[0m\n",
      "\u001B[1;31mKeyError\u001B[0m: 'Sample : Crewed area'",
      "\nThe above exception was the direct cause of the following exception:\n",
      "\u001B[1;31mKeyError\u001B[0m                                  Traceback (most recent call last)",
      "Cell \u001B[1;32mIn[271], line 3\u001B[0m\n\u001B[0;32m      1\u001B[0m \u001B[38;5;66;03m# missions 데이터프레임에서 'Crewed area : Payload', 'Sample : Crewed area', 'Sample : Payload' 의 평균값을 구한다.\u001B[39;00m\n\u001B[0;32m      2\u001B[0m CrewedArea_Payload_ratio \u001B[38;5;241m=\u001B[39m missions[\u001B[38;5;124m'\u001B[39m\u001B[38;5;124mCrewed area : Payload\u001B[39m\u001B[38;5;124m'\u001B[39m]\u001B[38;5;241m.\u001B[39mmean()\n\u001B[1;32m----> 3\u001B[0m Sample_Crewed_ratio \u001B[38;5;241m=\u001B[39m \u001B[43mmissions\u001B[49m\u001B[43m[\u001B[49m\u001B[38;5;124;43m'\u001B[39;49m\u001B[38;5;124;43mSample : Crewed area\u001B[39;49m\u001B[38;5;124;43m'\u001B[39;49m\u001B[43m]\u001B[49m\u001B[38;5;241m.\u001B[39mmean()\n\u001B[0;32m      4\u001B[0m Sample_Payload_ratio \u001B[38;5;241m=\u001B[39m missions[\u001B[38;5;124m'\u001B[39m\u001B[38;5;124mSample : Payload\u001B[39m\u001B[38;5;124m'\u001B[39m]\u001B[38;5;241m.\u001B[39mmean()\n\u001B[0;32m      6\u001B[0m \u001B[38;5;28mprint\u001B[39m(CrewedArea_Payload_ratio)\n",
      "File \u001B[1;32mC:\\git\\python_study\\.venv\\Lib\\site-packages\\pandas\\core\\frame.py:4102\u001B[0m, in \u001B[0;36mDataFrame.__getitem__\u001B[1;34m(self, key)\u001B[0m\n\u001B[0;32m   4100\u001B[0m \u001B[38;5;28;01mif\u001B[39;00m \u001B[38;5;28mself\u001B[39m\u001B[38;5;241m.\u001B[39mcolumns\u001B[38;5;241m.\u001B[39mnlevels \u001B[38;5;241m>\u001B[39m \u001B[38;5;241m1\u001B[39m:\n\u001B[0;32m   4101\u001B[0m     \u001B[38;5;28;01mreturn\u001B[39;00m \u001B[38;5;28mself\u001B[39m\u001B[38;5;241m.\u001B[39m_getitem_multilevel(key)\n\u001B[1;32m-> 4102\u001B[0m indexer \u001B[38;5;241m=\u001B[39m \u001B[38;5;28;43mself\u001B[39;49m\u001B[38;5;241;43m.\u001B[39;49m\u001B[43mcolumns\u001B[49m\u001B[38;5;241;43m.\u001B[39;49m\u001B[43mget_loc\u001B[49m\u001B[43m(\u001B[49m\u001B[43mkey\u001B[49m\u001B[43m)\u001B[49m\n\u001B[0;32m   4103\u001B[0m \u001B[38;5;28;01mif\u001B[39;00m is_integer(indexer):\n\u001B[0;32m   4104\u001B[0m     indexer \u001B[38;5;241m=\u001B[39m [indexer]\n",
      "File \u001B[1;32mC:\\git\\python_study\\.venv\\Lib\\site-packages\\pandas\\core\\indexes\\base.py:3812\u001B[0m, in \u001B[0;36mIndex.get_loc\u001B[1;34m(self, key)\u001B[0m\n\u001B[0;32m   3807\u001B[0m     \u001B[38;5;28;01mif\u001B[39;00m \u001B[38;5;28misinstance\u001B[39m(casted_key, \u001B[38;5;28mslice\u001B[39m) \u001B[38;5;129;01mor\u001B[39;00m (\n\u001B[0;32m   3808\u001B[0m         \u001B[38;5;28misinstance\u001B[39m(casted_key, abc\u001B[38;5;241m.\u001B[39mIterable)\n\u001B[0;32m   3809\u001B[0m         \u001B[38;5;129;01mand\u001B[39;00m \u001B[38;5;28many\u001B[39m(\u001B[38;5;28misinstance\u001B[39m(x, \u001B[38;5;28mslice\u001B[39m) \u001B[38;5;28;01mfor\u001B[39;00m x \u001B[38;5;129;01min\u001B[39;00m casted_key)\n\u001B[0;32m   3810\u001B[0m     ):\n\u001B[0;32m   3811\u001B[0m         \u001B[38;5;28;01mraise\u001B[39;00m InvalidIndexError(key)\n\u001B[1;32m-> 3812\u001B[0m     \u001B[38;5;28;01mraise\u001B[39;00m \u001B[38;5;167;01mKeyError\u001B[39;00m(key) \u001B[38;5;28;01mfrom\u001B[39;00m \u001B[38;5;21;01merr\u001B[39;00m\n\u001B[0;32m   3813\u001B[0m \u001B[38;5;28;01mexcept\u001B[39;00m \u001B[38;5;167;01mTypeError\u001B[39;00m:\n\u001B[0;32m   3814\u001B[0m     \u001B[38;5;66;03m# If we have a listlike key, _check_indexing_error will raise\u001B[39;00m\n\u001B[0;32m   3815\u001B[0m     \u001B[38;5;66;03m#  InvalidIndexError. Otherwise we fall through and re-raise\u001B[39;00m\n\u001B[0;32m   3816\u001B[0m     \u001B[38;5;66;03m#  the TypeError.\u001B[39;00m\n\u001B[0;32m   3817\u001B[0m     \u001B[38;5;28mself\u001B[39m\u001B[38;5;241m.\u001B[39m_check_indexing_error(key)\n",
      "\u001B[1;31mKeyError\u001B[0m: 'Sample : Crewed area'"
     ]
    }
   ],
   "execution_count": 271
  },
  {
   "cell_type": "code",
   "metadata": {
    "gather": {
     "logged": 1718683928212
    },
    "jupyter": {
     "outputs_hidden": false,
     "source_hidden": false
    },
    "nteract": {
     "transient": {
      "deleting": false
     }
    },
    "ExecuteTime": {
     "end_time": "2024-12-30T06:16:44.989832Z",
     "start_time": "2024-12-30T06:16:44.970404Z"
    }
   },
   "source": [
    "# missions 데이터프레임에서 'Sample weight (kg)'의 총합을 구한다.\n",
    "sample_weight_kg__sum = missions['Sample weight (kg)'].sum()\n",
    "print(sample_weight_kg__sum)"
   ],
   "outputs": [
    {
     "ename": "KeyError",
     "evalue": "'Sample weight (kg)'",
     "output_type": "error",
     "traceback": [
      "\u001B[1;31m---------------------------------------------------------------------------\u001B[0m",
      "\u001B[1;31mKeyError\u001B[0m                                  Traceback (most recent call last)",
      "File \u001B[1;32mC:\\git\\python_study\\.venv\\Lib\\site-packages\\pandas\\core\\indexes\\base.py:3805\u001B[0m, in \u001B[0;36mIndex.get_loc\u001B[1;34m(self, key)\u001B[0m\n\u001B[0;32m   3804\u001B[0m \u001B[38;5;28;01mtry\u001B[39;00m:\n\u001B[1;32m-> 3805\u001B[0m     \u001B[38;5;28;01mreturn\u001B[39;00m \u001B[38;5;28;43mself\u001B[39;49m\u001B[38;5;241;43m.\u001B[39;49m\u001B[43m_engine\u001B[49m\u001B[38;5;241;43m.\u001B[39;49m\u001B[43mget_loc\u001B[49m\u001B[43m(\u001B[49m\u001B[43mcasted_key\u001B[49m\u001B[43m)\u001B[49m\n\u001B[0;32m   3806\u001B[0m \u001B[38;5;28;01mexcept\u001B[39;00m \u001B[38;5;167;01mKeyError\u001B[39;00m \u001B[38;5;28;01mas\u001B[39;00m err:\n",
      "File \u001B[1;32mindex.pyx:167\u001B[0m, in \u001B[0;36mpandas._libs.index.IndexEngine.get_loc\u001B[1;34m()\u001B[0m\n",
      "File \u001B[1;32mindex.pyx:196\u001B[0m, in \u001B[0;36mpandas._libs.index.IndexEngine.get_loc\u001B[1;34m()\u001B[0m\n",
      "File \u001B[1;32mpandas\\\\_libs\\\\hashtable_class_helper.pxi:7081\u001B[0m, in \u001B[0;36mpandas._libs.hashtable.PyObjectHashTable.get_item\u001B[1;34m()\u001B[0m\n",
      "File \u001B[1;32mpandas\\\\_libs\\\\hashtable_class_helper.pxi:7089\u001B[0m, in \u001B[0;36mpandas._libs.hashtable.PyObjectHashTable.get_item\u001B[1;34m()\u001B[0m\n",
      "\u001B[1;31mKeyError\u001B[0m: 'Sample weight (kg)'",
      "\nThe above exception was the direct cause of the following exception:\n",
      "\u001B[1;31mKeyError\u001B[0m                                  Traceback (most recent call last)",
      "Cell \u001B[1;32mIn[272], line 2\u001B[0m\n\u001B[0;32m      1\u001B[0m \u001B[38;5;66;03m# missions 데이터프레임에서 'Sample weight (kg)'의 총합을 구한다.\u001B[39;00m\n\u001B[1;32m----> 2\u001B[0m sample_weight_kg__sum \u001B[38;5;241m=\u001B[39m \u001B[43mmissions\u001B[49m\u001B[43m[\u001B[49m\u001B[38;5;124;43m'\u001B[39;49m\u001B[38;5;124;43mSample weight (kg)\u001B[39;49m\u001B[38;5;124;43m'\u001B[39;49m\u001B[43m]\u001B[49m\u001B[38;5;241m.\u001B[39msum()\n\u001B[0;32m      3\u001B[0m \u001B[38;5;28mprint\u001B[39m(sample_weight_kg__sum)\n",
      "File \u001B[1;32mC:\\git\\python_study\\.venv\\Lib\\site-packages\\pandas\\core\\frame.py:4102\u001B[0m, in \u001B[0;36mDataFrame.__getitem__\u001B[1;34m(self, key)\u001B[0m\n\u001B[0;32m   4100\u001B[0m \u001B[38;5;28;01mif\u001B[39;00m \u001B[38;5;28mself\u001B[39m\u001B[38;5;241m.\u001B[39mcolumns\u001B[38;5;241m.\u001B[39mnlevels \u001B[38;5;241m>\u001B[39m \u001B[38;5;241m1\u001B[39m:\n\u001B[0;32m   4101\u001B[0m     \u001B[38;5;28;01mreturn\u001B[39;00m \u001B[38;5;28mself\u001B[39m\u001B[38;5;241m.\u001B[39m_getitem_multilevel(key)\n\u001B[1;32m-> 4102\u001B[0m indexer \u001B[38;5;241m=\u001B[39m \u001B[38;5;28;43mself\u001B[39;49m\u001B[38;5;241;43m.\u001B[39;49m\u001B[43mcolumns\u001B[49m\u001B[38;5;241;43m.\u001B[39;49m\u001B[43mget_loc\u001B[49m\u001B[43m(\u001B[49m\u001B[43mkey\u001B[49m\u001B[43m)\u001B[49m\n\u001B[0;32m   4103\u001B[0m \u001B[38;5;28;01mif\u001B[39;00m is_integer(indexer):\n\u001B[0;32m   4104\u001B[0m     indexer \u001B[38;5;241m=\u001B[39m [indexer]\n",
      "File \u001B[1;32mC:\\git\\python_study\\.venv\\Lib\\site-packages\\pandas\\core\\indexes\\base.py:3812\u001B[0m, in \u001B[0;36mIndex.get_loc\u001B[1;34m(self, key)\u001B[0m\n\u001B[0;32m   3807\u001B[0m     \u001B[38;5;28;01mif\u001B[39;00m \u001B[38;5;28misinstance\u001B[39m(casted_key, \u001B[38;5;28mslice\u001B[39m) \u001B[38;5;129;01mor\u001B[39;00m (\n\u001B[0;32m   3808\u001B[0m         \u001B[38;5;28misinstance\u001B[39m(casted_key, abc\u001B[38;5;241m.\u001B[39mIterable)\n\u001B[0;32m   3809\u001B[0m         \u001B[38;5;129;01mand\u001B[39;00m \u001B[38;5;28many\u001B[39m(\u001B[38;5;28misinstance\u001B[39m(x, \u001B[38;5;28mslice\u001B[39m) \u001B[38;5;28;01mfor\u001B[39;00m x \u001B[38;5;129;01min\u001B[39;00m casted_key)\n\u001B[0;32m   3810\u001B[0m     ):\n\u001B[0;32m   3811\u001B[0m         \u001B[38;5;28;01mraise\u001B[39;00m InvalidIndexError(key)\n\u001B[1;32m-> 3812\u001B[0m     \u001B[38;5;28;01mraise\u001B[39;00m \u001B[38;5;167;01mKeyError\u001B[39;00m(key) \u001B[38;5;28;01mfrom\u001B[39;00m \u001B[38;5;21;01merr\u001B[39;00m\n\u001B[0;32m   3813\u001B[0m \u001B[38;5;28;01mexcept\u001B[39;00m \u001B[38;5;167;01mTypeError\u001B[39;00m:\n\u001B[0;32m   3814\u001B[0m     \u001B[38;5;66;03m# If we have a listlike key, _check_indexing_error will raise\u001B[39;00m\n\u001B[0;32m   3815\u001B[0m     \u001B[38;5;66;03m#  InvalidIndexError. Otherwise we fall through and re-raise\u001B[39;00m\n\u001B[0;32m   3816\u001B[0m     \u001B[38;5;66;03m#  the TypeError.\u001B[39;00m\n\u001B[0;32m   3817\u001B[0m     \u001B[38;5;28mself\u001B[39m\u001B[38;5;241m.\u001B[39m_check_indexing_error(key)\n",
      "\u001B[1;31mKeyError\u001B[0m: 'Sample weight (kg)'"
     ]
    }
   ],
   "execution_count": 272
  },
  {
   "cell_type": "code",
   "metadata": {
    "gather": {
     "logged": 1718683928361
    },
    "jupyter": {
     "outputs_hidden": false,
     "source_hidden": false
    },
    "nteract": {
     "transient": {
      "deleting": false
     }
    },
    "ExecuteTime": {
     "end_time": "2024-12-30T06:16:45.556558Z",
     "start_time": "2024-12-30T06:16:45.552512Z"
    }
   },
   "source": [
    "#artemis_missions 데이터 프레임에 'Sample weight from total (kg)' 컬럼을 추가한다.\n",
    "artemis_mission['Sample weight from total (kg)'] = Sample_Crewed_ratio * artemis_mission['Total weight (kg)']\n",
    "artemis_mission\n"
   ],
   "outputs": [
    {
     "data": {
      "text/plain": [
       "     Mission  Total weight (kg)  Payload (kg)  Sample weight from total (kg)\n",
       "0   artemis1              26520         26988                      75.549232\n",
       "1  artemis1b              26520         37965                      75.549232\n",
       "2   artemis2              26520         42955                      75.549232"
      ],
      "text/html": [
       "<div>\n",
       "<style scoped>\n",
       "    .dataframe tbody tr th:only-of-type {\n",
       "        vertical-align: middle;\n",
       "    }\n",
       "\n",
       "    .dataframe tbody tr th {\n",
       "        vertical-align: top;\n",
       "    }\n",
       "\n",
       "    .dataframe thead th {\n",
       "        text-align: right;\n",
       "    }\n",
       "</style>\n",
       "<table border=\"1\" class=\"dataframe\">\n",
       "  <thead>\n",
       "    <tr style=\"text-align: right;\">\n",
       "      <th></th>\n",
       "      <th>Mission</th>\n",
       "      <th>Total weight (kg)</th>\n",
       "      <th>Payload (kg)</th>\n",
       "      <th>Sample weight from total (kg)</th>\n",
       "    </tr>\n",
       "  </thead>\n",
       "  <tbody>\n",
       "    <tr>\n",
       "      <th>0</th>\n",
       "      <td>artemis1</td>\n",
       "      <td>26520</td>\n",
       "      <td>26988</td>\n",
       "      <td>75.549232</td>\n",
       "    </tr>\n",
       "    <tr>\n",
       "      <th>1</th>\n",
       "      <td>artemis1b</td>\n",
       "      <td>26520</td>\n",
       "      <td>37965</td>\n",
       "      <td>75.549232</td>\n",
       "    </tr>\n",
       "    <tr>\n",
       "      <th>2</th>\n",
       "      <td>artemis2</td>\n",
       "      <td>26520</td>\n",
       "      <td>42955</td>\n",
       "      <td>75.549232</td>\n",
       "    </tr>\n",
       "  </tbody>\n",
       "</table>\n",
       "</div>"
      ]
     },
     "execution_count": 273,
     "metadata": {},
     "output_type": "execute_result"
    }
   ],
   "execution_count": 273
  },
  {
   "cell_type": "code",
   "metadata": {
    "gather": {
     "logged": 1718683928565
    },
    "jupyter": {
     "outputs_hidden": false,
     "source_hidden": false
    },
    "nteract": {
     "transient": {
      "deleting": false
     }
    },
    "ExecuteTime": {
     "end_time": "2024-12-30T06:16:46.023396Z",
     "start_time": "2024-12-30T06:16:46.019231Z"
    }
   },
   "source": [
    "#artemis_mission 데이터프레임에 'Sample weight from payload (kg)' 컬럼을 추가한다.\n",
    "artemis_mission['Sample weight from payload (kg)'] = Sample_Payload_ratio * artemis_mission['Payload (kg)']\n",
    "artemis_mission\n"
   ],
   "outputs": [
    {
     "data": {
      "text/plain": [
       "     Mission  Total weight (kg)  Payload (kg)  Sample weight from total (kg)  \\\n",
       "0   artemis1              26520         26988                      75.549232   \n",
       "1  artemis1b              26520         37965                      75.549232   \n",
       "2   artemis2              26520         42955                      75.549232   \n",
       "\n",
       "   Sample weight from payload (kg)  \n",
       "0                        38.779584  \n",
       "1                        54.552649  \n",
       "2                        61.722877  "
      ],
      "text/html": [
       "<div>\n",
       "<style scoped>\n",
       "    .dataframe tbody tr th:only-of-type {\n",
       "        vertical-align: middle;\n",
       "    }\n",
       "\n",
       "    .dataframe tbody tr th {\n",
       "        vertical-align: top;\n",
       "    }\n",
       "\n",
       "    .dataframe thead th {\n",
       "        text-align: right;\n",
       "    }\n",
       "</style>\n",
       "<table border=\"1\" class=\"dataframe\">\n",
       "  <thead>\n",
       "    <tr style=\"text-align: right;\">\n",
       "      <th></th>\n",
       "      <th>Mission</th>\n",
       "      <th>Total weight (kg)</th>\n",
       "      <th>Payload (kg)</th>\n",
       "      <th>Sample weight from total (kg)</th>\n",
       "      <th>Sample weight from payload (kg)</th>\n",
       "    </tr>\n",
       "  </thead>\n",
       "  <tbody>\n",
       "    <tr>\n",
       "      <th>0</th>\n",
       "      <td>artemis1</td>\n",
       "      <td>26520</td>\n",
       "      <td>26988</td>\n",
       "      <td>75.549232</td>\n",
       "      <td>38.779584</td>\n",
       "    </tr>\n",
       "    <tr>\n",
       "      <th>1</th>\n",
       "      <td>artemis1b</td>\n",
       "      <td>26520</td>\n",
       "      <td>37965</td>\n",
       "      <td>75.549232</td>\n",
       "      <td>54.552649</td>\n",
       "    </tr>\n",
       "    <tr>\n",
       "      <th>2</th>\n",
       "      <td>artemis2</td>\n",
       "      <td>26520</td>\n",
       "      <td>42955</td>\n",
       "      <td>75.549232</td>\n",
       "      <td>61.722877</td>\n",
       "    </tr>\n",
       "  </tbody>\n",
       "</table>\n",
       "</div>"
      ]
     },
     "execution_count": 274,
     "metadata": {},
     "output_type": "execute_result"
    }
   ],
   "execution_count": 274
  },
  {
   "cell_type": "code",
   "metadata": {
    "gather": {
     "logged": 1718683928731
    },
    "jupyter": {
     "outputs_hidden": false,
     "source_hidden": false
    },
    "nteract": {
     "transient": {
      "deleting": false
     }
    },
    "ExecuteTime": {
     "end_time": "2024-12-30T06:16:46.481134Z",
     "start_time": "2024-12-30T06:16:46.476888Z"
    }
   },
   "source": [
    "# artemis_mission 데이터프레임에 'Estimated sample weight (kg)' 컬럼을 추가한다.\n",
    "artemis_mission['Estimated sample weight (kg)'] = (artemis_mission['Sample weight from payload (kg)'] + artemis_mission['Sample weight from total (kg)']) / 2\n",
    "artemis_mission\n"
   ],
   "outputs": [
    {
     "data": {
      "text/plain": [
       "     Mission  Total weight (kg)  Payload (kg)  Sample weight from total (kg)  \\\n",
       "0   artemis1              26520         26988                      75.549232   \n",
       "1  artemis1b              26520         37965                      75.549232   \n",
       "2   artemis2              26520         42955                      75.549232   \n",
       "\n",
       "   Sample weight from payload (kg)  Estimated sample weight (kg)  \n",
       "0                        38.779584                     57.164408  \n",
       "1                        54.552649                     65.050940  \n",
       "2                        61.722877                     68.636054  "
      ],
      "text/html": [
       "<div>\n",
       "<style scoped>\n",
       "    .dataframe tbody tr th:only-of-type {\n",
       "        vertical-align: middle;\n",
       "    }\n",
       "\n",
       "    .dataframe tbody tr th {\n",
       "        vertical-align: top;\n",
       "    }\n",
       "\n",
       "    .dataframe thead th {\n",
       "        text-align: right;\n",
       "    }\n",
       "</style>\n",
       "<table border=\"1\" class=\"dataframe\">\n",
       "  <thead>\n",
       "    <tr style=\"text-align: right;\">\n",
       "      <th></th>\n",
       "      <th>Mission</th>\n",
       "      <th>Total weight (kg)</th>\n",
       "      <th>Payload (kg)</th>\n",
       "      <th>Sample weight from total (kg)</th>\n",
       "      <th>Sample weight from payload (kg)</th>\n",
       "      <th>Estimated sample weight (kg)</th>\n",
       "    </tr>\n",
       "  </thead>\n",
       "  <tbody>\n",
       "    <tr>\n",
       "      <th>0</th>\n",
       "      <td>artemis1</td>\n",
       "      <td>26520</td>\n",
       "      <td>26988</td>\n",
       "      <td>75.549232</td>\n",
       "      <td>38.779584</td>\n",
       "      <td>57.164408</td>\n",
       "    </tr>\n",
       "    <tr>\n",
       "      <th>1</th>\n",
       "      <td>artemis1b</td>\n",
       "      <td>26520</td>\n",
       "      <td>37965</td>\n",
       "      <td>75.549232</td>\n",
       "      <td>54.552649</td>\n",
       "      <td>65.050940</td>\n",
       "    </tr>\n",
       "    <tr>\n",
       "      <th>2</th>\n",
       "      <td>artemis2</td>\n",
       "      <td>26520</td>\n",
       "      <td>42955</td>\n",
       "      <td>75.549232</td>\n",
       "      <td>61.722877</td>\n",
       "      <td>68.636054</td>\n",
       "    </tr>\n",
       "  </tbody>\n",
       "</table>\n",
       "</div>"
      ]
     },
     "execution_count": 275,
     "metadata": {},
     "output_type": "execute_result"
    }
   ],
   "execution_count": 275
  },
  {
   "cell_type": "markdown",
   "metadata": {
    "nteract": {
     "transient": {
      "deleting": false
     }
    }
   },
   "source": [
    "##아르테미스 임무에서 가져올 암석 종류 구하기"
   ]
  },
  {
   "cell_type": "code",
   "metadata": {
    "gather": {
     "logged": 1718683929003
    },
    "jupyter": {
     "outputs_hidden": false,
     "source_hidden": false
    },
    "nteract": {
     "transient": {
      "deleting": false
     }
    },
    "ExecuteTime": {
     "end_time": "2024-12-30T06:16:47.446448Z",
     "start_time": "2024-12-30T06:16:47.442633Z"
    }
   },
   "source": [
    "# rock_sample의 5개 정보 확인하기\n",
    "rock_sample.head()"
   ],
   "outputs": [
    {
     "data": {
      "text/plain": [
       "      ID   Mission    Type   Subtype  Weight (kg)  Pristine (%)\n",
       "0  10001  Apollo11    Soil  Unsieved       0.1258         88.36\n",
       "1  10002  Apollo11    Soil  Unsieved       5.6290         93.73\n",
       "2  10003  Apollo11  Basalt  Ilmenite       0.2130         65.56\n",
       "3  10004  Apollo11    Core  Unsieved       0.0448         71.76\n",
       "4  10005  Apollo11    Core  Unsieved       0.0534         40.31"
      ],
      "text/html": [
       "<div>\n",
       "<style scoped>\n",
       "    .dataframe tbody tr th:only-of-type {\n",
       "        vertical-align: middle;\n",
       "    }\n",
       "\n",
       "    .dataframe tbody tr th {\n",
       "        vertical-align: top;\n",
       "    }\n",
       "\n",
       "    .dataframe thead th {\n",
       "        text-align: right;\n",
       "    }\n",
       "</style>\n",
       "<table border=\"1\" class=\"dataframe\">\n",
       "  <thead>\n",
       "    <tr style=\"text-align: right;\">\n",
       "      <th></th>\n",
       "      <th>ID</th>\n",
       "      <th>Mission</th>\n",
       "      <th>Type</th>\n",
       "      <th>Subtype</th>\n",
       "      <th>Weight (kg)</th>\n",
       "      <th>Pristine (%)</th>\n",
       "    </tr>\n",
       "  </thead>\n",
       "  <tbody>\n",
       "    <tr>\n",
       "      <th>0</th>\n",
       "      <td>10001</td>\n",
       "      <td>Apollo11</td>\n",
       "      <td>Soil</td>\n",
       "      <td>Unsieved</td>\n",
       "      <td>0.1258</td>\n",
       "      <td>88.36</td>\n",
       "    </tr>\n",
       "    <tr>\n",
       "      <th>1</th>\n",
       "      <td>10002</td>\n",
       "      <td>Apollo11</td>\n",
       "      <td>Soil</td>\n",
       "      <td>Unsieved</td>\n",
       "      <td>5.6290</td>\n",
       "      <td>93.73</td>\n",
       "    </tr>\n",
       "    <tr>\n",
       "      <th>2</th>\n",
       "      <td>10003</td>\n",
       "      <td>Apollo11</td>\n",
       "      <td>Basalt</td>\n",
       "      <td>Ilmenite</td>\n",
       "      <td>0.2130</td>\n",
       "      <td>65.56</td>\n",
       "    </tr>\n",
       "    <tr>\n",
       "      <th>3</th>\n",
       "      <td>10004</td>\n",
       "      <td>Apollo11</td>\n",
       "      <td>Core</td>\n",
       "      <td>Unsieved</td>\n",
       "      <td>0.0448</td>\n",
       "      <td>71.76</td>\n",
       "    </tr>\n",
       "    <tr>\n",
       "      <th>4</th>\n",
       "      <td>10005</td>\n",
       "      <td>Apollo11</td>\n",
       "      <td>Core</td>\n",
       "      <td>Unsieved</td>\n",
       "      <td>0.0534</td>\n",
       "      <td>40.31</td>\n",
       "    </tr>\n",
       "  </tbody>\n",
       "</table>\n",
       "</div>"
      ]
     },
     "execution_count": 276,
     "metadata": {},
     "output_type": "execute_result"
    }
   ],
   "execution_count": 276
  },
  {
   "cell_type": "code",
   "metadata": {
    "gather": {
     "logged": 1718683929399
    },
    "jupyter": {
     "outputs_hidden": false,
     "source_hidden": false
    },
    "nteract": {
     "transient": {
      "deleting": false
     }
    },
    "ExecuteTime": {
     "end_time": "2024-12-30T06:16:50.120635Z",
     "start_time": "2024-12-30T06:16:50.114964Z"
    }
   },
   "source": [
    "# rock_sample 데이터프레임에 암석샘플의 남은 양을 나타내는 'Remaining (kg)' 컬럼추가\n",
    "rock_sample['Remaining (kg)'] = rock_sample['Pristine (%)'] / 100 * rock_sample['Weight (kg)']\n",
    "rock_sample"
   ],
   "outputs": [
    {
     "data": {
      "text/plain": [
       "         ID   Mission     Type   Subtype  Weight (kg)  Pristine (%)  \\\n",
       "0     10001  Apollo11     Soil  Unsieved      0.12580         88.36   \n",
       "1     10002  Apollo11     Soil  Unsieved      5.62900         93.73   \n",
       "2     10003  Apollo11   Basalt  Ilmenite      0.21300         65.56   \n",
       "3     10004  Apollo11     Core  Unsieved      0.04480         71.76   \n",
       "4     10005  Apollo11     Core  Unsieved      0.05340         40.31   \n",
       "...     ...       ...      ...       ...          ...           ...   \n",
       "2224  79528  Apollo17  Breccia  Regolith      0.00238        100.00   \n",
       "2225  79529  Apollo17  Breccia  Regolith      0.00184        100.00   \n",
       "2226  79535  Apollo17  Breccia  Regolith      0.00169        100.00   \n",
       "2227  79536  Apollo17  Breccia  Regolith      0.00166        100.00   \n",
       "2228  79537  Apollo17  Breccia  Regolith      0.00105        100.00   \n",
       "\n",
       "      Remaining (kg)  \n",
       "0           0.111157  \n",
       "1           5.276062  \n",
       "2           0.139643  \n",
       "3           0.032148  \n",
       "4           0.021526  \n",
       "...              ...  \n",
       "2224        0.002380  \n",
       "2225        0.001840  \n",
       "2226        0.001690  \n",
       "2227        0.001660  \n",
       "2228        0.001050  \n",
       "\n",
       "[2229 rows x 7 columns]"
      ],
      "text/html": [
       "<div>\n",
       "<style scoped>\n",
       "    .dataframe tbody tr th:only-of-type {\n",
       "        vertical-align: middle;\n",
       "    }\n",
       "\n",
       "    .dataframe tbody tr th {\n",
       "        vertical-align: top;\n",
       "    }\n",
       "\n",
       "    .dataframe thead th {\n",
       "        text-align: right;\n",
       "    }\n",
       "</style>\n",
       "<table border=\"1\" class=\"dataframe\">\n",
       "  <thead>\n",
       "    <tr style=\"text-align: right;\">\n",
       "      <th></th>\n",
       "      <th>ID</th>\n",
       "      <th>Mission</th>\n",
       "      <th>Type</th>\n",
       "      <th>Subtype</th>\n",
       "      <th>Weight (kg)</th>\n",
       "      <th>Pristine (%)</th>\n",
       "      <th>Remaining (kg)</th>\n",
       "    </tr>\n",
       "  </thead>\n",
       "  <tbody>\n",
       "    <tr>\n",
       "      <th>0</th>\n",
       "      <td>10001</td>\n",
       "      <td>Apollo11</td>\n",
       "      <td>Soil</td>\n",
       "      <td>Unsieved</td>\n",
       "      <td>0.12580</td>\n",
       "      <td>88.36</td>\n",
       "      <td>0.111157</td>\n",
       "    </tr>\n",
       "    <tr>\n",
       "      <th>1</th>\n",
       "      <td>10002</td>\n",
       "      <td>Apollo11</td>\n",
       "      <td>Soil</td>\n",
       "      <td>Unsieved</td>\n",
       "      <td>5.62900</td>\n",
       "      <td>93.73</td>\n",
       "      <td>5.276062</td>\n",
       "    </tr>\n",
       "    <tr>\n",
       "      <th>2</th>\n",
       "      <td>10003</td>\n",
       "      <td>Apollo11</td>\n",
       "      <td>Basalt</td>\n",
       "      <td>Ilmenite</td>\n",
       "      <td>0.21300</td>\n",
       "      <td>65.56</td>\n",
       "      <td>0.139643</td>\n",
       "    </tr>\n",
       "    <tr>\n",
       "      <th>3</th>\n",
       "      <td>10004</td>\n",
       "      <td>Apollo11</td>\n",
       "      <td>Core</td>\n",
       "      <td>Unsieved</td>\n",
       "      <td>0.04480</td>\n",
       "      <td>71.76</td>\n",
       "      <td>0.032148</td>\n",
       "    </tr>\n",
       "    <tr>\n",
       "      <th>4</th>\n",
       "      <td>10005</td>\n",
       "      <td>Apollo11</td>\n",
       "      <td>Core</td>\n",
       "      <td>Unsieved</td>\n",
       "      <td>0.05340</td>\n",
       "      <td>40.31</td>\n",
       "      <td>0.021526</td>\n",
       "    </tr>\n",
       "    <tr>\n",
       "      <th>...</th>\n",
       "      <td>...</td>\n",
       "      <td>...</td>\n",
       "      <td>...</td>\n",
       "      <td>...</td>\n",
       "      <td>...</td>\n",
       "      <td>...</td>\n",
       "      <td>...</td>\n",
       "    </tr>\n",
       "    <tr>\n",
       "      <th>2224</th>\n",
       "      <td>79528</td>\n",
       "      <td>Apollo17</td>\n",
       "      <td>Breccia</td>\n",
       "      <td>Regolith</td>\n",
       "      <td>0.00238</td>\n",
       "      <td>100.00</td>\n",
       "      <td>0.002380</td>\n",
       "    </tr>\n",
       "    <tr>\n",
       "      <th>2225</th>\n",
       "      <td>79529</td>\n",
       "      <td>Apollo17</td>\n",
       "      <td>Breccia</td>\n",
       "      <td>Regolith</td>\n",
       "      <td>0.00184</td>\n",
       "      <td>100.00</td>\n",
       "      <td>0.001840</td>\n",
       "    </tr>\n",
       "    <tr>\n",
       "      <th>2226</th>\n",
       "      <td>79535</td>\n",
       "      <td>Apollo17</td>\n",
       "      <td>Breccia</td>\n",
       "      <td>Regolith</td>\n",
       "      <td>0.00169</td>\n",
       "      <td>100.00</td>\n",
       "      <td>0.001690</td>\n",
       "    </tr>\n",
       "    <tr>\n",
       "      <th>2227</th>\n",
       "      <td>79536</td>\n",
       "      <td>Apollo17</td>\n",
       "      <td>Breccia</td>\n",
       "      <td>Regolith</td>\n",
       "      <td>0.00166</td>\n",
       "      <td>100.00</td>\n",
       "      <td>0.001660</td>\n",
       "    </tr>\n",
       "    <tr>\n",
       "      <th>2228</th>\n",
       "      <td>79537</td>\n",
       "      <td>Apollo17</td>\n",
       "      <td>Breccia</td>\n",
       "      <td>Regolith</td>\n",
       "      <td>0.00105</td>\n",
       "      <td>100.00</td>\n",
       "      <td>0.001050</td>\n",
       "    </tr>\n",
       "  </tbody>\n",
       "</table>\n",
       "<p>2229 rows × 7 columns</p>\n",
       "</div>"
      ]
     },
     "execution_count": 277,
     "metadata": {},
     "output_type": "execute_result"
    }
   ],
   "execution_count": 277
  },
  {
   "cell_type": "code",
   "metadata": {
    "gather": {
     "logged": 1718683929880
    },
    "jupyter": {
     "outputs_hidden": false,
     "source_hidden": false
    },
    "nteract": {
     "transient": {
      "deleting": false
     }
    },
    "ExecuteTime": {
     "end_time": "2024-12-30T06:16:50.528412Z",
     "start_time": "2024-12-30T06:16:50.521598Z"
    }
   },
   "source": [
    "# rock_sample 수치데이터 요약 통계 확인\n",
    "rock_sample.describe()"
   ],
   "outputs": [
    {
     "data": {
      "text/plain": [
       "                 ID  Weight (kg)  Pristine (%)  Remaining (kg)\n",
       "count   2229.000000  2229.000000   2229.000000     2229.000000\n",
       "mean   52058.432032     0.168253     84.512764        0.138103\n",
       "std    26207.651471     0.637286     22.057299        0.525954\n",
       "min    10001.000000     0.000000      0.000000        0.000000\n",
       "25%    15437.000000     0.003000     80.010000        0.002432\n",
       "50%    65527.000000     0.010200     92.300000        0.008530\n",
       "75%    72142.000000     0.093490     98.140000        0.078240\n",
       "max    79537.000000    11.729000    180.000000       11.169527"
      ],
      "text/html": [
       "<div>\n",
       "<style scoped>\n",
       "    .dataframe tbody tr th:only-of-type {\n",
       "        vertical-align: middle;\n",
       "    }\n",
       "\n",
       "    .dataframe tbody tr th {\n",
       "        vertical-align: top;\n",
       "    }\n",
       "\n",
       "    .dataframe thead th {\n",
       "        text-align: right;\n",
       "    }\n",
       "</style>\n",
       "<table border=\"1\" class=\"dataframe\">\n",
       "  <thead>\n",
       "    <tr style=\"text-align: right;\">\n",
       "      <th></th>\n",
       "      <th>ID</th>\n",
       "      <th>Weight (kg)</th>\n",
       "      <th>Pristine (%)</th>\n",
       "      <th>Remaining (kg)</th>\n",
       "    </tr>\n",
       "  </thead>\n",
       "  <tbody>\n",
       "    <tr>\n",
       "      <th>count</th>\n",
       "      <td>2229.000000</td>\n",
       "      <td>2229.000000</td>\n",
       "      <td>2229.000000</td>\n",
       "      <td>2229.000000</td>\n",
       "    </tr>\n",
       "    <tr>\n",
       "      <th>mean</th>\n",
       "      <td>52058.432032</td>\n",
       "      <td>0.168253</td>\n",
       "      <td>84.512764</td>\n",
       "      <td>0.138103</td>\n",
       "    </tr>\n",
       "    <tr>\n",
       "      <th>std</th>\n",
       "      <td>26207.651471</td>\n",
       "      <td>0.637286</td>\n",
       "      <td>22.057299</td>\n",
       "      <td>0.525954</td>\n",
       "    </tr>\n",
       "    <tr>\n",
       "      <th>min</th>\n",
       "      <td>10001.000000</td>\n",
       "      <td>0.000000</td>\n",
       "      <td>0.000000</td>\n",
       "      <td>0.000000</td>\n",
       "    </tr>\n",
       "    <tr>\n",
       "      <th>25%</th>\n",
       "      <td>15437.000000</td>\n",
       "      <td>0.003000</td>\n",
       "      <td>80.010000</td>\n",
       "      <td>0.002432</td>\n",
       "    </tr>\n",
       "    <tr>\n",
       "      <th>50%</th>\n",
       "      <td>65527.000000</td>\n",
       "      <td>0.010200</td>\n",
       "      <td>92.300000</td>\n",
       "      <td>0.008530</td>\n",
       "    </tr>\n",
       "    <tr>\n",
       "      <th>75%</th>\n",
       "      <td>72142.000000</td>\n",
       "      <td>0.093490</td>\n",
       "      <td>98.140000</td>\n",
       "      <td>0.078240</td>\n",
       "    </tr>\n",
       "    <tr>\n",
       "      <th>max</th>\n",
       "      <td>79537.000000</td>\n",
       "      <td>11.729000</td>\n",
       "      <td>180.000000</td>\n",
       "      <td>11.169527</td>\n",
       "    </tr>\n",
       "  </tbody>\n",
       "</table>\n",
       "</div>"
      ]
     },
     "execution_count": 278,
     "metadata": {},
     "output_type": "execute_result"
    }
   ],
   "execution_count": 278
  },
  {
   "cell_type": "code",
   "metadata": {
    "gather": {
     "logged": 1718683930026
    },
    "jupyter": {
     "outputs_hidden": false,
     "source_hidden": false
    },
    "nteract": {
     "transient": {
      "deleting": false
     }
    },
    "ExecuteTime": {
     "end_time": "2024-12-30T06:16:51.070921Z",
     "start_time": "2024-12-30T06:16:51.067936Z"
    }
   },
   "source": [
    "# rock_sample['Weight (kg)']의 모든 값이 0.16kg 이상 인지 확인\n",
    "rock_sample['Weight (kg)'] >= 0.16"
   ],
   "outputs": [
    {
     "data": {
      "text/plain": [
       "0       False\n",
       "1        True\n",
       "2        True\n",
       "3       False\n",
       "4       False\n",
       "        ...  \n",
       "2224    False\n",
       "2225    False\n",
       "2226    False\n",
       "2227    False\n",
       "2228    False\n",
       "Name: Weight (kg), Length: 2229, dtype: bool"
      ]
     },
     "execution_count": 279,
     "metadata": {},
     "output_type": "execute_result"
    }
   ],
   "execution_count": 279
  },
  {
   "cell_type": "code",
   "metadata": {
    "gather": {
     "logged": 1718683930391
    },
    "jupyter": {
     "outputs_hidden": false,
     "source_hidden": false
    },
    "nteract": {
     "transient": {
      "deleting": false
     }
    },
    "ExecuteTime": {
     "end_time": "2024-12-30T06:16:53.348662Z",
     "start_time": "2024-12-30T06:16:53.342338Z"
    }
   },
   "source": [
    "# rock_sample['Weight (kg)']이 0.16kg 이상 이면서 rock_sample['Pristine (%)']이 50 이하인지 확인\n",
    "rock_sample[(rock_sample['Weight (kg)'] >= 0.16) & (rock_sample['Pristine (%)'] <= 50)]"
   ],
   "outputs": [
    {
     "data": {
      "text/plain": [
       "         ID   Mission     Type      Subtype  Weight (kg)  Pristine (%)  \\\n",
       "11    10017  Apollo11   Basalt     Ilmenite       0.9730         43.71   \n",
       "14    10020  Apollo11   Basalt     Ilmenite       0.4250         27.88   \n",
       "15    10021  Apollo11  Breccia     Regolith       0.2500         30.21   \n",
       "29    10045  Apollo11   Basalt      Olivine       0.1850         12.13   \n",
       "37    10057  Apollo11   Basalt     Ilmenite       0.9190         35.15   \n",
       "39    10059  Apollo11  Breccia     Regolith       0.1880         36.94   \n",
       "52    10072  Apollo11   Basalt     Ilmenite       0.4470         15.22   \n",
       "59    10086  Apollo11     Soil     Unsieved       0.8230          0.01   \n",
       "68    12002  Apollo12   Basalt      Olivine       1.5300         49.04   \n",
       "69    12003  Apollo12     Soil     Unsieved       0.3000         28.52   \n",
       "72    12006  Apollo12   Basalt      Olivine       0.2064          0.53   \n",
       "94    12028  Apollo12     Core     Unsieved       0.1896         27.56   \n",
       "113   12047  Apollo12   Basalt     Ilmenite       0.1930         33.70   \n",
       "118   12053  Apollo12   Basalt    Pigeonite       0.8790         46.43   \n",
       "120   12055  Apollo12   Basalt    Pigeonite       0.9120         26.00   \n",
       "353   15012  Apollo15     Soil     Unsieved       0.3122          5.77   \n",
       "354   15013  Apollo15     Soil     Unsieved       0.2962          8.80   \n",
       "426   15205  Apollo15  Breccia     Regolith       0.3373         24.70   \n",
       "534   15405  Apollo15  Breccia   ImpactMelt       0.5131         35.91   \n",
       "570   15475  Apollo15   Basalt    Pigeonite       0.4068         49.60   \n",
       "575   15498  Apollo15  Breccia     Regolith       2.3400         34.11   \n",
       "607   15555  Apollo15   Basalt      Olivine       9.6140         46.61   \n",
       "718   60016  Apollo16  Breccia   Fragmental       4.3070         49.57   \n",
       "722   60025  Apollo16  Breccia  Anorthosite       1.8360         43.61   \n",
       "1221  66075  Apollo16  Breccia   Fragmental       0.3471         32.97   \n",
       "1645  71566  Apollo17   Basalt     Ilmenite       0.4144         45.06   \n",
       "2183  79155  Apollo17   Basalt     Ilmenite       0.3188         25.97   \n",
       "\n",
       "      Remaining (kg)  \n",
       "11          0.425298  \n",
       "14          0.118490  \n",
       "15          0.075525  \n",
       "29          0.022441  \n",
       "37          0.323028  \n",
       "39          0.069447  \n",
       "52          0.068033  \n",
       "59          0.000082  \n",
       "68          0.750312  \n",
       "69          0.085560  \n",
       "72          0.001094  \n",
       "94          0.052254  \n",
       "113         0.065041  \n",
       "118         0.408120  \n",
       "120         0.237120  \n",
       "353         0.018014  \n",
       "354         0.026066  \n",
       "426         0.083313  \n",
       "534         0.184254  \n",
       "570         0.201773  \n",
       "575         0.798174  \n",
       "607         4.481085  \n",
       "718         2.134980  \n",
       "722         0.800680  \n",
       "1221        0.114439  \n",
       "1645        0.186729  \n",
       "2183        0.082792  "
      ],
      "text/html": [
       "<div>\n",
       "<style scoped>\n",
       "    .dataframe tbody tr th:only-of-type {\n",
       "        vertical-align: middle;\n",
       "    }\n",
       "\n",
       "    .dataframe tbody tr th {\n",
       "        vertical-align: top;\n",
       "    }\n",
       "\n",
       "    .dataframe thead th {\n",
       "        text-align: right;\n",
       "    }\n",
       "</style>\n",
       "<table border=\"1\" class=\"dataframe\">\n",
       "  <thead>\n",
       "    <tr style=\"text-align: right;\">\n",
       "      <th></th>\n",
       "      <th>ID</th>\n",
       "      <th>Mission</th>\n",
       "      <th>Type</th>\n",
       "      <th>Subtype</th>\n",
       "      <th>Weight (kg)</th>\n",
       "      <th>Pristine (%)</th>\n",
       "      <th>Remaining (kg)</th>\n",
       "    </tr>\n",
       "  </thead>\n",
       "  <tbody>\n",
       "    <tr>\n",
       "      <th>11</th>\n",
       "      <td>10017</td>\n",
       "      <td>Apollo11</td>\n",
       "      <td>Basalt</td>\n",
       "      <td>Ilmenite</td>\n",
       "      <td>0.9730</td>\n",
       "      <td>43.71</td>\n",
       "      <td>0.425298</td>\n",
       "    </tr>\n",
       "    <tr>\n",
       "      <th>14</th>\n",
       "      <td>10020</td>\n",
       "      <td>Apollo11</td>\n",
       "      <td>Basalt</td>\n",
       "      <td>Ilmenite</td>\n",
       "      <td>0.4250</td>\n",
       "      <td>27.88</td>\n",
       "      <td>0.118490</td>\n",
       "    </tr>\n",
       "    <tr>\n",
       "      <th>15</th>\n",
       "      <td>10021</td>\n",
       "      <td>Apollo11</td>\n",
       "      <td>Breccia</td>\n",
       "      <td>Regolith</td>\n",
       "      <td>0.2500</td>\n",
       "      <td>30.21</td>\n",
       "      <td>0.075525</td>\n",
       "    </tr>\n",
       "    <tr>\n",
       "      <th>29</th>\n",
       "      <td>10045</td>\n",
       "      <td>Apollo11</td>\n",
       "      <td>Basalt</td>\n",
       "      <td>Olivine</td>\n",
       "      <td>0.1850</td>\n",
       "      <td>12.13</td>\n",
       "      <td>0.022441</td>\n",
       "    </tr>\n",
       "    <tr>\n",
       "      <th>37</th>\n",
       "      <td>10057</td>\n",
       "      <td>Apollo11</td>\n",
       "      <td>Basalt</td>\n",
       "      <td>Ilmenite</td>\n",
       "      <td>0.9190</td>\n",
       "      <td>35.15</td>\n",
       "      <td>0.323028</td>\n",
       "    </tr>\n",
       "    <tr>\n",
       "      <th>39</th>\n",
       "      <td>10059</td>\n",
       "      <td>Apollo11</td>\n",
       "      <td>Breccia</td>\n",
       "      <td>Regolith</td>\n",
       "      <td>0.1880</td>\n",
       "      <td>36.94</td>\n",
       "      <td>0.069447</td>\n",
       "    </tr>\n",
       "    <tr>\n",
       "      <th>52</th>\n",
       "      <td>10072</td>\n",
       "      <td>Apollo11</td>\n",
       "      <td>Basalt</td>\n",
       "      <td>Ilmenite</td>\n",
       "      <td>0.4470</td>\n",
       "      <td>15.22</td>\n",
       "      <td>0.068033</td>\n",
       "    </tr>\n",
       "    <tr>\n",
       "      <th>59</th>\n",
       "      <td>10086</td>\n",
       "      <td>Apollo11</td>\n",
       "      <td>Soil</td>\n",
       "      <td>Unsieved</td>\n",
       "      <td>0.8230</td>\n",
       "      <td>0.01</td>\n",
       "      <td>0.000082</td>\n",
       "    </tr>\n",
       "    <tr>\n",
       "      <th>68</th>\n",
       "      <td>12002</td>\n",
       "      <td>Apollo12</td>\n",
       "      <td>Basalt</td>\n",
       "      <td>Olivine</td>\n",
       "      <td>1.5300</td>\n",
       "      <td>49.04</td>\n",
       "      <td>0.750312</td>\n",
       "    </tr>\n",
       "    <tr>\n",
       "      <th>69</th>\n",
       "      <td>12003</td>\n",
       "      <td>Apollo12</td>\n",
       "      <td>Soil</td>\n",
       "      <td>Unsieved</td>\n",
       "      <td>0.3000</td>\n",
       "      <td>28.52</td>\n",
       "      <td>0.085560</td>\n",
       "    </tr>\n",
       "    <tr>\n",
       "      <th>72</th>\n",
       "      <td>12006</td>\n",
       "      <td>Apollo12</td>\n",
       "      <td>Basalt</td>\n",
       "      <td>Olivine</td>\n",
       "      <td>0.2064</td>\n",
       "      <td>0.53</td>\n",
       "      <td>0.001094</td>\n",
       "    </tr>\n",
       "    <tr>\n",
       "      <th>94</th>\n",
       "      <td>12028</td>\n",
       "      <td>Apollo12</td>\n",
       "      <td>Core</td>\n",
       "      <td>Unsieved</td>\n",
       "      <td>0.1896</td>\n",
       "      <td>27.56</td>\n",
       "      <td>0.052254</td>\n",
       "    </tr>\n",
       "    <tr>\n",
       "      <th>113</th>\n",
       "      <td>12047</td>\n",
       "      <td>Apollo12</td>\n",
       "      <td>Basalt</td>\n",
       "      <td>Ilmenite</td>\n",
       "      <td>0.1930</td>\n",
       "      <td>33.70</td>\n",
       "      <td>0.065041</td>\n",
       "    </tr>\n",
       "    <tr>\n",
       "      <th>118</th>\n",
       "      <td>12053</td>\n",
       "      <td>Apollo12</td>\n",
       "      <td>Basalt</td>\n",
       "      <td>Pigeonite</td>\n",
       "      <td>0.8790</td>\n",
       "      <td>46.43</td>\n",
       "      <td>0.408120</td>\n",
       "    </tr>\n",
       "    <tr>\n",
       "      <th>120</th>\n",
       "      <td>12055</td>\n",
       "      <td>Apollo12</td>\n",
       "      <td>Basalt</td>\n",
       "      <td>Pigeonite</td>\n",
       "      <td>0.9120</td>\n",
       "      <td>26.00</td>\n",
       "      <td>0.237120</td>\n",
       "    </tr>\n",
       "    <tr>\n",
       "      <th>353</th>\n",
       "      <td>15012</td>\n",
       "      <td>Apollo15</td>\n",
       "      <td>Soil</td>\n",
       "      <td>Unsieved</td>\n",
       "      <td>0.3122</td>\n",
       "      <td>5.77</td>\n",
       "      <td>0.018014</td>\n",
       "    </tr>\n",
       "    <tr>\n",
       "      <th>354</th>\n",
       "      <td>15013</td>\n",
       "      <td>Apollo15</td>\n",
       "      <td>Soil</td>\n",
       "      <td>Unsieved</td>\n",
       "      <td>0.2962</td>\n",
       "      <td>8.80</td>\n",
       "      <td>0.026066</td>\n",
       "    </tr>\n",
       "    <tr>\n",
       "      <th>426</th>\n",
       "      <td>15205</td>\n",
       "      <td>Apollo15</td>\n",
       "      <td>Breccia</td>\n",
       "      <td>Regolith</td>\n",
       "      <td>0.3373</td>\n",
       "      <td>24.70</td>\n",
       "      <td>0.083313</td>\n",
       "    </tr>\n",
       "    <tr>\n",
       "      <th>534</th>\n",
       "      <td>15405</td>\n",
       "      <td>Apollo15</td>\n",
       "      <td>Breccia</td>\n",
       "      <td>ImpactMelt</td>\n",
       "      <td>0.5131</td>\n",
       "      <td>35.91</td>\n",
       "      <td>0.184254</td>\n",
       "    </tr>\n",
       "    <tr>\n",
       "      <th>570</th>\n",
       "      <td>15475</td>\n",
       "      <td>Apollo15</td>\n",
       "      <td>Basalt</td>\n",
       "      <td>Pigeonite</td>\n",
       "      <td>0.4068</td>\n",
       "      <td>49.60</td>\n",
       "      <td>0.201773</td>\n",
       "    </tr>\n",
       "    <tr>\n",
       "      <th>575</th>\n",
       "      <td>15498</td>\n",
       "      <td>Apollo15</td>\n",
       "      <td>Breccia</td>\n",
       "      <td>Regolith</td>\n",
       "      <td>2.3400</td>\n",
       "      <td>34.11</td>\n",
       "      <td>0.798174</td>\n",
       "    </tr>\n",
       "    <tr>\n",
       "      <th>607</th>\n",
       "      <td>15555</td>\n",
       "      <td>Apollo15</td>\n",
       "      <td>Basalt</td>\n",
       "      <td>Olivine</td>\n",
       "      <td>9.6140</td>\n",
       "      <td>46.61</td>\n",
       "      <td>4.481085</td>\n",
       "    </tr>\n",
       "    <tr>\n",
       "      <th>718</th>\n",
       "      <td>60016</td>\n",
       "      <td>Apollo16</td>\n",
       "      <td>Breccia</td>\n",
       "      <td>Fragmental</td>\n",
       "      <td>4.3070</td>\n",
       "      <td>49.57</td>\n",
       "      <td>2.134980</td>\n",
       "    </tr>\n",
       "    <tr>\n",
       "      <th>722</th>\n",
       "      <td>60025</td>\n",
       "      <td>Apollo16</td>\n",
       "      <td>Breccia</td>\n",
       "      <td>Anorthosite</td>\n",
       "      <td>1.8360</td>\n",
       "      <td>43.61</td>\n",
       "      <td>0.800680</td>\n",
       "    </tr>\n",
       "    <tr>\n",
       "      <th>1221</th>\n",
       "      <td>66075</td>\n",
       "      <td>Apollo16</td>\n",
       "      <td>Breccia</td>\n",
       "      <td>Fragmental</td>\n",
       "      <td>0.3471</td>\n",
       "      <td>32.97</td>\n",
       "      <td>0.114439</td>\n",
       "    </tr>\n",
       "    <tr>\n",
       "      <th>1645</th>\n",
       "      <td>71566</td>\n",
       "      <td>Apollo17</td>\n",
       "      <td>Basalt</td>\n",
       "      <td>Ilmenite</td>\n",
       "      <td>0.4144</td>\n",
       "      <td>45.06</td>\n",
       "      <td>0.186729</td>\n",
       "    </tr>\n",
       "    <tr>\n",
       "      <th>2183</th>\n",
       "      <td>79155</td>\n",
       "      <td>Apollo17</td>\n",
       "      <td>Basalt</td>\n",
       "      <td>Ilmenite</td>\n",
       "      <td>0.3188</td>\n",
       "      <td>25.97</td>\n",
       "      <td>0.082792</td>\n",
       "    </tr>\n",
       "  </tbody>\n",
       "</table>\n",
       "</div>"
      ]
     },
     "execution_count": 280,
     "metadata": {},
     "output_type": "execute_result"
    }
   ],
   "execution_count": 280
  },
  {
   "cell_type": "code",
   "metadata": {
    "gather": {
     "logged": 1718683930536
    },
    "jupyter": {
     "outputs_hidden": false,
     "source_hidden": false
    },
    "nteract": {
     "transient": {
      "deleting": false
     }
    },
    "ExecuteTime": {
     "end_time": "2024-12-30T06:16:53.791807Z",
     "start_time": "2024-12-30T06:16:53.787136Z"
    }
   },
   "source": [
    "#위의 두 조건을 모두 만족하는 행만 추출해서 low_samples라는 데이터 프레임을 만든다.\n",
    "low_samples = rock_sample[(rock_sample['Weight (kg)'] >= 0.16) & (rock_sample['Pristine (%)'] <= 50)]\n",
    "low_samples.tail()\n"
   ],
   "outputs": [
    {
     "data": {
      "text/plain": [
       "         ID   Mission     Type      Subtype  Weight (kg)  Pristine (%)  \\\n",
       "718   60016  Apollo16  Breccia   Fragmental       4.3070         49.57   \n",
       "722   60025  Apollo16  Breccia  Anorthosite       1.8360         43.61   \n",
       "1221  66075  Apollo16  Breccia   Fragmental       0.3471         32.97   \n",
       "1645  71566  Apollo17   Basalt     Ilmenite       0.4144         45.06   \n",
       "2183  79155  Apollo17   Basalt     Ilmenite       0.3188         25.97   \n",
       "\n",
       "      Remaining (kg)  \n",
       "718         2.134980  \n",
       "722         0.800680  \n",
       "1221        0.114439  \n",
       "1645        0.186729  \n",
       "2183        0.082792  "
      ],
      "text/html": [
       "<div>\n",
       "<style scoped>\n",
       "    .dataframe tbody tr th:only-of-type {\n",
       "        vertical-align: middle;\n",
       "    }\n",
       "\n",
       "    .dataframe tbody tr th {\n",
       "        vertical-align: top;\n",
       "    }\n",
       "\n",
       "    .dataframe thead th {\n",
       "        text-align: right;\n",
       "    }\n",
       "</style>\n",
       "<table border=\"1\" class=\"dataframe\">\n",
       "  <thead>\n",
       "    <tr style=\"text-align: right;\">\n",
       "      <th></th>\n",
       "      <th>ID</th>\n",
       "      <th>Mission</th>\n",
       "      <th>Type</th>\n",
       "      <th>Subtype</th>\n",
       "      <th>Weight (kg)</th>\n",
       "      <th>Pristine (%)</th>\n",
       "      <th>Remaining (kg)</th>\n",
       "    </tr>\n",
       "  </thead>\n",
       "  <tbody>\n",
       "    <tr>\n",
       "      <th>718</th>\n",
       "      <td>60016</td>\n",
       "      <td>Apollo16</td>\n",
       "      <td>Breccia</td>\n",
       "      <td>Fragmental</td>\n",
       "      <td>4.3070</td>\n",
       "      <td>49.57</td>\n",
       "      <td>2.134980</td>\n",
       "    </tr>\n",
       "    <tr>\n",
       "      <th>722</th>\n",
       "      <td>60025</td>\n",
       "      <td>Apollo16</td>\n",
       "      <td>Breccia</td>\n",
       "      <td>Anorthosite</td>\n",
       "      <td>1.8360</td>\n",
       "      <td>43.61</td>\n",
       "      <td>0.800680</td>\n",
       "    </tr>\n",
       "    <tr>\n",
       "      <th>1221</th>\n",
       "      <td>66075</td>\n",
       "      <td>Apollo16</td>\n",
       "      <td>Breccia</td>\n",
       "      <td>Fragmental</td>\n",
       "      <td>0.3471</td>\n",
       "      <td>32.97</td>\n",
       "      <td>0.114439</td>\n",
       "    </tr>\n",
       "    <tr>\n",
       "      <th>1645</th>\n",
       "      <td>71566</td>\n",
       "      <td>Apollo17</td>\n",
       "      <td>Basalt</td>\n",
       "      <td>Ilmenite</td>\n",
       "      <td>0.4144</td>\n",
       "      <td>45.06</td>\n",
       "      <td>0.186729</td>\n",
       "    </tr>\n",
       "    <tr>\n",
       "      <th>2183</th>\n",
       "      <td>79155</td>\n",
       "      <td>Apollo17</td>\n",
       "      <td>Basalt</td>\n",
       "      <td>Ilmenite</td>\n",
       "      <td>0.3188</td>\n",
       "      <td>25.97</td>\n",
       "      <td>0.082792</td>\n",
       "    </tr>\n",
       "  </tbody>\n",
       "</table>\n",
       "</div>"
      ]
     },
     "execution_count": 281,
     "metadata": {},
     "output_type": "execute_result"
    }
   ],
   "execution_count": 281
  },
  {
   "cell_type": "code",
   "metadata": {
    "gather": {
     "logged": 1718683930723
    },
    "jupyter": {
     "outputs_hidden": false,
     "source_hidden": false
    },
    "nteract": {
     "transient": {
      "deleting": false
     }
    },
    "ExecuteTime": {
     "end_time": "2024-12-30T06:16:54.620475Z",
     "start_time": "2024-12-30T06:16:54.616365Z"
    }
   },
   "source": [
    "low_samples.info()"
   ],
   "outputs": [
    {
     "name": "stdout",
     "output_type": "stream",
     "text": [
      "<class 'pandas.core.frame.DataFrame'>\n",
      "Index: 27 entries, 11 to 2183\n",
      "Data columns (total 7 columns):\n",
      " #   Column          Non-Null Count  Dtype  \n",
      "---  ------          --------------  -----  \n",
      " 0   ID              27 non-null     int64  \n",
      " 1   Mission         27 non-null     object \n",
      " 2   Type            27 non-null     object \n",
      " 3   Subtype         27 non-null     object \n",
      " 4   Weight (kg)     27 non-null     float64\n",
      " 5   Pristine (%)    27 non-null     float64\n",
      " 6   Remaining (kg)  27 non-null     float64\n",
      "dtypes: float64(3), int64(1), object(3)\n",
      "memory usage: 1.7+ KB\n"
     ]
    }
   ],
   "execution_count": 282
  },
  {
   "metadata": {
    "ExecuteTime": {
     "end_time": "2024-12-30T06:16:56.930691Z",
     "start_time": "2024-12-30T06:16:56.927998Z"
    }
   },
   "cell_type": "code",
   "source": [
    "low_samples.Type.unique()\n",
    "rock_sample.Type.unique()"
   ],
   "outputs": [
    {
     "data": {
      "text/plain": [
       "array(['Soil', 'Basalt', 'Core', 'Breccia', 'Special', 'Crustal'],\n",
       "      dtype=object)"
      ]
     },
     "execution_count": 283,
     "metadata": {},
     "output_type": "execute_result"
    }
   ],
   "execution_count": 283
  },
  {
   "cell_type": "code",
   "metadata": {
    "gather": {
     "logged": 1718683930863
    },
    "jupyter": {
     "outputs_hidden": false,
     "source_hidden": false
    },
    "nteract": {
     "transient": {
      "deleting": false
     }
    },
    "ExecuteTime": {
     "end_time": "2024-12-30T06:16:58.047304Z",
     "start_time": "2024-12-30T06:16:58.044189Z"
    }
   },
   "source": [
    "# low_samples 데이터프레임에서 암석유형('Type')별로 개수를 센다.\n",
    "low_samples.Type.value_counts()"
   ],
   "outputs": [
    {
     "data": {
      "text/plain": [
       "Type\n",
       "Basalt     14\n",
       "Breccia     8\n",
       "Soil        4\n",
       "Core        1\n",
       "Name: count, dtype: int64"
      ]
     },
     "execution_count": 284,
     "metadata": {},
     "output_type": "execute_result"
    }
   ],
   "execution_count": 284
  },
  {
   "cell_type": "code",
   "metadata": {
    "gather": {
     "logged": 1718683931015
    },
    "jupyter": {
     "outputs_hidden": false,
     "source_hidden": false
    },
    "nteract": {
     "transient": {
      "deleting": false
     }
    },
    "ExecuteTime": {
     "end_time": "2024-12-30T06:16:59.830087Z",
     "start_time": "2024-12-30T06:16:59.826976Z"
    }
   },
   "source": [
    "#low_samples['Type']의 값이 'Basalt'이거나 'Breccia' 인지 확인 -> isin(리스트)\n",
    "low_samples.Type.isin(['Basalt', 'Breccia'])"
   ],
   "outputs": [
    {
     "data": {
      "text/plain": [
       "11       True\n",
       "14       True\n",
       "15       True\n",
       "29       True\n",
       "37       True\n",
       "39       True\n",
       "52       True\n",
       "59      False\n",
       "68       True\n",
       "69      False\n",
       "72       True\n",
       "94      False\n",
       "113      True\n",
       "118      True\n",
       "120      True\n",
       "353     False\n",
       "354     False\n",
       "426      True\n",
       "534      True\n",
       "570      True\n",
       "575      True\n",
       "607      True\n",
       "718      True\n",
       "722      True\n",
       "1221     True\n",
       "1645     True\n",
       "2183     True\n",
       "Name: Type, dtype: bool"
      ]
     },
     "execution_count": 285,
     "metadata": {},
     "output_type": "execute_result"
    }
   ],
   "execution_count": 285
  },
  {
   "cell_type": "code",
   "metadata": {
    "gather": {
     "logged": 1718683931182
    },
    "jupyter": {
     "outputs_hidden": false,
     "source_hidden": false
    },
    "nteract": {
     "transient": {
      "deleting": false
     }
    },
    "ExecuteTime": {
     "end_time": "2024-12-30T06:17:01.954727Z",
     "start_time": "2024-12-30T06:17:01.949835Z"
    }
   },
   "source": [
    "# low_samples['Type'] 의 값이 'Basalt'이거나 'Breccia'인 행만 추출해서 needed_samples 데이터프레임 만들기\n",
    "needed_samples = low_samples[low_samples.Type.isin(['Basalt', 'Breccia'])]\n",
    "needed_samples.head()"
   ],
   "outputs": [
    {
     "data": {
      "text/plain": [
       "       ID   Mission     Type   Subtype  Weight (kg)  Pristine (%)  \\\n",
       "11  10017  Apollo11   Basalt  Ilmenite        0.973         43.71   \n",
       "14  10020  Apollo11   Basalt  Ilmenite        0.425         27.88   \n",
       "15  10021  Apollo11  Breccia  Regolith        0.250         30.21   \n",
       "29  10045  Apollo11   Basalt   Olivine        0.185         12.13   \n",
       "37  10057  Apollo11   Basalt  Ilmenite        0.919         35.15   \n",
       "\n",
       "    Remaining (kg)  \n",
       "11        0.425298  \n",
       "14        0.118490  \n",
       "15        0.075525  \n",
       "29        0.022441  \n",
       "37        0.323028  "
      ],
      "text/html": [
       "<div>\n",
       "<style scoped>\n",
       "    .dataframe tbody tr th:only-of-type {\n",
       "        vertical-align: middle;\n",
       "    }\n",
       "\n",
       "    .dataframe tbody tr th {\n",
       "        vertical-align: top;\n",
       "    }\n",
       "\n",
       "    .dataframe thead th {\n",
       "        text-align: right;\n",
       "    }\n",
       "</style>\n",
       "<table border=\"1\" class=\"dataframe\">\n",
       "  <thead>\n",
       "    <tr style=\"text-align: right;\">\n",
       "      <th></th>\n",
       "      <th>ID</th>\n",
       "      <th>Mission</th>\n",
       "      <th>Type</th>\n",
       "      <th>Subtype</th>\n",
       "      <th>Weight (kg)</th>\n",
       "      <th>Pristine (%)</th>\n",
       "      <th>Remaining (kg)</th>\n",
       "    </tr>\n",
       "  </thead>\n",
       "  <tbody>\n",
       "    <tr>\n",
       "      <th>11</th>\n",
       "      <td>10017</td>\n",
       "      <td>Apollo11</td>\n",
       "      <td>Basalt</td>\n",
       "      <td>Ilmenite</td>\n",
       "      <td>0.973</td>\n",
       "      <td>43.71</td>\n",
       "      <td>0.425298</td>\n",
       "    </tr>\n",
       "    <tr>\n",
       "      <th>14</th>\n",
       "      <td>10020</td>\n",
       "      <td>Apollo11</td>\n",
       "      <td>Basalt</td>\n",
       "      <td>Ilmenite</td>\n",
       "      <td>0.425</td>\n",
       "      <td>27.88</td>\n",
       "      <td>0.118490</td>\n",
       "    </tr>\n",
       "    <tr>\n",
       "      <th>15</th>\n",
       "      <td>10021</td>\n",
       "      <td>Apollo11</td>\n",
       "      <td>Breccia</td>\n",
       "      <td>Regolith</td>\n",
       "      <td>0.250</td>\n",
       "      <td>30.21</td>\n",
       "      <td>0.075525</td>\n",
       "    </tr>\n",
       "    <tr>\n",
       "      <th>29</th>\n",
       "      <td>10045</td>\n",
       "      <td>Apollo11</td>\n",
       "      <td>Basalt</td>\n",
       "      <td>Olivine</td>\n",
       "      <td>0.185</td>\n",
       "      <td>12.13</td>\n",
       "      <td>0.022441</td>\n",
       "    </tr>\n",
       "    <tr>\n",
       "      <th>37</th>\n",
       "      <td>10057</td>\n",
       "      <td>Apollo11</td>\n",
       "      <td>Basalt</td>\n",
       "      <td>Ilmenite</td>\n",
       "      <td>0.919</td>\n",
       "      <td>35.15</td>\n",
       "      <td>0.323028</td>\n",
       "    </tr>\n",
       "  </tbody>\n",
       "</table>\n",
       "</div>"
      ]
     },
     "execution_count": 286,
     "metadata": {},
     "output_type": "execute_result"
    }
   ],
   "execution_count": 286
  },
  {
   "cell_type": "code",
   "metadata": {
    "gather": {
     "logged": 1718683931320
    },
    "jupyter": {
     "outputs_hidden": false,
     "source_hidden": false
    },
    "nteract": {
     "transient": {
      "deleting": false
     }
    },
    "ExecuteTime": {
     "end_time": "2024-12-30T06:17:02.329437Z",
     "start_time": "2024-12-30T06:17:02.326039Z"
    }
   },
   "source": [
    "# needed_samples 정보확인\n",
    "needed_samples.info()"
   ],
   "outputs": [
    {
     "name": "stdout",
     "output_type": "stream",
     "text": [
      "<class 'pandas.core.frame.DataFrame'>\n",
      "Index: 22 entries, 11 to 2183\n",
      "Data columns (total 7 columns):\n",
      " #   Column          Non-Null Count  Dtype  \n",
      "---  ------          --------------  -----  \n",
      " 0   ID              22 non-null     int64  \n",
      " 1   Mission         22 non-null     object \n",
      " 2   Type            22 non-null     object \n",
      " 3   Subtype         22 non-null     object \n",
      " 4   Weight (kg)     22 non-null     float64\n",
      " 5   Pristine (%)    22 non-null     float64\n",
      " 6   Remaining (kg)  22 non-null     float64\n",
      "dtypes: float64(3), int64(1), object(3)\n",
      "memory usage: 1.4+ KB\n"
     ]
    }
   ],
   "execution_count": 287
  },
  {
   "cell_type": "code",
   "metadata": {
    "gather": {
     "logged": 1718683931459
    },
    "jupyter": {
     "outputs_hidden": false,
     "source_hidden": false
    },
    "nteract": {
     "transient": {
      "deleting": false
     }
    },
    "ExecuteTime": {
     "end_time": "2024-12-30T06:17:02.761471Z",
     "start_time": "2024-12-30T06:17:02.758473Z"
    }
   },
   "source": [
    "# needed_samples 데이터프레임에서 'Type'으로 groupby해서 암석 샘플의 총중량의 합을 구한다\n",
    "needed_samples.groupby('Type')['Weight (kg)'].sum()\n"
   ],
   "outputs": [
    {
     "data": {
      "text/plain": [
       "Type\n",
       "Basalt     17.4234\n",
       "Breccia    10.1185\n",
       "Name: Weight (kg), dtype: float64"
      ]
     },
     "execution_count": 288,
     "metadata": {},
     "output_type": "execute_result"
    }
   ],
   "execution_count": 288
  },
  {
   "cell_type": "code",
   "metadata": {
    "gather": {
     "logged": 1718683931606
    },
    "jupyter": {
     "outputs_hidden": false,
     "source_hidden": false
    },
    "nteract": {
     "transient": {
      "deleting": false
     }
    },
    "ExecuteTime": {
     "end_time": "2024-12-30T06:17:05.556209Z",
     "start_time": "2024-12-30T06:17:05.552851Z"
    }
   },
   "source": [
    "# rock_sample 데이터프레임에서 'Type'으로 groupby 해서 암석 샘플의 중량의 합을 구한다. \n",
    "#           -> 아폴로 임무에서 처음부터 수집이 안된 암석을 구한다.\n",
    "rock_sample.groupby('Type')['Weight (kg)'].sum()\n"
   ],
   "outputs": [
    {
     "data": {
      "text/plain": [
       "Type\n",
       "Basalt      93.14077\n",
       "Breccia    168.88075\n",
       "Core        19.93587\n",
       "Crustal      4.74469\n",
       "Soil        87.58981\n",
       "Special      0.74410\n",
       "Name: Weight (kg), dtype: float64"
      ]
     },
     "execution_count": 289,
     "metadata": {},
     "output_type": "execute_result"
    }
   ],
   "execution_count": 289
  },
  {
   "cell_type": "code",
   "metadata": {
    "gather": {
     "logged": 1718683931765
    },
    "jupyter": {
     "outputs_hidden": false,
     "source_hidden": false
    },
    "nteract": {
     "transient": {
      "deleting": false
     }
    },
    "ExecuteTime": {
     "end_time": "2024-12-30T06:17:05.979458Z",
     "start_time": "2024-12-30T06:17:05.976523Z"
    }
   },
   "source": "rock_sample['Type'] == 'Crustal'",
   "outputs": [
    {
     "data": {
      "text/plain": [
       "0       False\n",
       "1       False\n",
       "2       False\n",
       "3       False\n",
       "4       False\n",
       "        ...  \n",
       "2224    False\n",
       "2225    False\n",
       "2226    False\n",
       "2227    False\n",
       "2228    False\n",
       "Name: Type, Length: 2229, dtype: bool"
      ]
     },
     "execution_count": 290,
     "metadata": {},
     "output_type": "execute_result"
    }
   ],
   "execution_count": 290
  },
  {
   "cell_type": "code",
   "metadata": {
    "gather": {
     "logged": 1718683931927
    },
    "jupyter": {
     "outputs_hidden": false,
     "source_hidden": false
    },
    "nteract": {
     "transient": {
      "deleting": false
     }
    },
    "ExecuteTime": {
     "end_time": "2024-12-30T06:17:06.439941Z",
     "start_time": "2024-12-30T06:17:06.433291Z"
    }
   },
   "source": [
    "# rock_sample에서 'Type'이 'Crustal'. 인 행만 추출한다.\n",
    "crustal_rock_samples = rock_sample[rock_sample['Type'] == 'Crustal']\n",
    "crustal_rock_samples.info()\n",
    "crustal_rock_samples.head()"
   ],
   "outputs": [
    {
     "name": "stdout",
     "output_type": "stream",
     "text": [
      "<class 'pandas.core.frame.DataFrame'>\n",
      "Index: 46 entries, 497 to 2189\n",
      "Data columns (total 7 columns):\n",
      " #   Column          Non-Null Count  Dtype  \n",
      "---  ------          --------------  -----  \n",
      " 0   ID              46 non-null     int64  \n",
      " 1   Mission         46 non-null     object \n",
      " 2   Type            46 non-null     object \n",
      " 3   Subtype         46 non-null     object \n",
      " 4   Weight (kg)     46 non-null     float64\n",
      " 5   Pristine (%)    46 non-null     float64\n",
      " 6   Remaining (kg)  46 non-null     float64\n",
      "dtypes: float64(3), int64(1), object(3)\n",
      "memory usage: 2.9+ KB\n"
     ]
    },
    {
     "data": {
      "text/plain": [
       "        ID   Mission     Type      Subtype  Weight (kg)  Pristine (%)  \\\n",
       "497  15361  Apollo15  Crustal  Cataclastic       0.0009         66.56   \n",
       "498  15362  Apollo15  Crustal  Cataclastic       0.0042         56.88   \n",
       "499  15363  Apollo15  Crustal  Cataclastic       0.0005         71.00   \n",
       "540  15415  Apollo15  Crustal  Anorthosite       0.2694         67.07   \n",
       "557  15437  Apollo15  Crustal  Anorthosite       0.0010         80.00   \n",
       "\n",
       "     Remaining (kg)  \n",
       "497        0.000599  \n",
       "498        0.002389  \n",
       "499        0.000355  \n",
       "540        0.180687  \n",
       "557        0.000800  "
      ],
      "text/html": [
       "<div>\n",
       "<style scoped>\n",
       "    .dataframe tbody tr th:only-of-type {\n",
       "        vertical-align: middle;\n",
       "    }\n",
       "\n",
       "    .dataframe tbody tr th {\n",
       "        vertical-align: top;\n",
       "    }\n",
       "\n",
       "    .dataframe thead th {\n",
       "        text-align: right;\n",
       "    }\n",
       "</style>\n",
       "<table border=\"1\" class=\"dataframe\">\n",
       "  <thead>\n",
       "    <tr style=\"text-align: right;\">\n",
       "      <th></th>\n",
       "      <th>ID</th>\n",
       "      <th>Mission</th>\n",
       "      <th>Type</th>\n",
       "      <th>Subtype</th>\n",
       "      <th>Weight (kg)</th>\n",
       "      <th>Pristine (%)</th>\n",
       "      <th>Remaining (kg)</th>\n",
       "    </tr>\n",
       "  </thead>\n",
       "  <tbody>\n",
       "    <tr>\n",
       "      <th>497</th>\n",
       "      <td>15361</td>\n",
       "      <td>Apollo15</td>\n",
       "      <td>Crustal</td>\n",
       "      <td>Cataclastic</td>\n",
       "      <td>0.0009</td>\n",
       "      <td>66.56</td>\n",
       "      <td>0.000599</td>\n",
       "    </tr>\n",
       "    <tr>\n",
       "      <th>498</th>\n",
       "      <td>15362</td>\n",
       "      <td>Apollo15</td>\n",
       "      <td>Crustal</td>\n",
       "      <td>Cataclastic</td>\n",
       "      <td>0.0042</td>\n",
       "      <td>56.88</td>\n",
       "      <td>0.002389</td>\n",
       "    </tr>\n",
       "    <tr>\n",
       "      <th>499</th>\n",
       "      <td>15363</td>\n",
       "      <td>Apollo15</td>\n",
       "      <td>Crustal</td>\n",
       "      <td>Cataclastic</td>\n",
       "      <td>0.0005</td>\n",
       "      <td>71.00</td>\n",
       "      <td>0.000355</td>\n",
       "    </tr>\n",
       "    <tr>\n",
       "      <th>540</th>\n",
       "      <td>15415</td>\n",
       "      <td>Apollo15</td>\n",
       "      <td>Crustal</td>\n",
       "      <td>Anorthosite</td>\n",
       "      <td>0.2694</td>\n",
       "      <td>67.07</td>\n",
       "      <td>0.180687</td>\n",
       "    </tr>\n",
       "    <tr>\n",
       "      <th>557</th>\n",
       "      <td>15437</td>\n",
       "      <td>Apollo15</td>\n",
       "      <td>Crustal</td>\n",
       "      <td>Anorthosite</td>\n",
       "      <td>0.0010</td>\n",
       "      <td>80.00</td>\n",
       "      <td>0.000800</td>\n",
       "    </tr>\n",
       "  </tbody>\n",
       "</table>\n",
       "</div>"
      ]
     },
     "execution_count": 291,
     "metadata": {},
     "output_type": "execute_result"
    }
   ],
   "execution_count": 291
  },
  {
   "cell_type": "code",
   "metadata": {
    "gather": {
     "logged": 1718683932081
    },
    "jupyter": {
     "outputs_hidden": false,
     "source_hidden": false
    },
    "nteract": {
     "transient": {
      "deleting": false
     }
    },
    "ExecuteTime": {
     "end_time": "2024-12-30T06:17:08.446270Z",
     "start_time": "2024-12-30T06:17:08.442409Z"
    }
   },
   "source": [
    "# needed_samples에 crustal을 추가한다.\n",
    "# merge 대신 axis=1 하면 옆으로 붙음\n",
    "needed_samples = pd.concat([needed_samples, crustal_rock_samples])\n",
    "needed_samples.info()"
   ],
   "outputs": [
    {
     "name": "stdout",
     "output_type": "stream",
     "text": [
      "<class 'pandas.core.frame.DataFrame'>\n",
      "Index: 68 entries, 11 to 2189\n",
      "Data columns (total 7 columns):\n",
      " #   Column          Non-Null Count  Dtype  \n",
      "---  ------          --------------  -----  \n",
      " 0   ID              68 non-null     int64  \n",
      " 1   Mission         68 non-null     object \n",
      " 2   Type            68 non-null     object \n",
      " 3   Subtype         68 non-null     object \n",
      " 4   Weight (kg)     68 non-null     float64\n",
      " 5   Pristine (%)    68 non-null     float64\n",
      " 6   Remaining (kg)  68 non-null     float64\n",
      "dtypes: float64(3), int64(1), object(3)\n",
      "memory usage: 4.2+ KB\n"
     ]
    }
   ],
   "execution_count": 292
  },
  {
   "cell_type": "code",
   "metadata": {
    "gather": {
     "logged": 1718683932244
    },
    "jupyter": {
     "outputs_hidden": false,
     "source_hidden": false
    },
    "nteract": {
     "transient": {
      "deleting": false
     }
    },
    "ExecuteTime": {
     "end_time": "2024-12-30T06:17:10.615670Z",
     "start_time": "2024-12-30T06:17:10.612038Z"
    }
   },
   "source": [
    "needed_samples.info()"
   ],
   "outputs": [
    {
     "name": "stdout",
     "output_type": "stream",
     "text": [
      "<class 'pandas.core.frame.DataFrame'>\n",
      "Index: 68 entries, 11 to 2189\n",
      "Data columns (total 7 columns):\n",
      " #   Column          Non-Null Count  Dtype  \n",
      "---  ------          --------------  -----  \n",
      " 0   ID              68 non-null     int64  \n",
      " 1   Mission         68 non-null     object \n",
      " 2   Type            68 non-null     object \n",
      " 3   Subtype         68 non-null     object \n",
      " 4   Weight (kg)     68 non-null     float64\n",
      " 5   Pristine (%)    68 non-null     float64\n",
      " 6   Remaining (kg)  68 non-null     float64\n",
      "dtypes: float64(3), int64(1), object(3)\n",
      "memory usage: 4.2+ KB\n"
     ]
    }
   ],
   "execution_count": 293
  },
  {
   "cell_type": "code",
   "metadata": {
    "gather": {
     "logged": 1718683955389
    },
    "jupyter": {
     "outputs_hidden": false,
     "source_hidden": false
    },
    "nteract": {
     "transient": {
      "deleting": false
     }
    },
    "ExecuteTime": {
     "end_time": "2024-12-30T06:17:13.959603Z",
     "start_time": "2024-12-30T06:17:13.956719Z"
    }
   },
   "source": [
    "needed_samples.Type.unique()"
   ],
   "outputs": [
    {
     "data": {
      "text/plain": [
       "array(['Basalt', 'Breccia', 'Crustal'], dtype=object)"
      ]
     },
     "execution_count": 294,
     "metadata": {},
     "output_type": "execute_result"
    }
   ],
   "execution_count": 294
  },
  {
   "cell_type": "code",
   "metadata": {
    "gather": {
     "logged": 1718683995393
    },
    "jupyter": {
     "outputs_hidden": false,
     "source_hidden": false
    },
    "nteract": {
     "transient": {
      "deleting": false
     }
    },
    "ExecuteTime": {
     "end_time": "2024-12-30T06:17:15.342016Z",
     "start_time": "2024-12-30T06:17:15.339455Z"
    }
   },
   "source": [
    "needed_samples['Type'].unique()"
   ],
   "outputs": [
    {
     "data": {
      "text/plain": [
       "array(['Basalt', 'Breccia', 'Crustal'], dtype=object)"
      ]
     },
     "execution_count": 295,
     "metadata": {},
     "output_type": "execute_result"
    }
   ],
   "execution_count": 295
  },
  {
   "cell_type": "markdown",
   "metadata": {
    "nteract": {
     "transient": {
      "deleting": false
     }
    }
   },
   "source": [
    "## needed samples overview 만들기"
   ]
  },
  {
   "cell_type": "code",
   "metadata": {
    "gather": {
     "logged": 1718685037125
    },
    "jupyter": {
     "outputs_hidden": false,
     "source_hidden": false
    },
    "nteract": {
     "transient": {
      "deleting": false
     }
    },
    "ExecuteTime": {
     "end_time": "2024-12-30T06:18:37.796760Z",
     "start_time": "2024-12-30T06:18:37.794309Z"
    }
   },
   "source": [
    "## 아르테미스 임무에 전달할 최종 데이터프레임 needed_samples_overview 만든다.\n",
    "needed_samples_overview = pd.DataFrame()"
   ],
   "outputs": [
    {
     "name": "stdout",
     "output_type": "stream",
     "text": [
      "<class 'pandas.core.frame.DataFrame'>\n",
      "RangeIndex: 0 entries\n",
      "Empty DataFrame\n"
     ]
    }
   ],
   "execution_count": 299
  },
  {
   "cell_type": "code",
   "metadata": {
    "gather": {
     "logged": 1718685109777
    },
    "jupyter": {
     "outputs_hidden": false,
     "source_hidden": false
    },
    "nteract": {
     "transient": {
      "deleting": false
     }
    },
    "ExecuteTime": {
     "end_time": "2024-12-30T06:19:46.257900Z",
     "start_time": "2024-12-30T06:19:46.254422Z"
    }
   },
   "source": [
    "# needed samples 데이터프레임에서 중복되지 않은 암석유형을 추출한다.\n",
    "needed_samples_overview['Type'] = needed_samples.Type.unique()\n",
    "needed_samples_overview"
   ],
   "outputs": [
    {
     "data": {
      "text/plain": [
       "      Type\n",
       "0   Basalt\n",
       "1  Breccia\n",
       "2  Crustal"
      ],
      "text/html": [
       "<div>\n",
       "<style scoped>\n",
       "    .dataframe tbody tr th:only-of-type {\n",
       "        vertical-align: middle;\n",
       "    }\n",
       "\n",
       "    .dataframe tbody tr th {\n",
       "        vertical-align: top;\n",
       "    }\n",
       "\n",
       "    .dataframe thead th {\n",
       "        text-align: right;\n",
       "    }\n",
       "</style>\n",
       "<table border=\"1\" class=\"dataframe\">\n",
       "  <thead>\n",
       "    <tr style=\"text-align: right;\">\n",
       "      <th></th>\n",
       "      <th>Type</th>\n",
       "    </tr>\n",
       "  </thead>\n",
       "  <tbody>\n",
       "    <tr>\n",
       "      <th>0</th>\n",
       "      <td>Basalt</td>\n",
       "    </tr>\n",
       "    <tr>\n",
       "      <th>1</th>\n",
       "      <td>Breccia</td>\n",
       "    </tr>\n",
       "    <tr>\n",
       "      <th>2</th>\n",
       "      <td>Crustal</td>\n",
       "    </tr>\n",
       "  </tbody>\n",
       "</table>\n",
       "</div>"
      ]
     },
     "execution_count": 301,
     "metadata": {},
     "output_type": "execute_result"
    }
   ],
   "execution_count": 301
  },
  {
   "cell_type": "code",
   "metadata": {
    "gather": {
     "logged": 1718685228127
    },
    "jupyter": {
     "outputs_hidden": false,
     "source_hidden": false
    },
    "nteract": {
     "transient": {
      "deleting": false
     }
    },
    "ExecuteTime": {
     "end_time": "2024-12-30T06:19:56.559006Z",
     "start_time": "2024-12-30T06:19:56.555821Z"
    }
   },
   "source": [
    "# needed_samples 데이터프레임에서 암석유형별('Type') 중량 합을 구한다.\n",
    "needed_samples.groupby('Type')['Weight (kg)'].sum()"
   ],
   "outputs": [
    {
     "data": {
      "text/plain": [
       "Type\n",
       "Basalt     17.42340\n",
       "Breccia    10.11850\n",
       "Crustal     4.74469\n",
       "Name: Weight (kg), dtype: float64"
      ]
     },
     "execution_count": 302,
     "metadata": {},
     "output_type": "execute_result"
    }
   ],
   "execution_count": 302
  },
  {
   "cell_type": "code",
   "metadata": {
    "gather": {
     "logged": 1718685364437
    },
    "jupyter": {
     "outputs_hidden": false,
     "source_hidden": false
    },
    "nteract": {
     "transient": {
      "deleting": false
     }
    },
    "ExecuteTime": {
     "end_time": "2024-12-30T06:20:03.672158Z",
     "start_time": "2024-12-30T06:20:03.668188Z"
    }
   },
   "source": [
    "needed_sample_weight = needed_samples.groupby('Type')['Weight (kg)'].sum().reset_index()\n",
    "needed_sample_weight"
   ],
   "outputs": [
    {
     "data": {
      "text/plain": [
       "      Type  Weight (kg)\n",
       "0   Basalt     17.42340\n",
       "1  Breccia     10.11850\n",
       "2  Crustal      4.74469"
      ],
      "text/html": [
       "<div>\n",
       "<style scoped>\n",
       "    .dataframe tbody tr th:only-of-type {\n",
       "        vertical-align: middle;\n",
       "    }\n",
       "\n",
       "    .dataframe tbody tr th {\n",
       "        vertical-align: top;\n",
       "    }\n",
       "\n",
       "    .dataframe thead th {\n",
       "        text-align: right;\n",
       "    }\n",
       "</style>\n",
       "<table border=\"1\" class=\"dataframe\">\n",
       "  <thead>\n",
       "    <tr style=\"text-align: right;\">\n",
       "      <th></th>\n",
       "      <th>Type</th>\n",
       "      <th>Weight (kg)</th>\n",
       "    </tr>\n",
       "  </thead>\n",
       "  <tbody>\n",
       "    <tr>\n",
       "      <th>0</th>\n",
       "      <td>Basalt</td>\n",
       "      <td>17.42340</td>\n",
       "    </tr>\n",
       "    <tr>\n",
       "      <th>1</th>\n",
       "      <td>Breccia</td>\n",
       "      <td>10.11850</td>\n",
       "    </tr>\n",
       "    <tr>\n",
       "      <th>2</th>\n",
       "      <td>Crustal</td>\n",
       "      <td>4.74469</td>\n",
       "    </tr>\n",
       "  </tbody>\n",
       "</table>\n",
       "</div>"
      ]
     },
     "execution_count": 303,
     "metadata": {},
     "output_type": "execute_result"
    }
   ],
   "execution_count": 303
  },
  {
   "cell_type": "code",
   "metadata": {
    "gather": {
     "logged": 1718685506197
    },
    "jupyter": {
     "outputs_hidden": false,
     "source_hidden": false
    },
    "nteract": {
     "transient": {
      "deleting": false
     }
    },
    "ExecuteTime": {
     "end_time": "2024-12-30T06:25:32.288807Z",
     "start_time": "2024-12-30T06:25:32.285267Z"
    }
   },
   "source": [
    "# 두 데이터프레임을 병합한다.\n",
    "# needed_samples_overview = pd.merge(needed_samples_overview, needed_sample_weight, on='Type')\n",
    "needed_samples_overview"
   ],
   "outputs": [
    {
     "data": {
      "text/plain": [
       "      Type  Weight (kg)\n",
       "0   Basalt     17.42340\n",
       "1  Breccia     10.11850\n",
       "2  Crustal      4.74469"
      ],
      "text/html": [
       "<div>\n",
       "<style scoped>\n",
       "    .dataframe tbody tr th:only-of-type {\n",
       "        vertical-align: middle;\n",
       "    }\n",
       "\n",
       "    .dataframe tbody tr th {\n",
       "        vertical-align: top;\n",
       "    }\n",
       "\n",
       "    .dataframe thead th {\n",
       "        text-align: right;\n",
       "    }\n",
       "</style>\n",
       "<table border=\"1\" class=\"dataframe\">\n",
       "  <thead>\n",
       "    <tr style=\"text-align: right;\">\n",
       "      <th></th>\n",
       "      <th>Type</th>\n",
       "      <th>Weight (kg)</th>\n",
       "    </tr>\n",
       "  </thead>\n",
       "  <tbody>\n",
       "    <tr>\n",
       "      <th>0</th>\n",
       "      <td>Basalt</td>\n",
       "      <td>17.42340</td>\n",
       "    </tr>\n",
       "    <tr>\n",
       "      <th>1</th>\n",
       "      <td>Breccia</td>\n",
       "      <td>10.11850</td>\n",
       "    </tr>\n",
       "    <tr>\n",
       "      <th>2</th>\n",
       "      <td>Crustal</td>\n",
       "      <td>4.74469</td>\n",
       "    </tr>\n",
       "  </tbody>\n",
       "</table>\n",
       "</div>"
      ]
     },
     "execution_count": 310,
     "metadata": {},
     "output_type": "execute_result"
    }
   ],
   "execution_count": 310
  },
  {
   "cell_type": "code",
   "metadata": {
    "gather": {
     "logged": 1718685632691
    },
    "jupyter": {
     "outputs_hidden": false,
     "source_hidden": false
    },
    "nteract": {
     "transient": {
      "deleting": false
     }
    },
    "ExecuteTime": {
     "end_time": "2024-12-30T06:27:54.740598Z",
     "start_time": "2024-12-30T06:27:54.736466Z"
    }
   },
   "source": [
    "# 컬럼명을 변경 'Weight (kg)' -> 'Total weight (kg)'\n",
    "needed_samples_overview.rename(columns={'Weight (kg)' : 'Total weight (kg)'}, inplace=True)\n",
    "needed_samples_overview"
   ],
   "outputs": [
    {
     "data": {
      "text/plain": [
       "      Type  Total weight (kg)\n",
       "0   Basalt           17.42340\n",
       "1  Breccia           10.11850\n",
       "2  Crustal            4.74469"
      ],
      "text/html": [
       "<div>\n",
       "<style scoped>\n",
       "    .dataframe tbody tr th:only-of-type {\n",
       "        vertical-align: middle;\n",
       "    }\n",
       "\n",
       "    .dataframe tbody tr th {\n",
       "        vertical-align: top;\n",
       "    }\n",
       "\n",
       "    .dataframe thead th {\n",
       "        text-align: right;\n",
       "    }\n",
       "</style>\n",
       "<table border=\"1\" class=\"dataframe\">\n",
       "  <thead>\n",
       "    <tr style=\"text-align: right;\">\n",
       "      <th></th>\n",
       "      <th>Type</th>\n",
       "      <th>Total weight (kg)</th>\n",
       "    </tr>\n",
       "  </thead>\n",
       "  <tbody>\n",
       "    <tr>\n",
       "      <th>0</th>\n",
       "      <td>Basalt</td>\n",
       "      <td>17.42340</td>\n",
       "    </tr>\n",
       "    <tr>\n",
       "      <th>1</th>\n",
       "      <td>Breccia</td>\n",
       "      <td>10.11850</td>\n",
       "    </tr>\n",
       "    <tr>\n",
       "      <th>2</th>\n",
       "      <td>Crustal</td>\n",
       "      <td>4.74469</td>\n",
       "    </tr>\n",
       "  </tbody>\n",
       "</table>\n",
       "</div>"
      ]
     },
     "execution_count": 311,
     "metadata": {},
     "output_type": "execute_result"
    }
   ],
   "execution_count": 311
  },
  {
   "cell_type": "code",
   "metadata": {
    "gather": {
     "logged": 1718685790983
    },
    "jupyter": {
     "outputs_hidden": false,
     "source_hidden": false
    },
    "nteract": {
     "transient": {
      "deleting": false
     }
    },
    "ExecuteTime": {
     "end_time": "2024-12-30T06:29:43.617616Z",
     "start_time": "2024-12-30T06:29:43.613932Z"
    }
   },
   "source": [
    "# needed_samples 데이터프레임에서 암석유형별 중량의 평균을 구한다.\n",
    "needed_samples.groupby('Type')['Weight (kg)'].mean()"
   ],
   "outputs": [
    {
     "data": {
      "text/plain": [
       "Type\n",
       "Basalt     1.244529\n",
       "Breccia    1.264813\n",
       "Crustal    0.103145\n",
       "Name: Weight (kg), dtype: float64"
      ]
     },
     "execution_count": 313,
     "metadata": {},
     "output_type": "execute_result"
    }
   ],
   "execution_count": 313
  },
  {
   "cell_type": "code",
   "metadata": {
    "gather": {
     "logged": 1718685883504
    },
    "jupyter": {
     "outputs_hidden": false,
     "source_hidden": false
    },
    "nteract": {
     "transient": {
      "deleting": false
     }
    },
    "ExecuteTime": {
     "end_time": "2024-12-30T06:32:12.815266Z",
     "start_time": "2024-12-30T06:32:12.810369Z"
    }
   },
   "source": [
    "# 두 데이터프레임을 병합한다.\n",
    "needed_samples_overview = pd.merge(needed_samples_overview, needed_samples.groupby('Type')['Weight (kg)'].mean(), on='Type')\n",
    "needed_samples_overview"
   ],
   "outputs": [
    {
     "data": {
      "text/plain": [
       "      Type  Total weight (kg)  Weight (kg)\n",
       "0   Basalt           17.42340     1.244529\n",
       "1  Breccia           10.11850     1.264813\n",
       "2  Crustal            4.74469     0.103145"
      ],
      "text/html": [
       "<div>\n",
       "<style scoped>\n",
       "    .dataframe tbody tr th:only-of-type {\n",
       "        vertical-align: middle;\n",
       "    }\n",
       "\n",
       "    .dataframe tbody tr th {\n",
       "        vertical-align: top;\n",
       "    }\n",
       "\n",
       "    .dataframe thead th {\n",
       "        text-align: right;\n",
       "    }\n",
       "</style>\n",
       "<table border=\"1\" class=\"dataframe\">\n",
       "  <thead>\n",
       "    <tr style=\"text-align: right;\">\n",
       "      <th></th>\n",
       "      <th>Type</th>\n",
       "      <th>Total weight (kg)</th>\n",
       "      <th>Weight (kg)</th>\n",
       "    </tr>\n",
       "  </thead>\n",
       "  <tbody>\n",
       "    <tr>\n",
       "      <th>0</th>\n",
       "      <td>Basalt</td>\n",
       "      <td>17.42340</td>\n",
       "      <td>1.244529</td>\n",
       "    </tr>\n",
       "    <tr>\n",
       "      <th>1</th>\n",
       "      <td>Breccia</td>\n",
       "      <td>10.11850</td>\n",
       "      <td>1.264813</td>\n",
       "    </tr>\n",
       "    <tr>\n",
       "      <th>2</th>\n",
       "      <td>Crustal</td>\n",
       "      <td>4.74469</td>\n",
       "      <td>0.103145</td>\n",
       "    </tr>\n",
       "  </tbody>\n",
       "</table>\n",
       "</div>"
      ]
     },
     "execution_count": 314,
     "metadata": {},
     "output_type": "execute_result"
    }
   ],
   "execution_count": 314
  },
  {
   "cell_type": "code",
   "metadata": {
    "gather": {
     "logged": 1718685955093
    },
    "jupyter": {
     "outputs_hidden": false,
     "source_hidden": false
    },
    "nteract": {
     "transient": {
      "deleting": false
     }
    },
    "ExecuteTime": {
     "end_time": "2024-12-30T06:34:50.883624Z",
     "start_time": "2024-12-30T06:34:50.879709Z"
    }
   },
   "source": [
    "# 컬럼명을 변경 'Weight (kg)' -> 'Average weight (kg)'\n",
    "needed_samples_overview.rename(columns={'Weight (kg)' : 'Average weight (kg)'}, inplace=True)\n",
    "needed_samples_overview"
   ],
   "outputs": [
    {
     "data": {
      "text/plain": [
       "      Type  Total weight (kg)  Average weight (kg)\n",
       "0   Basalt           17.42340             1.244529\n",
       "1  Breccia           10.11850             1.264813\n",
       "2  Crustal            4.74469             0.103145"
      ],
      "text/html": [
       "<div>\n",
       "<style scoped>\n",
       "    .dataframe tbody tr th:only-of-type {\n",
       "        vertical-align: middle;\n",
       "    }\n",
       "\n",
       "    .dataframe tbody tr th {\n",
       "        vertical-align: top;\n",
       "    }\n",
       "\n",
       "    .dataframe thead th {\n",
       "        text-align: right;\n",
       "    }\n",
       "</style>\n",
       "<table border=\"1\" class=\"dataframe\">\n",
       "  <thead>\n",
       "    <tr style=\"text-align: right;\">\n",
       "      <th></th>\n",
       "      <th>Type</th>\n",
       "      <th>Total weight (kg)</th>\n",
       "      <th>Average weight (kg)</th>\n",
       "    </tr>\n",
       "  </thead>\n",
       "  <tbody>\n",
       "    <tr>\n",
       "      <th>0</th>\n",
       "      <td>Basalt</td>\n",
       "      <td>17.42340</td>\n",
       "      <td>1.244529</td>\n",
       "    </tr>\n",
       "    <tr>\n",
       "      <th>1</th>\n",
       "      <td>Breccia</td>\n",
       "      <td>10.11850</td>\n",
       "      <td>1.264813</td>\n",
       "    </tr>\n",
       "    <tr>\n",
       "      <th>2</th>\n",
       "      <td>Crustal</td>\n",
       "      <td>4.74469</td>\n",
       "      <td>0.103145</td>\n",
       "    </tr>\n",
       "  </tbody>\n",
       "</table>\n",
       "</div>"
      ]
     },
     "execution_count": 315,
     "metadata": {},
     "output_type": "execute_result"
    }
   ],
   "execution_count": 315
  },
  {
   "cell_type": "code",
   "metadata": {
    "gather": {
     "logged": 1718686270585
    },
    "jupyter": {
     "outputs_hidden": false,
     "source_hidden": false
    },
    "nteract": {
     "transient": {
      "deleting": false
     }
    },
    "ExecuteTime": {
     "end_time": "2024-12-30T06:40:52.647263Z",
     "start_time": "2024-12-30T06:40:52.643636Z"
    }
   },
   "source": [
    "# rock_sample 데이터프레임에서 암석유형별('Type') 개수를 구해서 total_rock_count 라는 데이터프레임을 만든다.\n",
    "total_rock_count = rock_sample.groupby('Type')['ID'].count()\n",
    "total_rock_count"
   ],
   "outputs": [
    {
     "data": {
      "text/plain": [
       "Type\n",
       "Basalt     351\n",
       "Breccia    959\n",
       "Core        56\n",
       "Crustal     46\n",
       "Soil       813\n",
       "Special      4\n",
       "Name: ID, dtype: int64"
      ]
     },
     "execution_count": 317,
     "metadata": {},
     "output_type": "execute_result"
    }
   ],
   "execution_count": 317
  },
  {
   "cell_type": "code",
   "metadata": {
    "gather": {
     "logged": 1718686309369
    },
    "jupyter": {
     "outputs_hidden": false,
     "source_hidden": false
    },
    "nteract": {
     "transient": {
      "deleting": false
     }
    },
    "ExecuteTime": {
     "end_time": "2024-12-30T06:41:06.288207Z",
     "start_time": "2024-12-30T06:41:06.284487Z"
    }
   },
   "source": [
    "# 두 데이터프레임을 병합한다.\n",
    "# needed_samples_overview = pd.merge(needed_samples_overview, total_rock_count, on='Type')\n",
    "needed_samples_overview"
   ],
   "outputs": [
    {
     "data": {
      "text/plain": [
       "      Type  Total weight (kg)  Average weight (kg)   ID\n",
       "0   Basalt           17.42340             1.244529  351\n",
       "1  Breccia           10.11850             1.264813  959\n",
       "2  Crustal            4.74469             0.103145   46"
      ],
      "text/html": [
       "<div>\n",
       "<style scoped>\n",
       "    .dataframe tbody tr th:only-of-type {\n",
       "        vertical-align: middle;\n",
       "    }\n",
       "\n",
       "    .dataframe tbody tr th {\n",
       "        vertical-align: top;\n",
       "    }\n",
       "\n",
       "    .dataframe thead th {\n",
       "        text-align: right;\n",
       "    }\n",
       "</style>\n",
       "<table border=\"1\" class=\"dataframe\">\n",
       "  <thead>\n",
       "    <tr style=\"text-align: right;\">\n",
       "      <th></th>\n",
       "      <th>Type</th>\n",
       "      <th>Total weight (kg)</th>\n",
       "      <th>Average weight (kg)</th>\n",
       "      <th>ID</th>\n",
       "    </tr>\n",
       "  </thead>\n",
       "  <tbody>\n",
       "    <tr>\n",
       "      <th>0</th>\n",
       "      <td>Basalt</td>\n",
       "      <td>17.42340</td>\n",
       "      <td>1.244529</td>\n",
       "      <td>351</td>\n",
       "    </tr>\n",
       "    <tr>\n",
       "      <th>1</th>\n",
       "      <td>Breccia</td>\n",
       "      <td>10.11850</td>\n",
       "      <td>1.264813</td>\n",
       "      <td>959</td>\n",
       "    </tr>\n",
       "    <tr>\n",
       "      <th>2</th>\n",
       "      <td>Crustal</td>\n",
       "      <td>4.74469</td>\n",
       "      <td>0.103145</td>\n",
       "      <td>46</td>\n",
       "    </tr>\n",
       "  </tbody>\n",
       "</table>\n",
       "</div>"
      ]
     },
     "execution_count": 319,
     "metadata": {},
     "output_type": "execute_result"
    }
   ],
   "execution_count": 319
  },
  {
   "cell_type": "code",
   "metadata": {
    "gather": {
     "logged": 1718686425106
    },
    "jupyter": {
     "outputs_hidden": false,
     "source_hidden": false
    },
    "nteract": {
     "transient": {
      "deleting": false
     }
    },
    "ExecuteTime": {
     "end_time": "2024-12-30T06:41:11.502310Z",
     "start_time": "2024-12-30T06:41:11.498421Z"
    }
   },
   "source": [
    "# 컬럼명을 변경한다. 'ID' -> 'Number of samples'\n",
    "\n",
    "needed_samples_overview.rename(columns={'ID' : 'Number of samples'}, inplace=True)\n",
    "needed_samples_overview"
   ],
   "outputs": [
    {
     "data": {
      "text/plain": [
       "      Type  Total weight (kg)  Average weight (kg)  Number of samples\n",
       "0   Basalt           17.42340             1.244529                351\n",
       "1  Breccia           10.11850             1.264813                959\n",
       "2  Crustal            4.74469             0.103145                 46"
      ],
      "text/html": [
       "<div>\n",
       "<style scoped>\n",
       "    .dataframe tbody tr th:only-of-type {\n",
       "        vertical-align: middle;\n",
       "    }\n",
       "\n",
       "    .dataframe tbody tr th {\n",
       "        vertical-align: top;\n",
       "    }\n",
       "\n",
       "    .dataframe thead th {\n",
       "        text-align: right;\n",
       "    }\n",
       "</style>\n",
       "<table border=\"1\" class=\"dataframe\">\n",
       "  <thead>\n",
       "    <tr style=\"text-align: right;\">\n",
       "      <th></th>\n",
       "      <th>Type</th>\n",
       "      <th>Total weight (kg)</th>\n",
       "      <th>Average weight (kg)</th>\n",
       "      <th>Number of samples</th>\n",
       "    </tr>\n",
       "  </thead>\n",
       "  <tbody>\n",
       "    <tr>\n",
       "      <th>0</th>\n",
       "      <td>Basalt</td>\n",
       "      <td>17.42340</td>\n",
       "      <td>1.244529</td>\n",
       "      <td>351</td>\n",
       "    </tr>\n",
       "    <tr>\n",
       "      <th>1</th>\n",
       "      <td>Breccia</td>\n",
       "      <td>10.11850</td>\n",
       "      <td>1.264813</td>\n",
       "      <td>959</td>\n",
       "    </tr>\n",
       "    <tr>\n",
       "      <th>2</th>\n",
       "      <td>Crustal</td>\n",
       "      <td>4.74469</td>\n",
       "      <td>0.103145</td>\n",
       "      <td>46</td>\n",
       "    </tr>\n",
       "  </tbody>\n",
       "</table>\n",
       "</div>"
      ]
     },
     "execution_count": 320,
     "metadata": {},
     "output_type": "execute_result"
    }
   ],
   "execution_count": 320
  },
  {
   "cell_type": "code",
   "metadata": {
    "gather": {
     "logged": 1718686527101
    },
    "jupyter": {
     "outputs_hidden": false,
     "source_hidden": false
    },
    "nteract": {
     "transient": {
      "deleting": false
     }
    },
    "ExecuteTime": {
     "end_time": "2024-12-30T06:49:25.561584Z",
     "start_time": "2024-12-30T06:49:25.558660Z"
    }
   },
   "source": [
    "# needed_samples_overview['Number of samples'] 의 총합을 구하고 total_rocks에 할당\n",
    "total_rocks = needed_samples_overview['Number of samples'].sum()\n",
    "total_rocks"
   ],
   "outputs": [
    {
     "data": {
      "text/plain": [
       "np.int64(1356)"
      ]
     },
     "execution_count": 329,
     "metadata": {},
     "output_type": "execute_result"
    }
   ],
   "execution_count": 329
  },
  {
   "cell_type": "code",
   "metadata": {
    "gather": {
     "logged": 1718686635216
    },
    "jupyter": {
     "outputs_hidden": false,
     "source_hidden": false
    },
    "nteract": {
     "transient": {
      "deleting": false
     }
    },
    "ExecuteTime": {
     "end_time": "2024-12-30T06:46:43.612111Z",
     "start_time": "2024-12-30T06:46:43.607792Z"
    }
   },
   "source": [
    "# 각 암석유형별로 차지하는 비율을 구해서 'Percentage of rocks'라는 컬럼에 할당한다.\n",
    "needed_samples_overview['Percentage of rocks'] = needed_samples_overview['Number of samples'] / total_rocks\n",
    "needed_samples_overview"
   ],
   "outputs": [
    {
     "data": {
      "text/plain": [
       "      Type  Total weight (kg)  Average weight (kg)  Number of samples  \\\n",
       "0   Basalt           17.42340             1.244529                351   \n",
       "1  Breccia           10.11850             1.264813                959   \n",
       "2  Crustal            4.74469             0.103145                 46   \n",
       "\n",
       "   Percentage of rocks  \n",
       "0             0.258850  \n",
       "1             0.707227  \n",
       "2             0.033923  "
      ],
      "text/html": [
       "<div>\n",
       "<style scoped>\n",
       "    .dataframe tbody tr th:only-of-type {\n",
       "        vertical-align: middle;\n",
       "    }\n",
       "\n",
       "    .dataframe tbody tr th {\n",
       "        vertical-align: top;\n",
       "    }\n",
       "\n",
       "    .dataframe thead th {\n",
       "        text-align: right;\n",
       "    }\n",
       "</style>\n",
       "<table border=\"1\" class=\"dataframe\">\n",
       "  <thead>\n",
       "    <tr style=\"text-align: right;\">\n",
       "      <th></th>\n",
       "      <th>Type</th>\n",
       "      <th>Total weight (kg)</th>\n",
       "      <th>Average weight (kg)</th>\n",
       "      <th>Number of samples</th>\n",
       "      <th>Percentage of rocks</th>\n",
       "    </tr>\n",
       "  </thead>\n",
       "  <tbody>\n",
       "    <tr>\n",
       "      <th>0</th>\n",
       "      <td>Basalt</td>\n",
       "      <td>17.42340</td>\n",
       "      <td>1.244529</td>\n",
       "      <td>351</td>\n",
       "      <td>0.258850</td>\n",
       "    </tr>\n",
       "    <tr>\n",
       "      <th>1</th>\n",
       "      <td>Breccia</td>\n",
       "      <td>10.11850</td>\n",
       "      <td>1.264813</td>\n",
       "      <td>959</td>\n",
       "      <td>0.707227</td>\n",
       "    </tr>\n",
       "    <tr>\n",
       "      <th>2</th>\n",
       "      <td>Crustal</td>\n",
       "      <td>4.74469</td>\n",
       "      <td>0.103145</td>\n",
       "      <td>46</td>\n",
       "      <td>0.033923</td>\n",
       "    </tr>\n",
       "  </tbody>\n",
       "</table>\n",
       "</div>"
      ]
     },
     "execution_count": 323,
     "metadata": {},
     "output_type": "execute_result"
    }
   ],
   "execution_count": 323
  },
  {
   "cell_type": "code",
   "metadata": {
    "gather": {
     "logged": 1718686674903
    },
    "jupyter": {
     "outputs_hidden": false,
     "source_hidden": false
    },
    "nteract": {
     "transient": {
      "deleting": false
     }
    },
    "ExecuteTime": {
     "end_time": "2024-12-30T06:43:36.617118Z",
     "start_time": "2024-12-30T06:43:36.613049Z"
    }
   },
   "source": [
    "artemis_mission"
   ],
   "outputs": [
    {
     "data": {
      "text/plain": [
       "     Mission  Total weight (kg)  Payload (kg)  Sample weight from total (kg)  \\\n",
       "0   artemis1              26520         26988                      75.549232   \n",
       "1  artemis1b              26520         37965                      75.549232   \n",
       "2   artemis2              26520         42955                      75.549232   \n",
       "\n",
       "   Sample weight from payload (kg)  Estimated sample weight (kg)  \n",
       "0                        38.779584                     57.164408  \n",
       "1                        54.552649                     65.050940  \n",
       "2                        61.722877                     68.636054  "
      ],
      "text/html": [
       "<div>\n",
       "<style scoped>\n",
       "    .dataframe tbody tr th:only-of-type {\n",
       "        vertical-align: middle;\n",
       "    }\n",
       "\n",
       "    .dataframe tbody tr th {\n",
       "        vertical-align: top;\n",
       "    }\n",
       "\n",
       "    .dataframe thead th {\n",
       "        text-align: right;\n",
       "    }\n",
       "</style>\n",
       "<table border=\"1\" class=\"dataframe\">\n",
       "  <thead>\n",
       "    <tr style=\"text-align: right;\">\n",
       "      <th></th>\n",
       "      <th>Mission</th>\n",
       "      <th>Total weight (kg)</th>\n",
       "      <th>Payload (kg)</th>\n",
       "      <th>Sample weight from total (kg)</th>\n",
       "      <th>Sample weight from payload (kg)</th>\n",
       "      <th>Estimated sample weight (kg)</th>\n",
       "    </tr>\n",
       "  </thead>\n",
       "  <tbody>\n",
       "    <tr>\n",
       "      <th>0</th>\n",
       "      <td>artemis1</td>\n",
       "      <td>26520</td>\n",
       "      <td>26988</td>\n",
       "      <td>75.549232</td>\n",
       "      <td>38.779584</td>\n",
       "      <td>57.164408</td>\n",
       "    </tr>\n",
       "    <tr>\n",
       "      <th>1</th>\n",
       "      <td>artemis1b</td>\n",
       "      <td>26520</td>\n",
       "      <td>37965</td>\n",
       "      <td>75.549232</td>\n",
       "      <td>54.552649</td>\n",
       "      <td>65.050940</td>\n",
       "    </tr>\n",
       "    <tr>\n",
       "      <th>2</th>\n",
       "      <td>artemis2</td>\n",
       "      <td>26520</td>\n",
       "      <td>42955</td>\n",
       "      <td>75.549232</td>\n",
       "      <td>61.722877</td>\n",
       "      <td>68.636054</td>\n",
       "    </tr>\n",
       "  </tbody>\n",
       "</table>\n",
       "</div>"
      ]
     },
     "execution_count": 322,
     "metadata": {},
     "output_type": "execute_result"
    }
   ],
   "execution_count": 322
  },
  {
   "cell_type": "code",
   "metadata": {
    "gather": {
     "logged": 1718686817437
    },
    "jupyter": {
     "outputs_hidden": false,
     "source_hidden": false
    },
    "nteract": {
     "transient": {
      "deleting": false
     }
    },
    "ExecuteTime": {
     "end_time": "2024-12-30T06:54:40.337457Z",
     "start_time": "2024-12-30T06:54:40.335138Z"
    }
   },
   "source": [
    "# artemis_mission['Estimated sample weight (kg)']의 평균을 구해서 Artemis 달탐사의 에상 암석 중량을 구한다.\n",
    "artemis_mean = artemis_mission['Estimated sample weight (kg)'].mean()\n",
    "artemis_mean"
   ],
   "outputs": [
    {
     "data": {
      "text/plain": [
       "np.float64(63.61713411579792)"
      ]
     },
     "execution_count": 335,
     "metadata": {},
     "output_type": "execute_result"
    }
   ],
   "execution_count": 335
  },
  {
   "cell_type": "code",
   "metadata": {
    "gather": {
     "logged": 1718686970547
    },
    "jupyter": {
     "outputs_hidden": false,
     "source_hidden": false
    },
    "nteract": {
     "transient": {
      "deleting": false
     }
    },
    "ExecuteTime": {
     "end_time": "2024-12-30T06:56:03.541390Z",
     "start_time": "2024-12-30T06:56:03.536608Z"
    }
   },
   "source": [
    "# needed_samples_overview['Weight to collect'] 컬럼을 만든다.\n",
    "needed_samples_overview['Weight to collect'] = needed_samples_overview['Percentage of rocks'] * artemis_mean\n",
    "needed_samples_overview"
   ],
   "outputs": [
    {
     "data": {
      "text/plain": [
       "      Type  Total weight (kg)  Average weight (kg)  Number of samples  \\\n",
       "0   Basalt           17.42340             1.244529                351   \n",
       "1  Breccia           10.11850             1.264813                959   \n",
       "2  Crustal            4.74469             0.103145                 46   \n",
       "\n",
       "   Percentage of rocks  Weight to collect  Rocks to collect  \n",
       "0             0.258850          16.467267         45.932580  \n",
       "1             0.707227          44.991764         51.431291  \n",
       "2             0.033923           2.158103        665.429882  "
      ],
      "text/html": [
       "<div>\n",
       "<style scoped>\n",
       "    .dataframe tbody tr th:only-of-type {\n",
       "        vertical-align: middle;\n",
       "    }\n",
       "\n",
       "    .dataframe tbody tr th {\n",
       "        vertical-align: top;\n",
       "    }\n",
       "\n",
       "    .dataframe thead th {\n",
       "        text-align: right;\n",
       "    }\n",
       "</style>\n",
       "<table border=\"1\" class=\"dataframe\">\n",
       "  <thead>\n",
       "    <tr style=\"text-align: right;\">\n",
       "      <th></th>\n",
       "      <th>Type</th>\n",
       "      <th>Total weight (kg)</th>\n",
       "      <th>Average weight (kg)</th>\n",
       "      <th>Number of samples</th>\n",
       "      <th>Percentage of rocks</th>\n",
       "      <th>Weight to collect</th>\n",
       "      <th>Rocks to collect</th>\n",
       "    </tr>\n",
       "  </thead>\n",
       "  <tbody>\n",
       "    <tr>\n",
       "      <th>0</th>\n",
       "      <td>Basalt</td>\n",
       "      <td>17.42340</td>\n",
       "      <td>1.244529</td>\n",
       "      <td>351</td>\n",
       "      <td>0.258850</td>\n",
       "      <td>16.467267</td>\n",
       "      <td>45.932580</td>\n",
       "    </tr>\n",
       "    <tr>\n",
       "      <th>1</th>\n",
       "      <td>Breccia</td>\n",
       "      <td>10.11850</td>\n",
       "      <td>1.264813</td>\n",
       "      <td>959</td>\n",
       "      <td>0.707227</td>\n",
       "      <td>44.991764</td>\n",
       "      <td>51.431291</td>\n",
       "    </tr>\n",
       "    <tr>\n",
       "      <th>2</th>\n",
       "      <td>Crustal</td>\n",
       "      <td>4.74469</td>\n",
       "      <td>0.103145</td>\n",
       "      <td>46</td>\n",
       "      <td>0.033923</td>\n",
       "      <td>2.158103</td>\n",
       "      <td>665.429882</td>\n",
       "    </tr>\n",
       "  </tbody>\n",
       "</table>\n",
       "</div>"
      ]
     },
     "execution_count": 338,
     "metadata": {},
     "output_type": "execute_result"
    }
   ],
   "execution_count": 338
  },
  {
   "cell_type": "code",
   "metadata": {
    "gather": {
     "logged": 1718687100407
    },
    "jupyter": {
     "outputs_hidden": false,
     "source_hidden": false
    },
    "nteract": {
     "transient": {
      "deleting": false
     }
    },
    "ExecuteTime": {
     "end_time": "2024-12-30T06:56:07.509891Z",
     "start_time": "2024-12-30T06:56:07.505183Z"
    }
   },
   "source": [
    "# 수집할 각각의 암석 개수를 알려준다.\n",
    "needed_samples_overview['Rocks to collect'] = needed_samples_overview['Weight to collect'] / needed_samples_overview['Average weight (kg)']\n",
    "needed_samples_overview\n"
   ],
   "outputs": [
    {
     "data": {
      "text/plain": [
       "      Type  Total weight (kg)  Average weight (kg)  Number of samples  \\\n",
       "0   Basalt           17.42340             1.244529                351   \n",
       "1  Breccia           10.11850             1.264813                959   \n",
       "2  Crustal            4.74469             0.103145                 46   \n",
       "\n",
       "   Percentage of rocks  Weight to collect  Rocks to collect  \n",
       "0             0.258850          16.467267         13.231731  \n",
       "1             0.707227          44.991764         35.571884  \n",
       "2             0.033923           2.158103         20.922917  "
      ],
      "text/html": [
       "<div>\n",
       "<style scoped>\n",
       "    .dataframe tbody tr th:only-of-type {\n",
       "        vertical-align: middle;\n",
       "    }\n",
       "\n",
       "    .dataframe tbody tr th {\n",
       "        vertical-align: top;\n",
       "    }\n",
       "\n",
       "    .dataframe thead th {\n",
       "        text-align: right;\n",
       "    }\n",
       "</style>\n",
       "<table border=\"1\" class=\"dataframe\">\n",
       "  <thead>\n",
       "    <tr style=\"text-align: right;\">\n",
       "      <th></th>\n",
       "      <th>Type</th>\n",
       "      <th>Total weight (kg)</th>\n",
       "      <th>Average weight (kg)</th>\n",
       "      <th>Number of samples</th>\n",
       "      <th>Percentage of rocks</th>\n",
       "      <th>Weight to collect</th>\n",
       "      <th>Rocks to collect</th>\n",
       "    </tr>\n",
       "  </thead>\n",
       "  <tbody>\n",
       "    <tr>\n",
       "      <th>0</th>\n",
       "      <td>Basalt</td>\n",
       "      <td>17.42340</td>\n",
       "      <td>1.244529</td>\n",
       "      <td>351</td>\n",
       "      <td>0.258850</td>\n",
       "      <td>16.467267</td>\n",
       "      <td>13.231731</td>\n",
       "    </tr>\n",
       "    <tr>\n",
       "      <th>1</th>\n",
       "      <td>Breccia</td>\n",
       "      <td>10.11850</td>\n",
       "      <td>1.264813</td>\n",
       "      <td>959</td>\n",
       "      <td>0.707227</td>\n",
       "      <td>44.991764</td>\n",
       "      <td>35.571884</td>\n",
       "    </tr>\n",
       "    <tr>\n",
       "      <th>2</th>\n",
       "      <td>Crustal</td>\n",
       "      <td>4.74469</td>\n",
       "      <td>0.103145</td>\n",
       "      <td>46</td>\n",
       "      <td>0.033923</td>\n",
       "      <td>2.158103</td>\n",
       "      <td>20.922917</td>\n",
       "    </tr>\n",
       "  </tbody>\n",
       "</table>\n",
       "</div>"
      ]
     },
     "execution_count": 339,
     "metadata": {},
     "output_type": "execute_result"
    }
   ],
   "execution_count": 339
  },
  {
   "metadata": {},
   "cell_type": "markdown",
   "source": [
    "[김유림의 결론]\n",
    "\n",
    "Type    :   collect   : weight\n",
    "Basalt  :     13      :   16\n",
    "Breccia :     35      :   44\n",
    "Crustal :     20      :   2\n",
    "\n"
   ]
  }
 ],
 "metadata": {
  "kernel_info": {
   "name": "python3"
  },
  "kernelspec": {
   "display_name": "Python 3 (ipykernel)",
   "language": "python",
   "name": "python3"
  },
  "language_info": {
   "codemirror_mode": {
    "name": "ipython",
    "version": 3
   },
   "file_extension": ".py",
   "mimetype": "text/x-python",
   "name": "python",
   "nbconvert_exporter": "python",
   "pygments_lexer": "ipython3",
   "version": "3.8.5"
  },
  "microsoft": {
   "host": {
    "AzureML": {
     "notebookHasBeenCompleted": true
    }
   }
  },
  "nteract": {
   "version": "nteract-front-end@1.0.0"
  }
 },
 "nbformat": 4,
 "nbformat_minor": 2
}
