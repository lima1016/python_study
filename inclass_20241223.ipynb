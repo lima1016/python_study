{
 "cells": [
  {
   "metadata": {},
   "cell_type": "markdown",
   "source": "# 2024-12-23",
   "id": "b46034da58aab39a"
  },
  {
   "metadata": {
    "ExecuteTime": {
     "end_time": "2024-12-23T00:17:14.594664Z",
     "start_time": "2024-12-23T00:17:14.592492Z"
    }
   },
   "cell_type": "code",
   "source": [
    "dan = 2\n",
    "for i in range(1, 10):\n",
    "  print(dan * i, end = ' ')"
   ],
   "id": "84f03c61524578b3",
   "outputs": [
    {
     "name": "stdout",
     "output_type": "stream",
     "text": [
      "2 4 6 8 10 12 14 16 18 "
     ]
    }
   ],
   "execution_count": 3
  },
  {
   "metadata": {
    "ExecuteTime": {
     "end_time": "2024-12-23T00:23:43.689990Z",
     "start_time": "2024-12-23T00:23:43.687681Z"
    }
   },
   "cell_type": "code",
   "source": [
    "for i in range(2, 10):\n",
    "  for j in range(1, 10):\n",
    "    print(i * j, end = ' ')\n",
    "  print()"
   ],
   "id": "de0a8326763d85a7",
   "outputs": [
    {
     "name": "stdout",
     "output_type": "stream",
     "text": [
      "2 4 6 8 10 12 14 16 18 \n",
      "3 6 9 12 15 18 21 24 27 \n",
      "4 8 12 16 20 24 28 32 36 \n",
      "5 10 15 20 25 30 35 40 45 \n",
      "6 12 18 24 30 36 42 48 54 \n",
      "7 14 21 28 35 42 49 56 63 \n",
      "8 16 24 32 40 48 56 64 72 \n",
      "9 18 27 36 45 54 63 72 81 \n"
     ]
    }
   ],
   "execution_count": 13
  },
  {
   "metadata": {
    "ExecuteTime": {
     "end_time": "2024-12-23T00:44:37.437093Z",
     "start_time": "2024-12-23T00:44:22.192692Z"
    }
   },
   "cell_type": "code",
   "source": [
    "coffee = 10\n",
    "\n",
    "while coffee > 0:\n",
    "  money = int(input('돈'))\n",
    "  print(f'주신돈: {money}')\n",
    "  if money >= 300:\n",
    "    coffee-=1\n",
    "    print('커피 여기 있습니다.')\n",
    "    change = money-300\n",
    "    if change:\n",
    "      print('거스름돈: ', change)\n",
    "  else:\n",
    "    print(f'돈이 턱없이 부족합니다. 남은 커피는 {coffee} 개 입니다.')\n",
    "print('커피 다 팔렸습니다.')"
   ],
   "id": "d4c3356dabb581ee",
   "outputs": [
    {
     "name": "stdout",
     "output_type": "stream",
     "text": [
      "주신돈: 400\n",
      "커피 여기 있습니다.\n",
      "거스름돈:  100\n",
      "주신돈: 1\n",
      "돈이 턱없이 부족합니다. 남은 커피는 9 개 입니다.\n",
      "주신돈: 300\n",
      "커피 여기 있습니다.\n",
      "주신돈: 500\n",
      "커피 여기 있습니다.\n",
      "거스름돈:  200\n",
      "주신돈: 300\n",
      "커피 여기 있습니다.\n",
      "주신돈: 200\n",
      "돈이 턱없이 부족합니다. 남은 커피는 6 개 입니다.\n"
     ]
    },
    {
     "ename": "KeyboardInterrupt",
     "evalue": "Interrupted by user",
     "output_type": "error",
     "traceback": [
      "\u001B[1;31m---------------------------------------------------------------------------\u001B[0m",
      "\u001B[1;31mKeyboardInterrupt\u001B[0m                         Traceback (most recent call last)",
      "Cell \u001B[1;32mIn[19], line 4\u001B[0m\n\u001B[0;32m      1\u001B[0m coffee \u001B[38;5;241m=\u001B[39m \u001B[38;5;241m10\u001B[39m\n\u001B[0;32m      3\u001B[0m \u001B[38;5;28;01mwhile\u001B[39;00m coffee \u001B[38;5;241m>\u001B[39m \u001B[38;5;241m0\u001B[39m:\n\u001B[1;32m----> 4\u001B[0m   money \u001B[38;5;241m=\u001B[39m \u001B[38;5;28mint\u001B[39m(\u001B[38;5;28;43minput\u001B[39;49m\u001B[43m(\u001B[49m\u001B[38;5;124;43m'\u001B[39;49m\u001B[38;5;124;43m돈\u001B[39;49m\u001B[38;5;124;43m'\u001B[39;49m\u001B[43m)\u001B[49m)\n\u001B[0;32m      5\u001B[0m   \u001B[38;5;28mprint\u001B[39m(\u001B[38;5;124mf\u001B[39m\u001B[38;5;124m'\u001B[39m\u001B[38;5;124m주신돈: \u001B[39m\u001B[38;5;132;01m{\u001B[39;00mmoney\u001B[38;5;132;01m}\u001B[39;00m\u001B[38;5;124m'\u001B[39m)\n\u001B[0;32m      6\u001B[0m   \u001B[38;5;28;01mif\u001B[39;00m money \u001B[38;5;241m>\u001B[39m\u001B[38;5;241m=\u001B[39m \u001B[38;5;241m300\u001B[39m:\n",
      "File \u001B[1;32mC:\\git\\python_study\\.venv\\Lib\\site-packages\\ipykernel\\kernelbase.py:1282\u001B[0m, in \u001B[0;36mKernel.raw_input\u001B[1;34m(self, prompt)\u001B[0m\n\u001B[0;32m   1280\u001B[0m     msg \u001B[38;5;241m=\u001B[39m \u001B[38;5;124m\"\u001B[39m\u001B[38;5;124mraw_input was called, but this frontend does not support input requests.\u001B[39m\u001B[38;5;124m\"\u001B[39m\n\u001B[0;32m   1281\u001B[0m     \u001B[38;5;28;01mraise\u001B[39;00m StdinNotImplementedError(msg)\n\u001B[1;32m-> 1282\u001B[0m \u001B[38;5;28;01mreturn\u001B[39;00m \u001B[38;5;28;43mself\u001B[39;49m\u001B[38;5;241;43m.\u001B[39;49m\u001B[43m_input_request\u001B[49m\u001B[43m(\u001B[49m\n\u001B[0;32m   1283\u001B[0m \u001B[43m    \u001B[49m\u001B[38;5;28;43mstr\u001B[39;49m\u001B[43m(\u001B[49m\u001B[43mprompt\u001B[49m\u001B[43m)\u001B[49m\u001B[43m,\u001B[49m\n\u001B[0;32m   1284\u001B[0m \u001B[43m    \u001B[49m\u001B[38;5;28;43mself\u001B[39;49m\u001B[38;5;241;43m.\u001B[39;49m\u001B[43m_parent_ident\u001B[49m\u001B[43m[\u001B[49m\u001B[38;5;124;43m\"\u001B[39;49m\u001B[38;5;124;43mshell\u001B[39;49m\u001B[38;5;124;43m\"\u001B[39;49m\u001B[43m]\u001B[49m\u001B[43m,\u001B[49m\n\u001B[0;32m   1285\u001B[0m \u001B[43m    \u001B[49m\u001B[38;5;28;43mself\u001B[39;49m\u001B[38;5;241;43m.\u001B[39;49m\u001B[43mget_parent\u001B[49m\u001B[43m(\u001B[49m\u001B[38;5;124;43m\"\u001B[39;49m\u001B[38;5;124;43mshell\u001B[39;49m\u001B[38;5;124;43m\"\u001B[39;49m\u001B[43m)\u001B[49m\u001B[43m,\u001B[49m\n\u001B[0;32m   1286\u001B[0m \u001B[43m    \u001B[49m\u001B[43mpassword\u001B[49m\u001B[38;5;241;43m=\u001B[39;49m\u001B[38;5;28;43;01mFalse\u001B[39;49;00m\u001B[43m,\u001B[49m\n\u001B[0;32m   1287\u001B[0m \u001B[43m\u001B[49m\u001B[43m)\u001B[49m\n",
      "File \u001B[1;32mC:\\git\\python_study\\.venv\\Lib\\site-packages\\ipykernel\\kernelbase.py:1325\u001B[0m, in \u001B[0;36mKernel._input_request\u001B[1;34m(self, prompt, ident, parent, password)\u001B[0m\n\u001B[0;32m   1322\u001B[0m \u001B[38;5;28;01mexcept\u001B[39;00m \u001B[38;5;167;01mKeyboardInterrupt\u001B[39;00m:\n\u001B[0;32m   1323\u001B[0m     \u001B[38;5;66;03m# re-raise KeyboardInterrupt, to truncate traceback\u001B[39;00m\n\u001B[0;32m   1324\u001B[0m     msg \u001B[38;5;241m=\u001B[39m \u001B[38;5;124m\"\u001B[39m\u001B[38;5;124mInterrupted by user\u001B[39m\u001B[38;5;124m\"\u001B[39m\n\u001B[1;32m-> 1325\u001B[0m     \u001B[38;5;28;01mraise\u001B[39;00m \u001B[38;5;167;01mKeyboardInterrupt\u001B[39;00m(msg) \u001B[38;5;28;01mfrom\u001B[39;00m \u001B[38;5;28;01mNone\u001B[39;00m\n\u001B[0;32m   1326\u001B[0m \u001B[38;5;28;01mexcept\u001B[39;00m \u001B[38;5;167;01mException\u001B[39;00m:\n\u001B[0;32m   1327\u001B[0m     \u001B[38;5;28mself\u001B[39m\u001B[38;5;241m.\u001B[39mlog\u001B[38;5;241m.\u001B[39mwarning(\u001B[38;5;124m\"\u001B[39m\u001B[38;5;124mInvalid Message:\u001B[39m\u001B[38;5;124m\"\u001B[39m, exc_info\u001B[38;5;241m=\u001B[39m\u001B[38;5;28;01mTrue\u001B[39;00m)\n",
      "\u001B[1;31mKeyboardInterrupt\u001B[0m: Interrupted by user"
     ]
    }
   ],
   "execution_count": 19
  },
  {
   "metadata": {
    "ExecuteTime": {
     "end_time": "2024-12-23T01:24:15.247563Z",
     "start_time": "2024-12-23T01:24:15.244946Z"
    }
   },
   "cell_type": "code",
   "source": [
    "test = {'김밥': 1000, '라면': 2000, '돈까쓰': 3000}\n",
    "\n",
    "print(test.setdefault('추가쓰', 3400))\n",
    "print(test.keys())\n",
    "print(test.values())"
   ],
   "id": "3655594434889067",
   "outputs": [
    {
     "name": "stdout",
     "output_type": "stream",
     "text": [
      "3400\n",
      "dict_keys([44, 22, 55, '추가쓰'])\n",
      "dict_values([1000, 2000, 3000, 3400])\n"
     ]
    }
   ],
   "execution_count": 32
  },
  {
   "metadata": {
    "ExecuteTime": {
     "end_time": "2024-12-23T02:45:16.451628Z",
     "start_time": "2024-12-23T02:44:56.833663Z"
    }
   },
   "cell_type": "code",
   "source": [
    "todo_list = []\n",
    "\n",
    "while True:\n",
    "  menu = input('메뉴 선택(1. 추가, 2. 삭제, 0. 종료)?')\n",
    "  if menu == '1':\n",
    "    todo = input('추가할 내용: ')\n",
    "    todo_list.append(todo)\n",
    "  elif menu == '2':\n",
    "    num = int(input('삭제할 내용의 번호: '))\n",
    "    todo_list.pop(num-1)\n",
    "  elif menu == '0':\n",
    "    break\n",
    "\n",
    "  print('******************')\n",
    "  for i in range(len(todo_list)):\n",
    "    print((i+1), todo_list[i])\n"
   ],
   "id": "e83730de5bf50ee0",
   "outputs": [
    {
     "name": "stdout",
     "output_type": "stream",
     "text": [
      "******************\n",
      "1 tst\n",
      "******************\n",
      "1 tst\n",
      "2 testee\n",
      "******************\n",
      "1 testee\n",
      "******************\n",
      "1 testee\n",
      "2 testteststst\n",
      "******************\n",
      "1 testteststst\n"
     ]
    }
   ],
   "execution_count": 62
  },
  {
   "metadata": {
    "ExecuteTime": {
     "end_time": "2024-12-23T02:25:03.812451Z",
     "start_time": "2024-12-23T02:24:56.159469Z"
    }
   },
   "cell_type": "code",
   "source": [
    "phone_book = {'기뮤림', '010-1234-1234', '가가가', '010-1234-5678', '나나나', '010-1234-9999'}\n",
    "\n",
    "while True:\n",
    "  menu = input('메뉴 선택(1. 추가, 2. 삭제, 0. 종료)?')\n",
    "  if menu == '1':\n",
    "    name = input('친구 이름 입력: ')\n",
    "    phone_num = input('전화번호 입력: ')\n",
    "    phone_book.add((name, phone_num))\n",
    "  elif menu == '2':\n",
    "    name = input('친구 이름 입력: ')\n",
    "    phone_book.remove(name)\n",
    "  else:\n",
    "    print('프로그램 종료오오오오오오')\n",
    "    break\n",
    "  print(phone_book)"
   ],
   "id": "128db77e3081c953",
   "outputs": [
    {
     "name": "stdout",
     "output_type": "stream",
     "text": [
      "{'나나나', '010-1234-1234', '가가가', '010-1234-9999', '기뮤림', '010-1234-5678'}\n",
      "{'나나나', '010-1234-1234', '가가가', '010-1234-9999', '010-1234-5678'}\n"
     ]
    }
   ],
   "execution_count": 50
  },
  {
   "metadata": {
    "ExecuteTime": {
     "end_time": "2024-12-23T05:32:27.353177Z",
     "start_time": "2024-12-23T05:32:27.350419Z"
    }
   },
   "cell_type": "code",
   "source": [
    "# tuple 은 불변객체임.\n",
    "t1 = ()\n",
    "print(type(t1))\n",
    "t2 = (1, 2, 3)\n",
    "print(t2)\n",
    "# 값 변경 불가능\n",
    "# t2[0] = 33\n",
    "print(t2)\n",
    "print(type(t2))\n",
    "t3 = (1, 2, 3, ('a', 'b'))\n",
    "print(t3[3])"
   ],
   "id": "24292972b0fcc41f",
   "outputs": [
    {
     "name": "stdout",
     "output_type": "stream",
     "text": [
      "<class 'tuple'>\n",
      "(1, 2, 3)\n",
      "(1, 2, 3)\n",
      "<class 'tuple'>\n",
      "('a', 'b')\n"
     ]
    }
   ],
   "execution_count": 71
  },
  {
   "metadata": {
    "ExecuteTime": {
     "end_time": "2024-12-23T05:36:55.115275Z",
     "start_time": "2024-12-23T05:36:53.229593Z"
    }
   },
   "cell_type": "code",
   "source": [
    "fruits = ['사과', '포도', '홍시']\n",
    "fruit = input('좋아하는 과일은? ')\n",
    "\n",
    "if fruit in fruits:\n",
    "  print('정답 입니다! ')\n",
    "else:\n",
    "  print('땡')"
   ],
   "id": "b23aa7d2b8af221f",
   "outputs": [
    {
     "name": "stdout",
     "output_type": "stream",
     "text": [
      "정답 입니다! \n"
     ]
    }
   ],
   "execution_count": 74
  },
  {
   "metadata": {
    "ExecuteTime": {
     "end_time": "2024-12-23T06:15:40.779928Z",
     "start_time": "2024-12-23T06:15:40.776794Z"
    }
   },
   "cell_type": "code",
   "source": [
    "# 내장 함수 확인\n",
    "\n",
    "dir(__builtins__)"
   ],
   "id": "e311881bfbab1db8",
   "outputs": [
    {
     "data": {
      "text/plain": [
       "['ArithmeticError',\n",
       " 'AssertionError',\n",
       " 'AttributeError',\n",
       " 'BaseException',\n",
       " 'BaseExceptionGroup',\n",
       " 'BlockingIOError',\n",
       " 'BrokenPipeError',\n",
       " 'BufferError',\n",
       " 'BytesWarning',\n",
       " 'ChildProcessError',\n",
       " 'ConnectionAbortedError',\n",
       " 'ConnectionError',\n",
       " 'ConnectionRefusedError',\n",
       " 'ConnectionResetError',\n",
       " 'DeprecationWarning',\n",
       " 'EOFError',\n",
       " 'Ellipsis',\n",
       " 'EncodingWarning',\n",
       " 'EnvironmentError',\n",
       " 'Exception',\n",
       " 'ExceptionGroup',\n",
       " 'False',\n",
       " 'FileExistsError',\n",
       " 'FileNotFoundError',\n",
       " 'FloatingPointError',\n",
       " 'FutureWarning',\n",
       " 'GeneratorExit',\n",
       " 'IOError',\n",
       " 'ImportError',\n",
       " 'ImportWarning',\n",
       " 'IndentationError',\n",
       " 'IndexError',\n",
       " 'InterruptedError',\n",
       " 'IsADirectoryError',\n",
       " 'KeyError',\n",
       " 'KeyboardInterrupt',\n",
       " 'LookupError',\n",
       " 'MemoryError',\n",
       " 'ModuleNotFoundError',\n",
       " 'NameError',\n",
       " 'None',\n",
       " 'NotADirectoryError',\n",
       " 'NotImplemented',\n",
       " 'NotImplementedError',\n",
       " 'OSError',\n",
       " 'OverflowError',\n",
       " 'PendingDeprecationWarning',\n",
       " 'PermissionError',\n",
       " 'ProcessLookupError',\n",
       " 'PythonFinalizationError',\n",
       " 'RecursionError',\n",
       " 'ReferenceError',\n",
       " 'ResourceWarning',\n",
       " 'RuntimeError',\n",
       " 'RuntimeWarning',\n",
       " 'StopAsyncIteration',\n",
       " 'StopIteration',\n",
       " 'SyntaxError',\n",
       " 'SyntaxWarning',\n",
       " 'SystemError',\n",
       " 'SystemExit',\n",
       " 'TabError',\n",
       " 'TimeoutError',\n",
       " 'True',\n",
       " 'TypeError',\n",
       " 'UnboundLocalError',\n",
       " 'UnicodeDecodeError',\n",
       " 'UnicodeEncodeError',\n",
       " 'UnicodeError',\n",
       " 'UnicodeTranslateError',\n",
       " 'UnicodeWarning',\n",
       " 'UserWarning',\n",
       " 'ValueError',\n",
       " 'Warning',\n",
       " 'WindowsError',\n",
       " 'ZeroDivisionError',\n",
       " '_IncompleteInputError',\n",
       " '__IPYTHON__',\n",
       " '__build_class__',\n",
       " '__debug__',\n",
       " '__doc__',\n",
       " '__import__',\n",
       " '__loader__',\n",
       " '__name__',\n",
       " '__package__',\n",
       " '__spec__',\n",
       " 'abs',\n",
       " 'aiter',\n",
       " 'all',\n",
       " 'anext',\n",
       " 'any',\n",
       " 'ascii',\n",
       " 'bin',\n",
       " 'bool',\n",
       " 'breakpoint',\n",
       " 'bytearray',\n",
       " 'bytes',\n",
       " 'callable',\n",
       " 'chr',\n",
       " 'classmethod',\n",
       " 'compile',\n",
       " 'complex',\n",
       " 'copyright',\n",
       " 'credits',\n",
       " 'delattr',\n",
       " 'dict',\n",
       " 'dir',\n",
       " 'display',\n",
       " 'divmod',\n",
       " 'enumerate',\n",
       " 'eval',\n",
       " 'exec',\n",
       " 'execfile',\n",
       " 'filter',\n",
       " 'float',\n",
       " 'format',\n",
       " 'frozenset',\n",
       " 'get_ipython',\n",
       " 'getattr',\n",
       " 'globals',\n",
       " 'hasattr',\n",
       " 'hash',\n",
       " 'help',\n",
       " 'hex',\n",
       " 'id',\n",
       " 'input',\n",
       " 'int',\n",
       " 'isinstance',\n",
       " 'issubclass',\n",
       " 'iter',\n",
       " 'len',\n",
       " 'license',\n",
       " 'list',\n",
       " 'locals',\n",
       " 'map',\n",
       " 'max',\n",
       " 'memoryview',\n",
       " 'min',\n",
       " 'next',\n",
       " 'object',\n",
       " 'oct',\n",
       " 'open',\n",
       " 'ord',\n",
       " 'pow',\n",
       " 'print',\n",
       " 'property',\n",
       " 'range',\n",
       " 'repr',\n",
       " 'reversed',\n",
       " 'round',\n",
       " 'runfile',\n",
       " 'set',\n",
       " 'setattr',\n",
       " 'slice',\n",
       " 'sorted',\n",
       " 'staticmethod',\n",
       " 'str',\n",
       " 'sum',\n",
       " 'super',\n",
       " 'tuple',\n",
       " 'type',\n",
       " 'vars',\n",
       " 'zip']"
      ]
     },
     "execution_count": 76,
     "metadata": {},
     "output_type": "execute_result"
    }
   ],
   "execution_count": 76
  },
  {
   "metadata": {
    "ExecuteTime": {
     "end_time": "2024-12-23T06:43:36.644446Z",
     "start_time": "2024-12-23T06:43:36.641734Z"
    }
   },
   "cell_type": "code",
   "source": [
    "# 사용자 정의 함수\n",
    "def add(a, b):\n",
    "  return a + b\n",
    "\n",
    "add(1, 2)\n",
    "\n",
    "def hello(name):\n",
    "  print(f'{name}, 안녕!? ')\n",
    "\n",
    "hello('리마')\n"
   ],
   "id": "9458bba24ea43fd1",
   "outputs": [
    {
     "name": "stdout",
     "output_type": "stream",
     "text": [
      "리마, 안녕!? \n"
     ]
    }
   ],
   "execution_count": 87
  },
  {
   "metadata": {
    "ExecuteTime": {
     "end_time": "2024-12-23T07:12:56.443359Z",
     "start_time": "2024-12-23T07:12:56.441177Z"
    }
   },
   "cell_type": "code",
   "source": [
    "def num_max(a, b, c):\n",
    "  max_num = a\n",
    "\n",
    "  if b > max_num:\n",
    "    max_num = b\n",
    "  if c > max_num:\n",
    "    max_num = c\n",
    "  return max_num\n",
    "\n",
    "num = num_max(123, 12, 22)\n",
    "print(num)"
   ],
   "id": "f3b5613d2bc5729",
   "outputs": [
    {
     "name": "stdout",
     "output_type": "stream",
     "text": [
      "e\n"
     ]
    }
   ],
   "execution_count": 108
  },
  {
   "metadata": {
    "ExecuteTime": {
     "end_time": "2024-12-23T07:18:48.652200Z",
     "start_time": "2024-12-23T07:18:48.649841Z"
    }
   },
   "cell_type": "code",
   "source": [
    "def num_min(array):\n",
    "  min_num = array[0]\n",
    "  for e in array:\n",
    "    if e < min_num:\n",
    "      min_num = e\n",
    "  return min_num\n",
    "\n",
    "arry_min = num_min([52, 273, 32, 103, 275, 24, 57])\n",
    "print(arry_min)"
   ],
   "id": "e828b2292894bdf6",
   "outputs": [
    {
     "name": "stdout",
     "output_type": "stream",
     "text": [
      "24\n"
     ]
    }
   ],
   "execution_count": 111
  },
  {
   "metadata": {
    "ExecuteTime": {
     "end_time": "2024-12-23T07:19:49.306988Z",
     "start_time": "2024-12-23T07:19:49.304726Z"
    }
   },
   "cell_type": "code",
   "source": [
    "def print_even (my_list):\n",
    "  for e in my_list:\n",
    "    if e % 2 == 0:\n",
    "      print(e)\n",
    "\n",
    "print_even([52, 273, 32, 103, 275, 24, 57])\n"
   ],
   "id": "b4513e2b225f2295",
   "outputs": [
    {
     "name": "stdout",
     "output_type": "stream",
     "text": [
      "52\n",
      "32\n",
      "24\n"
     ]
    }
   ],
   "execution_count": 113
  },
  {
   "metadata": {
    "ExecuteTime": {
     "end_time": "2024-12-23T08:02:59.554333Z",
     "start_time": "2024-12-23T08:02:59.551207Z"
    }
   },
   "cell_type": "code",
   "source": [
    "def 윤년찾기(year):\n",
    "  if year % 4 == 0 and year % 100 != 0 or year % 400 == 0:\n",
    "    return '윤년이여라'\n",
    "  else:\n",
    "    return '윤년이 아니여라'\n",
    "윤년찾기(1996)"
   ],
   "id": "4f0b6e0ac6b06cea",
   "outputs": [
    {
     "data": {
      "text/plain": [
       "'윤년이여라'"
      ]
     },
     "execution_count": 120,
     "metadata": {},
     "output_type": "execute_result"
    }
   ],
   "execution_count": 120
  },
  {
   "metadata": {
    "ExecuteTime": {
     "end_time": "2024-12-23T08:15:04.058743Z",
     "start_time": "2024-12-23T08:15:04.056130Z"
    }
   },
   "cell_type": "code",
   "source": [
    "def add_many(*args):\n",
    "  result = 0\n",
    "  for e in args:\n",
    "    result += e\n",
    "  return result\n",
    "\n",
    "print(add_many(1, 2, 3, 4, 5))\n",
    "print(add_many(1, 2, 3, 4, 5, 6, 7, 8, 9, 10))"
   ],
   "id": "872b8a63243a3fe3",
   "outputs": [
    {
     "name": "stdout",
     "output_type": "stream",
     "text": [
      "15\n",
      "55\n"
     ]
    }
   ],
   "execution_count": 121
  },
  {
   "metadata": {
    "ExecuteTime": {
     "end_time": "2024-12-23T08:22:34.624879Z",
     "start_time": "2024-12-23T08:22:34.622277Z"
    }
   },
   "cell_type": "code",
   "source": [
    "def add_mul(choice, *args):\n",
    "  result = 0\n",
    "  if choice == 'add':\n",
    "    for e in args:\n",
    "      result += e\n",
    "  elif choice == 'mul':\n",
    "    for e in args:\n",
    "      result *= e\n",
    "  return result\n",
    "print(add_mul('add', 1, 2, 3, 4, 5))\n",
    "\n"
   ],
   "id": "7627737d54e8028a",
   "outputs": [
    {
     "name": "stdout",
     "output_type": "stream",
     "text": [
      "15\n"
     ]
    }
   ],
   "execution_count": 122
  },
  {
   "metadata": {
    "ExecuteTime": {
     "end_time": "2024-12-23T08:40:52.303781Z",
     "start_time": "2024-12-23T08:40:52.301431Z"
    }
   },
   "cell_type": "code",
   "source": [
    "def func(a, b):\n",
    "  return a + b, a - b, a * b, a // b\n",
    "\n",
    "print(func(1, 2))"
   ],
   "id": "45d3386b4abf875a",
   "outputs": [
    {
     "name": "stdout",
     "output_type": "stream",
     "text": [
      "(3, -1, 2, 0)\n"
     ]
    }
   ],
   "execution_count": 124
  }
 ],
 "metadata": {
  "kernelspec": {
   "display_name": "Python 3",
   "language": "python",
   "name": "python3"
  },
  "language_info": {
   "codemirror_mode": {
    "name": "ipython",
    "version": 2
   },
   "file_extension": ".py",
   "mimetype": "text/x-python",
   "name": "python",
   "nbconvert_exporter": "python",
   "pygments_lexer": "ipython2",
   "version": "2.7.6"
  }
 },
 "nbformat": 4,
 "nbformat_minor": 5
}
